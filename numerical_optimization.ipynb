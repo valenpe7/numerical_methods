{
 "cells": [
  {
   "cell_type": "code",
   "execution_count": 17,
   "metadata": {
    "collapsed": true
   },
   "outputs": [],
   "source": [
    "import numpy as np\n",
    "import matplotlib.pyplot as plt\n",
    "%matplotlib inline"
   ]
  },
  {
   "cell_type": "code",
   "execution_count": 232,
   "metadata": {
    "collapsed": true
   },
   "outputs": [],
   "source": [
    "def golden_section_search(f, a, b, n_max=500, tol=1.0e-8):\n",
    "    \"\"\"\n",
    "    Finds the minimum of function using golden section search.\n",
    "    Args:\n",
    "        f (array_like): a strictly unimodal function on [a,b]\n",
    "        a (float): left-hand side point of the interval\n",
    "        b (float): right-hand side point of the interval\n",
    "    Returns:\n",
    "        float: a coordinate of minimum\n",
    "    \"\"\"\n",
    "    gr = (np.sqrt(5) + 1.0) / 2.0\n",
    "    n = 0\n",
    "    while n <= n_max:\n",
    "        c = b - (b - a) / gr\n",
    "        d = a + (b - a) / gr \n",
    "        if abs(c - d) < tol:\n",
    "            return (b + a) / 2.0\n",
    "        if f(c) < f(d):\n",
    "            b = d\n",
    "        else:\n",
    "            a = c\n",
    "        n += 1\n",
    "    raise RuntimeError('minimum not found using', n_max, 'iterations')"
   ]
  },
  {
   "cell_type": "code",
   "execution_count": 233,
   "metadata": {},
   "outputs": [
    {
     "name": "stdout",
     "output_type": "stream",
     "text": [
      "1.00000001825 2.0\n"
     ]
    },
    {
     "data": {
      "image/png": "[encoded data removed]",
      "text/plain": [
       "<matplotlib.figure.Figure at 0x2778745ddd8>"
      ]
     },
     "metadata": {},
     "output_type": "display_data"
    }
   ],
   "source": [
    "def f(x):\n",
    "    return x**2 - 2 * x + 3\n",
    "\n",
    "min = golden_section_search(f, -5.0, 5.0)\n",
    "print(min, f(min))\n",
    "\n",
    "x = np.linspace(-5.0, 5.0, 1000)\n",
    "\n",
    "fig = plt.figure()\n",
    "ax = fig.add_subplot(1,1,1)\n",
    "ax.plot(x, f(x), label='f(x) = x^2 - 2 * x + 3')\n",
    "ax.plot(min, f(min), 'o', label='min')\n",
    "ax.legend()\n",
    "ax.grid()"
   ]
  },
  {
   "cell_type": "code",
   "execution_count": 241,
   "metadata": {},
   "outputs": [],
   "source": [
    "def parabolic_interpolation_search(f, a, b, c, tol=1.0e-8):\n",
    "    if (f(a) > f(b) and f(b) > f(c)) or (f(a) < f(b) and f(b) < f(c)):\n",
    "        raise RuntimeError('')\n",
    "    x_min = b + 0.5 * ((f(a) - f(b)) * (c - b)**2 - (f(c) - f(b)) * (b - a)**2) \\\n",
    "    / ((f(a) - f(b)) * (c - b) + (f(c) - f(b)) * ( b - a))\n",
    "    if abs(x_min - b) < tol: return b\n",
    "    if x_min < b:\n",
    "        return parabolic_interpolation(f, a, x_min, b)\n",
    "    elif x_min > b:\n",
    "        return parabolic_interpolation(f, b, x_min, c)\n",
    "    else:\n",
    "        return parabolic_interpolation(f, a, a + np.random.rand(1) / abs(c - a), c)"
   ]
  },
  {
   "cell_type": "code",
   "execution_count": 242,
   "metadata": {
    "scrolled": true
   },
   "outputs": [
    {
     "name": "stdout",
     "output_type": "stream",
     "text": [
      "1.0 2.0\n"
     ]
    },
    {
     "data": {
      "image/png": "[encoded data removed]",
      "text/plain": [
       "<matplotlib.figure.Figure at 0x277875090f0>"
      ]
     },
     "metadata": {},
     "output_type": "display_data"
    }
   ],
   "source": [
    "def f(x):\n",
    "    return x**2 - 2 * x + 3\n",
    "\n",
    "min = parabolic_interpolation_search(f, -5.0, 0.0, 5.0)\n",
    "print(min, f(min))\n",
    "\n",
    "x = np.linspace(-5.0, 5.0, 1000)\n",
    "\n",
    "fig = plt.figure()\n",
    "ax = fig.add_subplot(1,1,1)\n",
    "ax.plot(x, f(x), label='f(x) = x^2 - 2 * x + 3')\n",
    "ax.plot(min, f(min), 'o', label='min')\n",
    "ax.legend()\n",
    "ax.grid()"
   ]
  },
  {
   "cell_type": "code",
   "execution_count": 280,
   "metadata": {
    "collapsed": true
   },
   "outputs": [],
   "source": [
    "def lagrange_interpolation(x, y):\n",
    "    \"\"\"\n",
    "    Calculates a Lagrange interpolating polynomial.\n",
    "    Args:\n",
    "        x (array_like): X-coordinates of a set of datapoints\n",
    "        y (array_like): Y-coordinates of a set of datapoints\n",
    "    Returns:\n",
    "        numpy.poly1d: The Lagrange interpolating polynomial\n",
    "    \"\"\"\n",
    "    n = len(x)\n",
    "    L = np.poly1d(0)\n",
    "    for i in range(n):\n",
    "        F = np.poly1d(1)\n",
    "        for j in range(n):\n",
    "            if j == i:\n",
    "                continue\n",
    "            F *= np.poly1d([1., -x[j]]) / (x[i] - x[j])\n",
    "        L += y[i] * F\n",
    "    return L"
   ]
  },
  {
   "cell_type": "code",
   "execution_count": 281,
   "metadata": {
    "collapsed": true
   },
   "outputs": [],
   "source": [
    "def parabolic_interpolation_search2(f, x, n_max=500, tol=1.0e-8):\n",
    "    n = 0\n",
    "    while n <= n_max:\n",
    "        #poly = np.polyfit(x, f(x), 2)\n",
    "        #x_min = -poly[1] / (2.0 * poly[0])\n",
    "        poly = lagrange_interpolation(x, f(x))\n",
    "        x_min = -poly[1] / (2.0 * poly[2])\n",
    "        x[0] = x[1]\n",
    "        x[1] = x[2]\n",
    "        x[2] = x_min\n",
    "        if abs(x[2] - x[1]) / abs(x[2]) < tol:\n",
    "            return x[2]\n",
    "        n += 1\n",
    "    raise RuntimeError('minimum not found using', n_max, 'iterations')"
   ]
  },
  {
   "cell_type": "code",
   "execution_count": 282,
   "metadata": {
    "scrolled": false
   },
   "outputs": [
    {
     "name": "stdout",
     "output_type": "stream",
     "text": [
      "3.75629835562 -16.0394834903\n"
     ]
    },
    {
     "data": {
      "image/png": "[encoded data removed]",
      "text/plain": [
       "<matplotlib.figure.Figure at 0x27787576748>"
      ]
     },
     "metadata": {},
     "output_type": "display_data"
    }
   ],
   "source": [
    "def f(x):\n",
    "    return x**2 * np.cos(x) - 2 * x + 3\n",
    "\n",
    "points = np.array([-1.0, 3.0, 5.0])\n",
    "\n",
    "min = parabolic_interpolation_search2(f, points)\n",
    "print(min, f(min))\n",
    "\n",
    "x = np.linspace(-5.0, 5.0, 1000)\n",
    "\n",
    "fig = plt.figure()\n",
    "ax = fig.add_subplot(1,1,1)\n",
    "ax.plot(x, f(x), label='f(x) = x^2 - 2 * x + 3')\n",
    "ax.plot(min, f(min), 'o', label='min')\n",
    "ax.legend()\n",
    "ax.grid()"
   ]
  },
  {
   "cell_type": "code",
   "execution_count": null,
   "metadata": {
    "collapsed": true
   },
   "outputs": [],
   "source": [
    "def nelder_mead_mead():\n",
    "    # add code here\n",
    "    return:"
   ]
  },
  {
   "cell_type": "code",
   "execution_count": 283,
   "metadata": {
    "collapsed": true
   },
   "outputs": [],
   "source": [
    "def conjugate_gradient_method():\n",
    "    # add code here\n",
    "    return"
   ]
  }
 ],
 "metadata": {
  "kernelspec": {
   "display_name": "Python 3",
   "language": "python",
   "name": "python3"
  },
  "language_info": {
   "codemirror_mode": {
    "name": "ipython",
    "version": 3
   },
   "file_extension": ".py",
   "mimetype": "text/x-python",
   "name": "python",
   "nbconvert_exporter": "python",
   "pygments_lexer": "ipython3",
   "version": "3.6.3"
  }
 },
 "nbformat": 4,
 "nbformat_minor": 2
}
