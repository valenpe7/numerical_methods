{
 "cells": [
  {
   "cell_type": "code",
   "execution_count": 16,
   "metadata": {
    "collapsed": true
   },
   "outputs": [],
   "source": [
    "import numpy as np\n",
    "import numpy.linalg as la\n",
    "import matplotlib.pyplot as plt\n",
    "%matplotlib inline"
   ]
  },
  {
   "cell_type": "code",
   "execution_count": 20,
   "metadata": {
    "collapsed": true
   },
   "outputs": [],
   "source": [
    "def matrix_vector_product(A, x):\n",
    "    \"\"\"\n",
    "    Calculates matrix-vector product.\n",
    "    Args:\n",
    "        A (array_like): A m-by-n matrix\n",
    "        x (array_like): Vector of size n\n",
    "    Returns:\n",
    "        ndarray: Matrix-vector product\n",
    "    \"\"\"\n",
    "    m, n = A.shape\n",
    "    b = np.zeros(m)\n",
    "    for i in range(m):\n",
    "        for j in range(n):\n",
    "            b[i] += A[i,j] * x[j]\n",
    "    return b"
   ]
  },
  {
   "cell_type": "code",
   "execution_count": 45,
   "metadata": {
    "scrolled": true
   },
   "outputs": [
    {
     "name": "stdout",
     "output_type": "stream",
     "text": [
      "[ 0.85582148  1.15336365  0.920908  ]\n",
      "[ 0.85582148  1.15336365  0.920908  ]\n"
     ]
    }
   ],
   "source": [
    "# test of the matrix_vector_product function\n",
    "A = np.random.rand(3, 3)\n",
    "x = np.random.rand(3)\n",
    "print(matrix_vector_product(A, x))\n",
    "print(np.dot(A, x))"
   ]
  },
  {
   "cell_type": "code",
   "execution_count": 32,
   "metadata": {
    "collapsed": true
   },
   "outputs": [],
   "source": [
    "def matrix_matrix_product(A, B):\n",
    "    \"\"\"\n",
    "    Calculates matrix-matrix product.\n",
    "    Args:\n",
    "        A (array_like): A m-by-n matrix\n",
    "        B (array_like): A n-by-p matrix\n",
    "    Returns:\n",
    "        ndarray: Matrix-matrix product\n",
    "    \"\"\"\n",
    "    m, n = A.shape\n",
    "    n, p = B.shape\n",
    "    C = np.zeros((m, p))\n",
    "    for i in range(m):\n",
    "        for j in range(p):\n",
    "            for k in range(n):\n",
    "                C[i,j] += A[i,k] * B[k,j]\n",
    "    return C"
   ]
  },
  {
   "cell_type": "code",
   "execution_count": 44,
   "metadata": {},
   "outputs": [
    {
     "name": "stdout",
     "output_type": "stream",
     "text": [
      "[[ 0.86787944  1.34268978  0.95902293]\n",
      " [ 1.31335296  2.07779107  1.43701576]\n",
      " [ 0.73857971  1.09117205  0.66714489]]\n",
      "[[ 0.86787944  1.34268978  0.95902293]\n",
      " [ 1.31335296  2.07779107  1.43701576]\n",
      " [ 0.73857971  1.09117205  0.66714489]]\n"
     ]
    }
   ],
   "source": [
    "# test of the matrix_matrix_product function\n",
    "A = np.random.rand(3, 3)\n",
    "B = np.random.rand(3, 3)\n",
    "print(matrix_matrix_product(A, B))\n",
    "print(np.dot(A, B))"
   ]
  },
  {
   "cell_type": "code",
   "execution_count": 9,
   "metadata": {
    "collapsed": true
   },
   "outputs": [],
   "source": [
    "def forward_substitution(A, b):\n",
    "    \"\"\"\n",
    "    Solves a system of linear equation with lower triangular matrix.\n",
    "    Args:\n",
    "        A (array_like): A n-by-n lower triangular matrix\n",
    "        b (array_like): RHS vector of size n\n",
    "    Returns:\n",
    "        ndarray: Vector of solution\n",
    "    \"\"\"\n",
    "    n, n = A.shape\n",
    "    x = np.zeros(n)\n",
    "    for i in range(0, n):\n",
    "        x[i] = (b[i] - np.dot(A[i,:], x)) / A[i,i]\n",
    "    return x"
   ]
  },
  {
   "cell_type": "code",
   "execution_count": 43,
   "metadata": {},
   "outputs": [
    {
     "name": "stdout",
     "output_type": "stream",
     "text": [
      "[ 4.32098444 -4.31617618  7.14131761]\n",
      "[ 4.32098444 -4.31617618  7.14131761]\n"
     ]
    }
   ],
   "source": [
    "# test of the forward_substitution function\n",
    "A = np.tril(np.random.rand(3, 3))\n",
    "b = np.random.rand(3)\n",
    "print(forward_substitution(A, b))\n",
    "print(la.solve(A, b))"
   ]
  },
  {
   "cell_type": "code",
   "execution_count": 10,
   "metadata": {
    "collapsed": true
   },
   "outputs": [],
   "source": [
    "def backward_substitution(A, b):\n",
    "    \"\"\"\n",
    "    Solves a system of linear equation with upper triangular matrix.\n",
    "    Args:\n",
    "        A (array_like): A n-by-n upper triangular matrix\n",
    "        b (array_like): RHS vector of size n\n",
    "    Returns:\n",
    "        ndarray: Vector of solution\n",
    "    \"\"\"\n",
    "    n, n = A.shape\n",
    "    x = np.zeros(n)\n",
    "    for i in range(n - 1, -1, -1):\n",
    "        x[i] = (b[i] - np.dot(A[i,:], x)) / A[i,i]\n",
    "    return x"
   ]
  },
  {
   "cell_type": "code",
   "execution_count": 42,
   "metadata": {},
   "outputs": [
    {
     "name": "stdout",
     "output_type": "stream",
     "text": [
      "[-2.30033501  2.90840673  0.51824484]\n",
      "[-2.30033501  2.90840673  0.51824484]\n"
     ]
    }
   ],
   "source": [
    "# test of the backward_substitution function\n",
    "A = np.triu(np.random.rand(3, 3))\n",
    "b = np.random.rand(3)\n",
    "print(backward_substitution(A, b))\n",
    "print(la.solve(A, b))"
   ]
  },
  {
   "cell_type": "code",
   "execution_count": 11,
   "metadata": {
    "collapsed": true
   },
   "outputs": [],
   "source": [
    "def gaussian_elimination(A, b):\n",
    "    \"\"\"\n",
    "    Transform given matrix into upper triangular form, perform identical operations on RHS vector.\n",
    "    Args:\n",
    "        A (array_like): A n-by-n regular matrix\n",
    "        b (array_like): RHS vector of size n\n",
    "    Returns:\n",
    "        ndarray: Upper triangular matrix\n",
    "        ndarray: RHS vector corresponding to upper triangular matrix\n",
    "    \"\"\"\n",
    "    n, n = A.shape\n",
    "    tmp = np.zeros((n, n + 1))\n",
    "    tmp[:,:-1] = A\n",
    "    tmp[:,-1] = b\n",
    "    for i in range(0, n):  \n",
    "        # return the index of max. row relatively to i (max_row 0 means that the i-th row has maximum)\n",
    "        max_row = np.argmax(A[i:,i])\n",
    "        if (max_row != 0):\n",
    "            row_i = np.copy(tmp[i,:])\n",
    "            tmp[i,:] = np.copy(tmp[i+max_row,:])\n",
    "            tmp[i+max_row,:] = np.copy(row_i)    \n",
    "        for j in range(i + 1, n):\n",
    "            tmp[j,:] = tmp[j,:] - (tmp[j,i] / tmp[i,i]) * tmp[i,:]      \n",
    "    return tmp[:,:-1], tmp[:,-1]"
   ]
  },
  {
   "cell_type": "code",
   "execution_count": 68,
   "metadata": {
    "scrolled": true
   },
   "outputs": [
    {
     "name": "stdout",
     "output_type": "stream",
     "text": [
      "[ 1.19579821 -1.18796401  1.41614536]\n",
      "[ 1.19579821 -1.18796401  1.41614536]\n"
     ]
    }
   ],
   "source": [
    "# test of the gaussian_elimination function\n",
    "A = np.random.rand(3, 3)\n",
    "b = np.random.rand(3)\n",
    "A_upper, bb = gaussian_elimination(A, b)\n",
    "print(backward_substitution(A_upper, bb))\n",
    "print(la.solve(A, b))"
   ]
  },
  {
   "cell_type": "code",
   "execution_count": 12,
   "metadata": {
    "collapsed": true
   },
   "outputs": [],
   "source": [
    "def lu_decomposition(A):\n",
    "    \"\"\"\n",
    "    Decompose given matrix into a product of a lower and an upper triangular matrix.\n",
    "    Args:\n",
    "        A (array_like): A n-by-n regular matrix\n",
    "    Returns:\n",
    "        ndarray: Lower triangular matrix\n",
    "        ndarray: Upper triangular matrix\n",
    "    \"\"\"\n",
    "    n, n = A.shape\n",
    "    L = np.zeros((n, n))\n",
    "    U = np.zeros((n, n))\n",
    "    for i in range(0, n):\n",
    "        for j in range(i, n):\n",
    "            U[i,j] = A[i,j] - np.dot(L[i,:], U[:,j])\n",
    "        for j in range(i, n):\n",
    "            L[j,i] = (A[j,i] - np.dot(L[j,:], U[:,i])) / U[i,i]\n",
    "    return L, U"
   ]
  },
  {
   "cell_type": "code",
   "execution_count": 73,
   "metadata": {},
   "outputs": [
    {
     "name": "stdout",
     "output_type": "stream",
     "text": [
      "[  7.22333086   0.75865305 -10.09360607]\n",
      "[  7.22333086   0.75865305 -10.09360607]\n"
     ]
    }
   ],
   "source": [
    "# test of the lu_decomposition function\n",
    "A = np.random.rand(3, 3)\n",
    "b = np.random.rand(3)\n",
    "L, U = lu_decomposition(A)\n",
    "y = forward_substitution(L, b)\n",
    "x = backward_substitution(U, y)\n",
    "print(x)\n",
    "print(la.solve(A, b))"
   ]
  },
  {
   "cell_type": "code",
   "execution_count": 13,
   "metadata": {
    "collapsed": true
   },
   "outputs": [],
   "source": [
    "def thomas_algorithm(A, f):\n",
    "    \"\"\"\n",
    "    Solves system of linear equations with tridiagonal matrix using Thomas' algorithm.\n",
    "    Args:\n",
    "        A (array_like): A n-by-n regular matrix\n",
    "        f (array_like): RHS vector of size n\n",
    "    Returns:\n",
    "        ndarray: Vector of solution\n",
    "    \"\"\"\n",
    "    n, n = A.shape # get the size of input matrix\n",
    "    c = np.diag(A, -1) # get elements below diagonal \n",
    "    a = np.diag(A, 0) # get elements on diagonal\n",
    "    b = np.diag(A, 1) # get elements above diagonal\n",
    "    c = np.insert(c, 0, 0.) # insert 0 as a first element of c\n",
    "    b = np.insert(b, b.size, 0.) # insert 0 as a last element of b\n",
    "    x = np.zeros(n + 1) \n",
    "    rho = np.zeros(n + 1)\n",
    "    mu  = np.zeros(n + 1)\n",
    "    for i in range(0, n):\n",
    "        mu[i] = -b[i] / (c[i] * mu[i-1] + a[i])\n",
    "        rho[i] = (f[i] - c[i] * rho[i-1]) / (c[i] * mu[i-1] + a[i])\n",
    "    for i in range(n-1, -1, -1):\n",
    "        x[i] = mu[i] * x[i+1] + rho[i]\n",
    "    return x[:-1]"
   ]
  },
  {
   "cell_type": "code",
   "execution_count": 111,
   "metadata": {},
   "outputs": [
    {
     "name": "stdout",
     "output_type": "stream",
     "text": [
      "[ 0.68244088 -0.18589126 -0.02155454  0.71584894  0.60568739]\n",
      "[ 0.68244088 -0.18589126 -0.02155454  0.71584894  0.60568739]\n"
     ]
    }
   ],
   "source": [
    "# test of the thomas_algorithm function\n",
    "A = np.random.rand(5, 5)\n",
    "b = np.random.rand(5)\n",
    "\n",
    "# create tridiagonal matrix from random matrix A\n",
    "for i in range(0, 3):\n",
    "    for j in range(i + 2, 5):\n",
    "        A[i,j] = 0.0\n",
    "        \n",
    "for i in range(2, 5):\n",
    "    for j in range(0, i - 1):\n",
    "        A[i,j] = 0.0\n",
    "        \n",
    "print(thomas_algorithm(A, b))\n",
    "print(la.solve(A,b))"
   ]
  },
  {
   "cell_type": "code",
   "execution_count": 14,
   "metadata": {
    "collapsed": true
   },
   "outputs": [],
   "source": [
    "def jacobi_method(A, b, max_it=500, eps=0.0):\n",
    "    \"\"\"\n",
    "    Solves system of linear equations iteratively using Jacobi's algorithm.\n",
    "    Args:\n",
    "        A (array_like): A n-by-n regular matrix\n",
    "        b (array_like): RHS vector of size n\n",
    "        max_it (int): Maximum number of iterations\n",
    "        eps (float): Error tolerance\n",
    "    Returns:\n",
    "        ndarray: Vector of solution\n",
    "    \"\"\"\n",
    "    n, n = A.shape\n",
    "    x = np.zeros(n)\n",
    "    x_new = np.zeros(n)   \n",
    "    for k in range(max_it):\n",
    "        for i in range(n):\n",
    "            x_new[i] = (1.0 / A[i,i]) * (b[i] - np.dot(A[i,:i], x[:i]) - np.dot(A[i,i+1:], x[i+1:]))           \n",
    "        x = x_new\n",
    "        if(la.norm(np.dot(A, x) - b) < eps):\n",
    "            break   \n",
    "    return x"
   ]
  },
  {
   "cell_type": "code",
   "execution_count": 122,
   "metadata": {},
   "outputs": [
    {
     "name": "stdout",
     "output_type": "stream",
     "text": [
      "[ 0.02672524  0.07000596  0.09159908]\n",
      "[ 0.02672524  0.07000596  0.09159908]\n"
     ]
    }
   ],
   "source": [
    "# test of the jacobi_method function\n",
    "A = np.random.rand(3, 3) + 10. * np.eye(3) # create diagonally dominant matrix to ensure convergence\n",
    "b = np.random.rand(3)\n",
    "print(jacobi_method(A, b, 20))\n",
    "print(la.solve(A, b))"
   ]
  },
  {
   "cell_type": "code",
   "execution_count": 15,
   "metadata": {
    "collapsed": true
   },
   "outputs": [],
   "source": [
    "def gauss_seidel_method(A, b, max_it=500, eps=0.0):\n",
    "    \"\"\"\n",
    "    Solves system of linear equations iteratively using Gauss-Seidel's algorithm.\n",
    "    Args:\n",
    "        A (array_like): A n-by-n regular matrix\n",
    "        b (array_like): RHS vector of size n\n",
    "        max_it (int): Maximum number of iterations\n",
    "        eps (float): Error tolerance\n",
    "    Returns:\n",
    "        ndarray: Vector of solution\n",
    "    \"\"\"\n",
    "    n, n = A.shape\n",
    "    x = np.zeros(n)\n",
    "    x_new = np.zeros(n)  \n",
    "    for k in range(max_it):\n",
    "        for i in range(n):\n",
    "            x_new[i] = (1.0 / A[i,i]) * (b[i] - np.dot(A[i,:i], x_new[:i]) - np.dot(A[i,i+1:], x[i+1:]))      \n",
    "        x = x_new\n",
    "        if(la.norm(np.dot(A, x) - b) < eps):\n",
    "            break  \n",
    "    return x"
   ]
  },
  {
   "cell_type": "code",
   "execution_count": 125,
   "metadata": {},
   "outputs": [
    {
     "name": "stdout",
     "output_type": "stream",
     "text": [
      "[-0.00108194  0.03062653  0.08532184]\n",
      "[-0.00108194  0.03062653  0.08532184]\n"
     ]
    }
   ],
   "source": [
    "# test of the gauss_seidel_method function\n",
    "A = np.random.rand(3, 3) + 10. * np.eye(3) # create diagonally dominant matrix to ensure convergence\n",
    "b = np.random.rand(3)\n",
    "print(gauss_seidel_method(A, b, 20))\n",
    "print(la.solve(A, b))"
   ]
  },
  {
   "cell_type": "code",
   "execution_count": 11,
   "metadata": {
    "collapsed": true
   },
   "outputs": [],
   "source": [
    "def successive_overrelaxation_method(A, b, max_it=500, eps=0.0):\n",
    "    \"\"\"\n",
    "    Solves system of linear equations iteratively using successive overrelaxation (SOR) method.\n",
    "    Args:\n",
    "        A (array_like): A n-by-n regular matrix\n",
    "        b (array_like): RHS vector of size n\n",
    "        max_it (int): Maximum number of iterations\n",
    "        eps (float): Error tolerance\n",
    "    Returns:\n",
    "        ndarray: Vector of solution\n",
    "    \"\"\"\n",
    "    n, n = A.shape\n",
    "    x = np.zeros(n)\n",
    "    x_new = np.zeros(n)\n",
    "    L = np.tril(A, -1) # get lower triangular matrix with zeros on diagonal\n",
    "    U = np.triu(A, 1) # get upper triangular matrix with zeros on diagonal\n",
    "    D = A - L - U # get diagonal matrix\n",
    "    B = -np.dot(la.inv(D + L), U) # calculate iteration matrix\n",
    "    rho = np.max(np.abs(la.eigvals(B))) # find spectral radius (i.e. maximal eigenvalue in absolute value)\n",
    "    omega = 2.0 / (1.0 + np.sqrt(np.abs(1.0 - rho**2))) # find optimal relaxation factor\n",
    "    for k in range(max_it):\n",
    "        for i in range(n):\n",
    "            x_new[i] = (1.0 / A[i,i]) * (b[i] - np.dot(A[i,:i], x_new[:i]) - np.dot(A[i,i+1:], x[i+1:]))\n",
    "        x += omega * (x_new - x)\n",
    "        if(la.norm(np.dot(A, x) - b) < eps):\n",
    "            break\n",
    "    return x"
   ]
  },
  {
   "cell_type": "code",
   "execution_count": 12,
   "metadata": {},
   "outputs": [
    {
     "name": "stdout",
     "output_type": "stream",
     "text": [
      "[ 0.07719775 -0.0095787   0.06860561]\n",
      "[ 0.07719775 -0.0095787   0.06860561]\n"
     ]
    }
   ],
   "source": [
    "# test of the successive_overrelaxation_method function\n",
    "A = np.random.rand(3, 3) + 10. * np.eye(3) # create diagonally dominant matrix to ensure convergence\n",
    "b = np.random.rand(3)\n",
    "print(successive_overrelaxation_method(A, b, 20))\n",
    "print(la.solve(A, b))"
   ]
  },
  {
   "cell_type": "code",
   "execution_count": 13,
   "metadata": {
    "collapsed": true
   },
   "outputs": [],
   "source": [
    "def power_iteration(A, max_it=500):\n",
    "    \"\"\"\n",
    "    Finds the greatest eigen value (in absolute value) of given matrix and its corresponding eigenvector.\n",
    "    Args:\n",
    "        A (array_like): A n-by-n diagonalizable matrix\n",
    "        max_it (int): Maximum number of iterations\n",
    "    Returns:\n",
    "        ndarray: Eigenvector corresponding to a greatest eigenvalue (in absolute value)\n",
    "        float: Greatest eigenvalue (in absolute value)\n",
    "    \"\"\"\n",
    "    n, n = A.shape\n",
    "    eigen_vec = np.ones(n)\n",
    "    for i in range(max_it):\n",
    "        eigen_vec_new = np.dot(A, eigen_vec)\n",
    "        eigen_vec = eigen_vec_new / la.norm(eigen_vec_new)\n",
    "    eigen_val = la.norm(np.dot(A, eigen_vec))\n",
    "    return eigen_vec, eigen_val"
   ]
  },
  {
   "cell_type": "code",
   "execution_count": 14,
   "metadata": {},
   "outputs": [
    {
     "name": "stdout",
     "output_type": "stream",
     "text": [
      "1.27801307047\n",
      "1.27801866444\n"
     ]
    }
   ],
   "source": [
    "# test of the power_iteration function\n",
    "A = np.random.rand(3, 3)\n",
    "e_vec, e_val = power_iteration(A, 20)\n",
    "print(e_val)\n",
    "print(np.max(np.abs(la.eigvals(A))))"
   ]
  }
 ],
 "metadata": {
  "kernelspec": {
   "display_name": "Python 3",
   "language": "python",
   "name": "python3"
  },
  "language_info": {
   "codemirror_mode": {
    "name": "ipython",
    "version": 3
   },
   "file_extension": ".py",
   "mimetype": "text/x-python",
   "name": "python",
   "nbconvert_exporter": "python",
   "pygments_lexer": "ipython3",
   "version": "3.6.3"
  }
 },
 "nbformat": 4,
 "nbformat_minor": 2
}
