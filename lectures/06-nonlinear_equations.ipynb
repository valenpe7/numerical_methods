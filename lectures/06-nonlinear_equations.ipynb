{
 "cells": [
  {
   "cell_type": "markdown",
   "metadata": {},
   "source": [
    "# Nonlinear Equations"
   ]
  },
  {
   "cell_type": "code",
   "execution_count": 59,
   "metadata": {},
   "outputs": [],
   "source": [
    "import numpy as np\n",
    "import scipy.linalg as la\n",
    "import matplotlib.pyplot as plt\n",
    "%matplotlib inline"
   ]
  },
  {
   "cell_type": "markdown",
   "metadata": {},
   "source": [
    "### Bisection method:"
   ]
  },
  {
   "cell_type": "code",
   "execution_count": 87,
   "metadata": {},
   "outputs": [],
   "source": [
    "def bisection(f, a, b, eps=1.0e-15, n_max=500):\n",
    "    n = 0\n",
    "    while n < n_max:\n",
    "        c = (a + b) / 2.0\n",
    "        if f(a) * f(c) < 0:\n",
    "            b = c\n",
    "        else:\n",
    "            a = c\n",
    "        if abs(b - a) < eps:\n",
    "            print(\"root found within tolerance\", eps, \"using\", n, \"iterations\")\n",
    "            return (a + b) / 2.0\n",
    "        n += 1\n",
    "    raise RuntimeError(\"no root found within tolerance\", eps, \"using\", n_max, \"iterations\")"
   ]
  },
  {
   "cell_type": "code",
   "execution_count": 88,
   "metadata": {},
   "outputs": [
    {
     "name": "stdout",
     "output_type": "stream",
     "text": [
      "root found within tolerance 1e-15 using 50 iterations\n",
      "0.5671432904097835\n"
     ]
    },
    {
     "data": {
      "text/plain": [
       "<matplotlib.legend.Legend at 0x2d70884b1d0>"
      ]
     },
     "execution_count": 88,
     "metadata": {},
     "output_type": "execute_result"
    },
    {
     "data": {
      "image/png": "[encoded data removed]",
      "text/plain": [
       "<matplotlib.figure.Figure at 0x2d70c6cf470>"
      ]
     },
     "metadata": {
      "needs_background": "light"
     },
     "output_type": "display_data"
    }
   ],
   "source": [
    "def f(x):\n",
    "    return x - np.exp(-x)\n",
    "\n",
    "root = bisection(f, -1., 1)\n",
    "print(root)\n",
    "\n",
    "x = np.linspace(-1.0, 1.0, 100)\n",
    "\n",
    "fig, ax = plt.subplots()\n",
    "ax.plot(x, f(x), label=\"f(x) = x - exp(x)\")\n",
    "ax.plot(root, f(root), marker=\"o\", label=\"root\")\n",
    "ax.axhline(y=0.0, color=\"black\", linestyle=\"--\")\n",
    "ax.set_xlabel(\"x\")\n",
    "ax.set_ylabel(\"f(x)\")\n",
    "ax.legend(loc=\"lower right\")"
   ]
  },
  {
   "cell_type": "markdown",
   "metadata": {},
   "source": [
    "### Secant method:"
   ]
  },
  {
   "cell_type": "markdown",
   "metadata": {},
   "source": [
    "How to find the point where the secant line intersects the x-axis?\n",
    "\n",
    "First, we find an equation of line $ f(x) = px + q $ passing through two points $ [a, f(a)] $ and $ [b, f(b)] $. The slope of the line $ p $ and the coefficient $ q $ can be easily obtained using basic algebra,\n",
    "\n",
    "$$ p = \\frac{f(b) - f(a)}{b - a}, \\quad q = f(a) - \\frac{f(b) - f(a)}{b - a} a . $$\n",
    "\n",
    "The point where the secant line intersects the x-axis can be obtained by solving $ f(x) = 0 $,\n",
    "\n",
    "$$ x = \\frac{a f(b) - b f(a)}{f(b) - f(a)}. $$\n",
    "\n"
   ]
  },
  {
   "cell_type": "code",
   "execution_count": 89,
   "metadata": {},
   "outputs": [],
   "source": [
    "def secant_method(f, a, b, eps=1.0e-15, n_max=500):\n",
    "    n = 0\n",
    "    while n < n_max:\n",
    "        c = (f(b) * a - f(a) * b) / (f(b) - f(a))\n",
    "        a = b\n",
    "        b = c\n",
    "        if abs(b - a) < eps:\n",
    "            print(\"root found within tolerance\", eps, \"using\", n, \"iterations\")\n",
    "            return (a + b) / 2.0\n",
    "        n += 1\n",
    "    raise RuntimeError(\"no root found within tolerance\", eps, \"using\", n_max, \"iterations\")"
   ]
  },
  {
   "cell_type": "code",
   "execution_count": 90,
   "metadata": {},
   "outputs": [
    {
     "name": "stdout",
     "output_type": "stream",
     "text": [
      "root found within tolerance 1e-15 using 6 iterations\n",
      "0.567143290409784\n"
     ]
    }
   ],
   "source": [
    "def f(x):\n",
    "    return x - np.exp(-x)\n",
    "\n",
    "root = secant_method(f, -1.0, 1.0)\n",
    "print(root)"
   ]
  },
  {
   "cell_type": "markdown",
   "metadata": {},
   "source": [
    "### False position method:"
   ]
  },
  {
   "cell_type": "code",
   "execution_count": 91,
   "metadata": {},
   "outputs": [],
   "source": [
    "def false_position_method(f, a, b, eps=1.0e-15, n_max=500):\n",
    "    n = 0\n",
    "    while n < n_max:\n",
    "        c = (f(b) * a - f(a) * b) / (f(b) - f(a))\n",
    "        if f(a) * f(c) < 0:\n",
    "            b = c\n",
    "        else:\n",
    "            a = c\n",
    "        if abs(b - a) < eps:\n",
    "            print(\"root found within tolerance\", eps, \"using\", n, \"iterations\")\n",
    "            return (a + b) / 2.0\n",
    "        n += 1\n",
    "    raise RuntimeError(\"no root found within tolerance\", eps, \"using\", n_max, \"iterations\")"
   ]
  },
  {
   "cell_type": "code",
   "execution_count": 92,
   "metadata": {},
   "outputs": [
    {
     "name": "stdout",
     "output_type": "stream",
     "text": [
      "root found within tolerance 1e-15 using 33 iterations\n",
      "0.567143290409784\n"
     ]
    }
   ],
   "source": [
    "def f(x):\n",
    "    return x - np.exp(-x)\n",
    "\n",
    "root = false_position_method(f, -1.0, 1.0)\n",
    "print(root)"
   ]
  },
  {
   "cell_type": "markdown",
   "metadata": {},
   "source": [
    "### Newton-Raphson method:"
   ]
  },
  {
   "cell_type": "code",
   "execution_count": 93,
   "metadata": {},
   "outputs": [],
   "source": [
    "def newton_raphson(f, df, x0, eps=1.0e-15, n_max=500):\n",
    "    n = 0\n",
    "    while n < n_max:\n",
    "        x1 = x0 - f(x0) / df(x0)\n",
    "        if abs(x1 - x0) < eps:\n",
    "            print(\"root found within tolerance\", eps, \"using\", n, \"iterations\")\n",
    "            return x1\n",
    "        x0 = x1\n",
    "        n += 1\n",
    "    raise RuntimeError(\"no root found within tolerance\", eps, \"using\", n_max, \"iterations\")"
   ]
  },
  {
   "cell_type": "code",
   "execution_count": 94,
   "metadata": {},
   "outputs": [
    {
     "name": "stdout",
     "output_type": "stream",
     "text": [
      "root found within tolerance 1e-15 using 5 iterations\n",
      "0.5671432904097838\n"
     ]
    }
   ],
   "source": [
    "def f(x):\n",
    "    return x - np.exp(-x)\n",
    "\n",
    "def analytic_df(x):\n",
    "    return 1 + np.exp(-x)\n",
    "\n",
    "root = newton_raphson(f, analytic_df, 0.0)\n",
    "print(root)"
   ]
  },
  {
   "cell_type": "code",
   "execution_count": 95,
   "metadata": {},
   "outputs": [
    {
     "name": "stdout",
     "output_type": "stream",
     "text": [
      "root found within tolerance 1e-15 using 5 iterations\n",
      "0.5671432904097838\n"
     ]
    }
   ],
   "source": [
    "def f(x):\n",
    "    return x - np.exp(-x)\n",
    "\n",
    "def numeric_df(x):\n",
    "    h = 1.0e-8\n",
    "    return (f(x + h) - f(x)) / h\n",
    "\n",
    "root = newton_raphson(f, numeric_df, 0.0)\n",
    "print(root)"
   ]
  },
  {
   "cell_type": "code",
   "execution_count": 96,
   "metadata": {},
   "outputs": [],
   "source": [
    "def df_dx(f, x, y, h):\n",
    "    return (f(x + h, y) - f(x, y)) / h\n",
    "\n",
    "def df_dy(f, x, y, h):\n",
    "    return (f(x, y + h) - f(x, y)) / h\n",
    "\n",
    "def newton_raphson_2d(f1, f2, x0=0, y0=0, eps=1.0e-15, n_max=500):\n",
    "    n = 0\n",
    "    J = np.zeros((2, 2))\n",
    "    b = np.zeros(2)\n",
    "    while n < n_max:\n",
    "        J[0][0] = df_dx(f1, x0, y0, 1.0e-6)\n",
    "        J[0][1] = df_dy(f1, x0, y0, 1.0e-6)\n",
    "        J[1][0] = df_dx(f2, x0, y0, 1.0e-6)\n",
    "        J[1][1] = df_dy(f2, x0, y0, 1.0e-6)\n",
    "        b[0] = -f1(x0, y0)\n",
    "        b[1] = -f2(x0, y0)\n",
    "        delta = la.solve(J, b)\n",
    "        x1 = x0 + delta[0]\n",
    "        y1 = y0 + delta[1]\n",
    "        if max(abs(x1 - x0), abs(y1 - y0)) < eps:\n",
    "            print(\"root found within tolerance\", eps, \"using\", n, \"iterations\")\n",
    "            return [x1, y1]\n",
    "        x0 = x1\n",
    "        y0 = y1\n",
    "        n += 1\n",
    "    raise RuntimeError(\"no root found within tolerance\", eps, \"using\", n_max, \"iterations\")"
   ]
  },
  {
   "cell_type": "code",
   "execution_count": 97,
   "metadata": {},
   "outputs": [
    {
     "name": "stdout",
     "output_type": "stream",
     "text": [
      "root found within tolerance 1e-15 using 5 iterations\n",
      "0.6371078452969543 0.7188187186922144\n"
     ]
    },
    {
     "data": {
      "text/plain": [
       "<matplotlib.legend.Legend at 0x2d709fa9a58>"
      ]
     },
     "execution_count": 97,
     "metadata": {},
     "output_type": "execute_result"
    },
    {
     "data": {
      "image/png": "[encoded data removed]",
      "text/plain": [
       "<matplotlib.figure.Figure at 0x2d70be6be48>"
      ]
     },
     "metadata": {
      "needs_background": "light"
     },
     "output_type": "display_data"
    }
   ],
   "source": [
    "def f1(x, y):\n",
    "    return x**2 + 4*x - y**2 - 2*y - 1\n",
    "\n",
    "def f2(x, y):\n",
    "    return x**2 + 5*y - 4\n",
    "\n",
    "root = newton_raphson_2d(f1, f2)\n",
    "print(root[0], root[1])\n",
    "\n",
    "x = np.linspace(-2.0, 2.0, 100)\n",
    "y = np.linspace(-2.0, 2.0, 100)\n",
    "X, Y = np.meshgrid(x, y)\n",
    "Z1 = f1(X, Y)\n",
    "Z2 = f2(X, Y)\n",
    "\n",
    "fig, ax = plt.subplots()\n",
    "a = ax.contour(X, Y, Z2, 0.0)\n",
    "b = ax.contour(X, Y, Z1, 0.0)\n",
    "ax.clabel(a)\n",
    "ax.clabel(b)\n",
    "ax.scatter(root[0], root[1], label='root')\n",
    "ax.set_xlabel('x')\n",
    "ax.set_ylabel('y')\n",
    "ax.legend(loc='lower left')"
   ]
  }
 ],
 "metadata": {
  "kernelspec": {
   "display_name": "Python 3",
   "language": "python",
   "name": "python3"
  },
  "language_info": {
   "codemirror_mode": {
    "name": "ipython",
    "version": 3
   },
   "file_extension": ".py",
   "mimetype": "text/x-python",
   "name": "python",
   "nbconvert_exporter": "python",
   "pygments_lexer": "ipython3",
   "version": "3.6.3"
  }
 },
 "nbformat": 4,
 "nbformat_minor": 2
}
