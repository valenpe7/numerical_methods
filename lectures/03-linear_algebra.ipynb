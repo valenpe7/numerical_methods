{
 "cells": [
  {
   "cell_type": "markdown",
   "metadata": {},
   "source": [
    "# Linear Algebra"
   ]
  },
  {
   "cell_type": "code",
   "execution_count": null,
   "metadata": {},
   "outputs": [],
   "source": [
    "import numpy as np\n",
    "import scipy.linalg as la"
   ]
  },
  {
   "cell_type": "markdown",
   "metadata": {},
   "source": [
    "### Basic operations:"
   ]
  },
  {
   "cell_type": "markdown",
   "metadata": {},
   "source": [
    "**Scalar product:**\n",
    "\n",
    "The [scalar product](https://en.wikipedia.org/wiki/Dot_product) of two vectors $ x = (x_1, x_2, \\dots, x_n) $ and $ y = (y_1, y_2, \\dots, y_n) $ is defined as \n",
    "\n",
    "$$\n",
    "x \\cdot y = \\sum_{i=1}^{n} x_i y_i.\n",
    "$$"
   ]
  },
  {
   "cell_type": "markdown",
   "metadata": {},
   "source": [
    "**Example:** Write a function that returns scalar product of two vectors (do not use the `numpy.dot` function):"
   ]
  },
  {
   "cell_type": "code",
   "execution_count": null,
   "metadata": {},
   "outputs": [],
   "source": [
    "def scalar_product(x, y):\n",
    "    \"\"\"\n",
    "    Calculates scalar product of two vectors.\n",
    "    Args:\n",
    "        x (array_like): Vector of size n\n",
    "        y (array_like): Vector of size n\n",
    "    Returns:\n",
    "        numpy.float64: scalar product of x and y\n",
    "    \"\"\"\n",
    "\n",
    "    # add your code here"
   ]
  },
  {
   "cell_type": "markdown",
   "metadata": {},
   "source": [
    "Compare the function above with the `numpy.dot` function:"
   ]
  },
  {
   "cell_type": "code",
   "execution_count": null,
   "metadata": {},
   "outputs": [],
   "source": [
    "x = np.random.rand(3)\n",
    "y = np.random.rand(3)\n",
    "np.testing.assert_almost_equal(scalar_product(x, y), np.dot(x, y), decimal=15)"
   ]
  },
  {
   "cell_type": "markdown",
   "metadata": {},
   "source": [
    "**Matrix-vector product:**"
   ]
  },
  {
   "cell_type": "markdown",
   "metadata": {},
   "source": [
    "Write a function that returns matrix-vector product of a matrix and a vector (do not use the `numpy.dot` function):"
   ]
  },
  {
   "cell_type": "code",
   "execution_count": null,
   "metadata": {},
   "outputs": [],
   "source": [
    "def matrix_vector_product(A, x):\n",
    "    \"\"\"\n",
    "    Calculates matrix-vector product.\n",
    "    Args:\n",
    "        A (array_like): A m-by-n matrix\n",
    "        x (array_like): Vector of size n\n",
    "    Returns:\n",
    "        numpy.ndarray: Matrix-vector product\n",
    "    \"\"\"\n",
    "\n",
    "    # add your code here"
   ]
  },
  {
   "cell_type": "markdown",
   "metadata": {},
   "source": [
    "Compare the function above with the `numpy.dot` function:"
   ]
  },
  {
   "cell_type": "code",
   "execution_count": null,
   "metadata": {
    "scrolled": true
   },
   "outputs": [],
   "source": [
    "A = np.random.rand(3, 3)\n",
    "x = np.random.rand(3)\n",
    "np.testing.assert_almost_equal(matrix_vector_product(A, x), np.dot(A, x), decimal=15)"
   ]
  },
  {
   "cell_type": "markdown",
   "metadata": {},
   "source": [
    "**Matrix-matrix product:**"
   ]
  },
  {
   "cell_type": "markdown",
   "metadata": {},
   "source": [
    "Write a function that returns [matrix-matrix product](https://en.wikipedia.org/wiki/Matrix_multiplication) of two matrices (do not use the `numpy.dot` function):"
   ]
  },
  {
   "cell_type": "code",
   "execution_count": null,
   "metadata": {},
   "outputs": [],
   "source": [
    "def matrix_matrix_product(A, B):\n",
    "    \"\"\"\n",
    "    Calculates matrix-matrix product.\n",
    "    Args:\n",
    "        A (array_like): A m-by-n matrix\n",
    "        B (array_like): A n-by-p matrix\n",
    "    Returns:\n",
    "        numpy.ndarray: Matrix-matrix product\n",
    "    \"\"\"\n",
    "\n",
    "    # add your code here"
   ]
  },
  {
   "cell_type": "markdown",
   "metadata": {},
   "source": [
    "Compare the function above with the `numpy.dot` function:"
   ]
  },
  {
   "cell_type": "code",
   "execution_count": null,
   "metadata": {},
   "outputs": [],
   "source": [
    "A = np.random.rand(3, 3)\n",
    "B = np.random.rand(3, 3)\n",
    "np.testing.assert_almost_equal(matrix_matrix_product(A, B), np.dot(A, B), decimal=15)"
   ]
  },
  {
   "cell_type": "markdown",
   "metadata": {},
   "source": [
    "### Direct methods:"
   ]
  },
  {
   "cell_type": "markdown",
   "metadata": {},
   "source": [
    "**Forward substitution:**\n",
    "\n",
    "A system of linear algebraic equations $ \\mathbb{A} x = b $ with lower triangular coefficient matrix $ \\mathbb{A} $ can be solved by the [forward substitution](https://en.wikipedia.org/wiki/Triangular_matrix#Forward_and_back_substitution) algorithm:\n",
    "\n",
    "$$\n",
    "x_i := \\frac{1}{a_{ii}} \\left( b_i - \\sum_{j = i + 1}^{n} a_{ij} x_j \\right), \\quad i = \\{ 1, \\dots, n \\}.\n",
    "$$"
   ]
  },
  {
   "cell_type": "markdown",
   "metadata": {},
   "source": [
    "**Example:** Implement the forward substitution algorithm:"
   ]
  },
  {
   "cell_type": "code",
   "execution_count": null,
   "metadata": {},
   "outputs": [],
   "source": [
    "def forward_substitution(A, b):\n",
    "    \"\"\"\n",
    "    Solves a system of linear equations with lower triangular matrix.\n",
    "    Args:\n",
    "        A (array_like): A n-by-n lower triangular matrix\n",
    "        b (array_like): RHS vector of size n\n",
    "    Returns:\n",
    "        numpy.ndarray: Vector of solution\n",
    "    \"\"\"\n",
    "\n",
    "    # add your code here"
   ]
  },
  {
   "cell_type": "markdown",
   "metadata": {},
   "source": [
    "Compare the function above with the `scipy.linalg.solve` function:"
   ]
  },
  {
   "cell_type": "code",
   "execution_count": null,
   "metadata": {},
   "outputs": [],
   "source": [
    "A = np.tril(np.random.rand(3, 3)) # create a lower triangular matrix from a random matrix\n",
    "b = np.random.rand(3)\n",
    "np.testing.assert_almost_equal(forward_substitution(A, b), la.solve(A, b), decimal=15)"
   ]
  },
  {
   "cell_type": "markdown",
   "metadata": {},
   "source": [
    "**Backward substitution:**\n",
    "\n",
    "A system of linear algebraic equations $ \\mathbb{A} x = b $ with upper triangular matrix $ \\mathbb{A} $ can be solved by the [backward substitution](https://en.wikipedia.org/wiki/Triangular_matrix#Forward_and_back_substitution) algorithm:\n",
    "\n",
    "$$\n",
    "x_i := \\frac{1}{a_{ii}} \\left( b_i - \\sum_{j = 1}^{i - 1} a_{ij} x_j \\right), \\quad i = \\{ 1, \\dots, n \\}.\n",
    "$$"
   ]
  },
  {
   "cell_type": "markdown",
   "metadata": {},
   "source": [
    "**Example:** Implement the backward substitution algorithm:"
   ]
  },
  {
   "cell_type": "code",
   "execution_count": null,
   "metadata": {},
   "outputs": [],
   "source": [
    "def backward_substitution(A, b):\n",
    "    \"\"\"\n",
    "    Solves a system of linear equation with upper triangular matrix.\n",
    "    Args:\n",
    "        A (array_like): A n-by-n upper triangular matrix\n",
    "        b (array_like): RHS vector of size n\n",
    "    Returns:\n",
    "        numpy.ndarray: Vector of solution\n",
    "    \"\"\"\n",
    "\n",
    "    # add your code here"
   ]
  },
  {
   "cell_type": "markdown",
   "metadata": {},
   "source": [
    "Compare the function above with the `scipy.linalg.solve` function:"
   ]
  },
  {
   "cell_type": "code",
   "execution_count": null,
   "metadata": {},
   "outputs": [],
   "source": [
    "A = np.triu(np.random.rand(3, 3)) # create an upper triangular matrix from a random matrix\n",
    "b = np.random.rand(3)\n",
    "np.testing.assert_almost_equal(backward_substitution(A, b), la.solve(A, b), decimal=15)"
   ]
  },
  {
   "cell_type": "markdown",
   "metadata": {},
   "source": [
    "**Gaussian elimination:**\n",
    "\n",
    "A matrix can be always transformed into an upper triangular form using the [Gaussian elimination](https://en.wikipedia.org/wiki/Gaussian_elimination) algrithm:\n",
    "\n",
    "$$\n",
    "a_{jk} := a_{jk} - \\frac{a_{ji}}{a_{ii}} a_{ik}, \\quad i = \\{ 1, 2, \\dots, n \\}, \\ j = \\{ i + 1, i + 2, \\dots, n \\}, \\ k = \\{ 1, 2, \\dots, n \\}.\n",
    "$$"
   ]
  },
  {
   "cell_type": "markdown",
   "metadata": {},
   "source": [
    "**Example:** Implement the Gaussian elimination algorithm:"
   ]
  },
  {
   "cell_type": "code",
   "execution_count": null,
   "metadata": {},
   "outputs": [],
   "source": [
    "def gaussian_elimination(A):\n",
    "    \"\"\"\n",
    "    Transform given matrix into upper triangular form.\n",
    "    Args:\n",
    "        A (array_like): A n-by-n regular matrix\n",
    "    Returns:\n",
    "        numpy.ndarray: Upper triangular matrix\n",
    "    \"\"\"\n",
    "\n",
    "    # add your code here"
   ]
  },
  {
   "cell_type": "markdown",
   "metadata": {},
   "source": [
    "**Example:** Implement pivoting into the Gaussian elimination algorithm:"
   ]
  },
  {
   "cell_type": "code",
   "execution_count": null,
   "metadata": {},
   "outputs": [],
   "source": [
    "def gaussian_elimination_with_pivoting(A):\n",
    "    \"\"\"\n",
    "    Transform given matrix into upper triangular form with pivoting.\n",
    "    Args:\n",
    "        A (array_like): A n-by-n regular matrix\n",
    "    Returns:\n",
    "        numpy.ndarray: Upper triangular matrix\n",
    "    \"\"\"\n",
    "\n",
    "    # add your code here"
   ]
  },
  {
   "cell_type": "markdown",
   "metadata": {},
   "source": [
    "**Example:** Pass the right-hand side vector into the Gaussian elimination algorithm and perform the identical operations on it:"
   ]
  },
  {
   "cell_type": "code",
   "execution_count": null,
   "metadata": {},
   "outputs": [],
   "source": [
    "def gaussian_elimination_with_pivoting_vector(A, b):\n",
    "    \"\"\"\n",
    "    Transform given matrix into upper triangular form with pivoting, perform identical operations on RHS vector.\n",
    "    Args:\n",
    "        A (array_like): A n-by-n regular matrix\n",
    "        b (array_like): RHS vector of size n\n",
    "    Returns:\n",
    "        numpy.ndarray: Upper triangular matrix\n",
    "        numpy.ndarray: RHS vector corresponding to upper triangular matrix\n",
    "    \"\"\"\n",
    "\n",
    "    # add your code here"
   ]
  },
  {
   "cell_type": "markdown",
   "metadata": {},
   "source": [
    "Use the function above to transform a given matrix into an upper triangular form, solve a system of linear algebraic equations with the transformed matrix using the backward substitution, and compare the result with the one obtained by `scipy.linalg.solve` function:"
   ]
  },
  {
   "cell_type": "code",
   "execution_count": null,
   "metadata": {
    "scrolled": true
   },
   "outputs": [],
   "source": [
    "A = np.random.rand(3, 3)\n",
    "b = np.random.rand(3)\n",
    "A_upper, bb = gaussian_elimination_with_pivoting_vector(A, b)\n",
    "np.testing.assert_almost_equal(backward_substitution(A_upper, bb), la.solve(A, b), decimal=15)"
   ]
  },
  {
   "cell_type": "markdown",
   "metadata": {},
   "source": [
    "**LU decomposition:**\n",
    "\n",
    "[LU decomposition](https://en.wikipedia.org/wiki/LU_decomposition) factors a matrix as the product of a lower triangular matrix and an upper triangular matrix:\n",
    "\n",
    "$$\n",
    "u_{ij} = a_{ij} - \\sum_{k = 1}^{i - 1} l_{ik} u_{kj}, \n",
    "$$\n",
    "$$\n",
    "l_{ji} = \\frac{1}{u_{ii}} \\left( a_{ji} - \\sum_{k = 1}^{i - 1} l_{jk} u_{ki} \\right), \n",
    "$$\n",
    "\n",
    "$$\n",
    "i = \\{1, 2, \\dots, n\\}, \\ j = \\{i, i + 1, \\dots, n\\}.\n",
    "$$\n",
    "\n",
    "A system of linear algebraic equations $ \\mathbb{A} x = b $ can be solved using LU decomposition as follows,\n",
    "\n",
    "$$\n",
    "\\mathbb{A} x = \\mathbb{L} ( \\mathbb{U} x) = b, \n",
    "$$\n",
    "\n",
    "$$\n",
    "\\mathbb{L} y = b, \n",
    "$$\n",
    "$$\n",
    "\\mathbb{U} x = y.\n",
    "$$"
   ]
  },
  {
   "cell_type": "markdown",
   "metadata": {},
   "source": [
    "**Example:** Implement the LU decomposition algorithm:"
   ]
  },
  {
   "cell_type": "code",
   "execution_count": null,
   "metadata": {},
   "outputs": [],
   "source": [
    "def lu_decomposition(A):\n",
    "    \"\"\"\n",
    "    Decompose given matrix into a product of a lower and an upper triangular matrix.\n",
    "    Args:\n",
    "        A (array_like): A n-by-n regular matrix\n",
    "    Returns:\n",
    "        numpy.ndarray: Lower triangular matrix\n",
    "        numpy.ndarray: Upper triangular matrix\n",
    "    \"\"\"\n",
    "\n",
    "    # add your code here"
   ]
  },
  {
   "cell_type": "markdown",
   "metadata": {},
   "source": [
    "Decompose a given matrix using the function above, solve the systems of algebraic equations using the forward and backward substitutions, and compare the result with the one obtained by `scipy.linalg.solve` function:"
   ]
  },
  {
   "cell_type": "code",
   "execution_count": null,
   "metadata": {},
   "outputs": [],
   "source": [
    "A = np.random.rand(3, 3)\n",
    "b = np.random.rand(3)\n",
    "L, U = lu_decomposition(A)\n",
    "np.testing.assert_almost_equal(backward_substitution(U, forward_substitution(L, b)), la.solve(A, b), decimal=15)"
   ]
  },
  {
   "cell_type": "markdown",
   "metadata": {},
   "source": [
    "**Thomas algorithm:**"
   ]
  },
  {
   "cell_type": "markdown",
   "metadata": {},
   "source": [
    "[Thomas algorithm](https://en.wikipedia.org/wiki/Tridiagonal_matrix_algorithm)"
   ]
  },
  {
   "cell_type": "code",
   "execution_count": null,
   "metadata": {},
   "outputs": [],
   "source": [
    "def thomas_algorithm(A, f):\n",
    "    \"\"\"\n",
    "    Solves system of linear equations with tridiagonal matrix using Thomas' algorithm.\n",
    "    Args:\n",
    "        A (array_like): A n-by-n regular matrix\n",
    "        f (array_like): RHS vector of size n\n",
    "    Returns:\n",
    "        numpy.ndarray: Vector of solution\n",
    "    \"\"\"\n",
    "\n",
    "    # add your code here"
   ]
  },
  {
   "cell_type": "markdown",
   "metadata": {},
   "source": [
    "Compare"
   ]
  },
  {
   "cell_type": "code",
   "execution_count": null,
   "metadata": {},
   "outputs": [],
   "source": [
    "A = np.triu(np.tril(np.random.rand(5, 5), 1), -1) # create a tridiagonal matrix from random matrix\n",
    "b = np.random.rand(5)\n",
    "np.testing.assert_almost_equal(thomas_algorithm(A, b), la.solve(A, b), decimal=15)"
   ]
  }
 ],
 "metadata": {
  "kernelspec": {
   "display_name": "Python 3",
   "language": "python",
   "name": "python3"
  },
  "language_info": {
   "codemirror_mode": {
    "name": "ipython",
    "version": 3
   },
   "file_extension": ".py",
   "mimetype": "text/x-python",
   "name": "python",
   "nbconvert_exporter": "python",
   "pygments_lexer": "ipython3",
   "version": "3.6.3"
  }
 },
 "nbformat": 4,
 "nbformat_minor": 2
}
