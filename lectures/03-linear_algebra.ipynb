{
 "cells": [
  {
   "cell_type": "markdown",
   "metadata": {},
   "source": [
    "# Linear Algebra"
   ]
  },
  {
   "cell_type": "code",
   "execution_count": 2,
   "metadata": {},
   "outputs": [],
   "source": [
    "import numpy as np\n",
    "import scipy.linalg as la"
   ]
  },
  {
   "cell_type": "markdown",
   "metadata": {},
   "source": [
    "### Basic operations:"
   ]
  },
  {
   "cell_type": "code",
   "execution_count": 3,
   "metadata": {},
   "outputs": [],
   "source": [
    "def scalar_product(x, y):\n",
    "    \"\"\"\n",
    "    Calculates scalar product of two vectors.\n",
    "    Args:\n",
    "        x (array_like): Vector of size n\n",
    "        y (array_like): Vector of size n\n",
    "    Returns:\n",
    "        numpy.float32: scalar product of x and y\n",
    "    \"\"\"\n",
    "    n = x.size\n",
    "    z = 0.0\n",
    "    for i in range(n):\n",
    "        z += x[i] * y[i]\n",
    "    return z"
   ]
  },
  {
   "cell_type": "code",
   "execution_count": 4,
   "metadata": {},
   "outputs": [
    {
     "name": "stdout",
     "output_type": "stream",
     "text": [
      "1.1625001781824815\n",
      "1.1625001781824815\n"
     ]
    }
   ],
   "source": [
    "# test of the scalar_product function\n",
    "x = np.random.rand(3)\n",
    "y = np.random.rand(3)\n",
    "print(scalar_product(x, y))\n",
    "print(np.dot(x, y))"
   ]
  },
  {
   "cell_type": "code",
   "execution_count": 5,
   "metadata": {},
   "outputs": [],
   "source": [
    "def matrix_vector_product(A, x):\n",
    "    \"\"\"\n",
    "    Calculates matrix-vector product.\n",
    "    Args:\n",
    "        A (array_like): A m-by-n matrix\n",
    "        x (array_like): Vector of size n\n",
    "    Returns:\n",
    "        numpy.ndarray: Matrix-vector product\n",
    "    \"\"\"\n",
    "    m, n = A.shape\n",
    "    b = np.zeros(m)\n",
    "    for i in range(m):\n",
    "        for j in range(n):\n",
    "            b[i] += A[i,j] * x[j]\n",
    "    return b"
   ]
  },
  {
   "cell_type": "code",
   "execution_count": 6,
   "metadata": {
    "scrolled": true
   },
   "outputs": [
    {
     "name": "stdout",
     "output_type": "stream",
     "text": [
      "[0.47731842 0.88645375 0.75157503]\n",
      "[0.47731842 0.88645375 0.75157503]\n"
     ]
    }
   ],
   "source": [
    "# test of the matrix_vector_product function\n",
    "A = np.random.rand(3, 3)\n",
    "x = np.random.rand(3)\n",
    "print(matrix_vector_product(A, x))\n",
    "print(np.dot(A, x))"
   ]
  },
  {
   "cell_type": "code",
   "execution_count": 7,
   "metadata": {},
   "outputs": [],
   "source": [
    "def matrix_matrix_product(A, B):\n",
    "    \"\"\"\n",
    "    Calculates matrix-matrix product.\n",
    "    Args:\n",
    "        A (array_like): A m-by-n matrix\n",
    "        B (array_like): A n-by-p matrix\n",
    "    Returns:\n",
    "        numpy.ndarray: Matrix-matrix product\n",
    "    \"\"\"\n",
    "    m, n = A.shape\n",
    "    n, p = B.shape\n",
    "    C = np.zeros((m, p))\n",
    "    for i in range(m):\n",
    "        for j in range(p):\n",
    "            for k in range(n):\n",
    "                C[i,j] += A[i,k] * B[k,j]\n",
    "    return C"
   ]
  },
  {
   "cell_type": "code",
   "execution_count": 8,
   "metadata": {},
   "outputs": [
    {
     "name": "stdout",
     "output_type": "stream",
     "text": [
      "[[0.59026754 0.27782286 0.24958374]\n",
      " [0.74239856 1.03740225 0.23832123]\n",
      " [0.42386534 0.57792432 0.14190123]]\n",
      "[[0.59026754 0.27782286 0.24958374]\n",
      " [0.74239856 1.03740225 0.23832123]\n",
      " [0.42386534 0.57792432 0.14190123]]\n"
     ]
    }
   ],
   "source": [
    "# test of the matrix_matrix_product function\n",
    "A = np.random.rand(3, 3)\n",
    "B = np.random.rand(3, 3)\n",
    "print(matrix_matrix_product(A, B))\n",
    "print(np.dot(A, B))"
   ]
  },
  {
   "cell_type": "markdown",
   "metadata": {},
   "source": [
    "### Direct methods:"
   ]
  },
  {
   "cell_type": "code",
   "execution_count": 9,
   "metadata": {},
   "outputs": [],
   "source": [
    "def forward_substitution(A, b):\n",
    "    \"\"\"\n",
    "    Solves a system of linear equation with lower triangular matrix.\n",
    "    Args:\n",
    "        A (array_like): A n-by-n lower triangular matrix\n",
    "        b (array_like): RHS vector of size n\n",
    "    Returns:\n",
    "        numpy.ndarray: Vector of solution\n",
    "    \"\"\"\n",
    "    n, n = A.shape\n",
    "    x = np.zeros(n)\n",
    "    for i in range(0, n):\n",
    "        x[i] = (b[i] - np.dot(A[i,:], x)) / A[i,i]\n",
    "    return x"
   ]
  },
  {
   "cell_type": "code",
   "execution_count": 10,
   "metadata": {},
   "outputs": [
    {
     "name": "stdout",
     "output_type": "stream",
     "text": [
      "[ 1.08027608 -0.23544643  0.5321408 ]\n",
      "[ 1.08027608 -0.23544643  0.5321408 ]\n"
     ]
    }
   ],
   "source": [
    "# test of the forward_substitution function\n",
    "A = np.tril(np.random.rand(3, 3))\n",
    "b = np.random.rand(3)\n",
    "print(forward_substitution(A, b))\n",
    "print(la.solve(A, b))"
   ]
  },
  {
   "cell_type": "code",
   "execution_count": 11,
   "metadata": {},
   "outputs": [],
   "source": [
    "def backward_substitution(A, b):\n",
    "    \"\"\"\n",
    "    Solves a system of linear equation with upper triangular matrix.\n",
    "    Args:\n",
    "        A (array_like): A n-by-n upper triangular matrix\n",
    "        b (array_like): RHS vector of size n\n",
    "    Returns:\n",
    "        numpy.ndarray: Vector of solution\n",
    "    \"\"\"\n",
    "    n, n = A.shape\n",
    "    x = np.zeros(n)\n",
    "    for i in range(n-1, -1, -1):\n",
    "        x[i] = (b[i] - np.dot(A[i,:], x)) / A[i,i]\n",
    "    return x"
   ]
  },
  {
   "cell_type": "code",
   "execution_count": 12,
   "metadata": {},
   "outputs": [
    {
     "name": "stdout",
     "output_type": "stream",
     "text": [
      "[ 0.26187223 -0.68467364  0.76070378]\n",
      "[ 0.26187223 -0.68467364  0.76070378]\n"
     ]
    }
   ],
   "source": [
    "# test of the backward_substitution function\n",
    "A = np.triu(np.random.rand(3, 3))\n",
    "b = np.random.rand(3)\n",
    "print(backward_substitution(A, b))\n",
    "print(la.solve(A, b))"
   ]
  },
  {
   "cell_type": "code",
   "execution_count": 13,
   "metadata": {},
   "outputs": [],
   "source": [
    "def gaussian_elimination(A, b):\n",
    "    \"\"\"\n",
    "    Transform given matrix into upper triangular form, perform identical operations on RHS vector.\n",
    "    Args:\n",
    "        A (array_like): A n-by-n regular matrix\n",
    "        b (array_like): RHS vector of size n\n",
    "    Returns:\n",
    "        numpy.ndarray: Upper triangular matrix\n",
    "        numpy.ndarray: RHS vector corresponding to upper triangular matrix\n",
    "    \"\"\"\n",
    "    n, n = A.shape\n",
    "    tmp = np.zeros((n, n+1))\n",
    "    tmp[:,:-1] = A\n",
    "    tmp[:,-1] = b\n",
    "    for i in range(0, n):  \n",
    "        # return the index of row having maximum value relatively to i (max_row 0 means that the i-th row has maximum)\n",
    "        max_row = np.argmax(np.abs(A[i:,i]))\n",
    "        if (max_row != 0):\n",
    "            # swap i-th row with row having maximum value\n",
    "            row_i = np.copy(tmp[i,:])\n",
    "            tmp[i,:] = tmp[i+max_row,:]\n",
    "            tmp[i+max_row,:] = row_i    \n",
    "        for j in range(i+1, n):\n",
    "            tmp[j,:] = tmp[j,:] - (tmp[j,i] / tmp[i,i]) * tmp[i,:]      \n",
    "    return tmp[:,:-1], tmp[:,-1]"
   ]
  },
  {
   "cell_type": "code",
   "execution_count": 14,
   "metadata": {
    "scrolled": true
   },
   "outputs": [
    {
     "name": "stdout",
     "output_type": "stream",
     "text": [
      "[-0.78641861 -0.39066871  1.66106963]\n",
      "[-0.78641861 -0.39066871  1.66106963]\n"
     ]
    }
   ],
   "source": [
    "# test of the gaussian_elimination function\n",
    "A = np.random.rand(3, 3)\n",
    "b = np.random.rand(3)\n",
    "A_upper, bb = gaussian_elimination(A, b)\n",
    "print(backward_substitution(A_upper, bb))\n",
    "print(la.solve(A, b))"
   ]
  },
  {
   "cell_type": "code",
   "execution_count": 15,
   "metadata": {},
   "outputs": [],
   "source": [
    "def lu_decomposition(A):\n",
    "    \"\"\"\n",
    "    Decompose given matrix into a product of a lower and an upper triangular matrix.\n",
    "    Args:\n",
    "        A (array_like): A n-by-n regular matrix\n",
    "    Returns:\n",
    "        numpy.ndarray: Lower triangular matrix\n",
    "        numpy.ndarray: Upper triangular matrix\n",
    "    \"\"\"\n",
    "    n, n = A.shape\n",
    "    L = np.zeros((n, n))\n",
    "    U = np.zeros((n, n))\n",
    "    for i in range(0, n):\n",
    "        for j in range(i, n):\n",
    "            U[i,j] = A[i,j] - np.dot(L[i,:], U[:,j])\n",
    "            L[j,i] = (A[j,i] - np.dot(L[j,:], U[:,i])) / U[i,i]\n",
    "    return L, U"
   ]
  },
  {
   "cell_type": "code",
   "execution_count": 16,
   "metadata": {},
   "outputs": [
    {
     "name": "stdout",
     "output_type": "stream",
     "text": [
      "[0.37792355 0.13615147 1.6204618 ]\n",
      "[0.37792355 0.13615147 1.6204618 ]\n"
     ]
    }
   ],
   "source": [
    "# test of the lu_decomposition function\n",
    "A = np.random.rand(3, 3)\n",
    "b = np.random.rand(3)\n",
    "L, U = lu_decomposition(A)\n",
    "y = forward_substitution(L, b)\n",
    "x = backward_substitution(U, y)\n",
    "print(x)\n",
    "print(la.solve(A, b))"
   ]
  },
  {
   "cell_type": "code",
   "execution_count": 17,
   "metadata": {},
   "outputs": [],
   "source": [
    "def thomas_algorithm(A, f):\n",
    "    \"\"\"\n",
    "    Solves system of linear equations with tridiagonal matrix using Thomas' algorithm.\n",
    "    Args:\n",
    "        A (array_like): A n-by-n regular matrix\n",
    "        f (array_like): RHS vector of size n\n",
    "    Returns:\n",
    "        numpy.ndarray: Vector of solution\n",
    "    \"\"\"\n",
    "    n, n = A.shape # get the size of input matrix\n",
    "    c = np.diag(A, -1) # get elements below diagonal \n",
    "    a = np.diag(A, 0) # get elements on diagonal\n",
    "    b = np.diag(A, 1) # get elements above diagonal\n",
    "    c = np.insert(c, 0, 0.0) # insert 0 as a first element of c\n",
    "    b = np.insert(b, b.size, 0.0) # insert 0 as a last element of b\n",
    "    x = np.zeros(n)\n",
    "    rho = np.zeros(n)\n",
    "    mu  = np.zeros(n)\n",
    "    mu[0] = -b[0] / a[0]\n",
    "    rho[0] = f[0] / a[0]\n",
    "    for i in range(1, n):\n",
    "        mu[i] = -b[i] / (c[i] * mu[i-1] + a[i])\n",
    "        rho[i] = (f[i] - c[i] * rho[i-1]) / (c[i] * mu[i-1] + a[i])\n",
    "    x[n-1] = rho[n-1]\n",
    "    for i in range(n-2, -1, -1):\n",
    "        x[i] = mu[i] * x[i+1] + rho[i]\n",
    "    return x"
   ]
  },
  {
   "cell_type": "code",
   "execution_count": 18,
   "metadata": {},
   "outputs": [
    {
     "name": "stdout",
     "output_type": "stream",
     "text": [
      "[ 6.98659571 -9.77164351 -6.81067224 11.82781622  5.89405517]\n",
      "[ 6.98659571 -9.77164351 -6.81067224 11.82781622  5.89405517]\n"
     ]
    }
   ],
   "source": [
    "# test of the thomas_algorithm function\n",
    "A = np.random.rand(5, 5)\n",
    "b = np.random.rand(5)\n",
    "# create tridiagonal matrix from random matrix A\n",
    "A = np.triu(np.tril(A, 1), -1)\n",
    "print(thomas_algorithm(A, b))\n",
    "print(la.solve(A,b))"
   ]
  },
  {
   "cell_type": "markdown",
   "metadata": {},
   "source": [
    "### Iterative methods:"
   ]
  },
  {
   "cell_type": "code",
   "execution_count": 19,
   "metadata": {},
   "outputs": [],
   "source": [
    "def jacobi_method(A, b, max_it=500, eps=0.0):\n",
    "    \"\"\"\n",
    "    Solves system of linear equations iteratively using Jacobi's algorithm.\n",
    "    Args:\n",
    "        A (array_like): A n-by-n regular matrix\n",
    "        b (array_like): RHS vector of size n\n",
    "        max_it (int): Maximum number of iterations\n",
    "        eps (float): Error tolerance\n",
    "    Returns:\n",
    "        numpy.ndarray: Vector of solution\n",
    "    \"\"\"\n",
    "    n, n = A.shape\n",
    "    x = np.zeros(n)\n",
    "    x_new = np.zeros(n)   \n",
    "    for k in range(max_it):\n",
    "        for i in range(n):\n",
    "            x_new[i] = (1.0 / A[i,i]) * (b[i] - np.dot(A[i,:i], x[:i]) - np.dot(A[i,i+1:], x[i+1:]))           \n",
    "        x = x_new\n",
    "        if(la.norm(np.dot(A, x) - b) < eps):\n",
    "            break   \n",
    "    return x"
   ]
  },
  {
   "cell_type": "code",
   "execution_count": 20,
   "metadata": {},
   "outputs": [
    {
     "name": "stdout",
     "output_type": "stream",
     "text": [
      "[0.07221979 0.07294135 0.08030085]\n",
      "[0.07221979 0.07294135 0.08030085]\n"
     ]
    }
   ],
   "source": [
    "# test of the jacobi_method function\n",
    "A = np.random.rand(3, 3) + 10. * np.eye(3) # create diagonally dominant matrix to ensure convergence\n",
    "b = np.random.rand(3)\n",
    "print(jacobi_method(A, b, 20))\n",
    "print(la.solve(A, b))"
   ]
  },
  {
   "cell_type": "code",
   "execution_count": 21,
   "metadata": {},
   "outputs": [],
   "source": [
    "def gauss_seidel_method(A, b, max_it=500, eps=0.0):\n",
    "    \"\"\"\n",
    "    Solves system of linear equations iteratively using Gauss-Seidel's algorithm.\n",
    "    Args:\n",
    "        A (array_like): A n-by-n regular matrix\n",
    "        b (array_like): RHS vector of size n\n",
    "        max_it (int): Maximum number of iterations\n",
    "        eps (float): Error tolerance\n",
    "    Returns:\n",
    "        numpy.ndarray: Vector of solution\n",
    "    \"\"\"\n",
    "    n, n = A.shape\n",
    "    x = np.zeros(n)\n",
    "    x_new = np.zeros(n)  \n",
    "    for k in range(max_it):\n",
    "        for i in range(n):\n",
    "            x_new[i] = (1.0 / A[i,i]) * (b[i] - np.dot(A[i,:i], x_new[:i]) - np.dot(A[i,i+1:], x[i+1:]))      \n",
    "        x = x_new\n",
    "        if(la.norm(np.dot(A, x) - b) < eps):\n",
    "            break  \n",
    "    return x"
   ]
  },
  {
   "cell_type": "code",
   "execution_count": 22,
   "metadata": {},
   "outputs": [
    {
     "name": "stdout",
     "output_type": "stream",
     "text": [
      "[0.06634536 0.02275534 0.05885862]\n",
      "[0.06634536 0.02275534 0.05885862]\n"
     ]
    }
   ],
   "source": [
    "# test of the gauss_seidel_method function\n",
    "A = np.random.rand(3, 3) + 10. * np.eye(3) # create diagonally dominant matrix to ensure convergence\n",
    "b = np.random.rand(3)\n",
    "print(gauss_seidel_method(A, b, 20))\n",
    "print(la.solve(A, b))"
   ]
  },
  {
   "cell_type": "code",
   "execution_count": 23,
   "metadata": {},
   "outputs": [],
   "source": [
    "def successive_overrelaxation_method(A, b, omega=1.0, max_it=500, eps=0.0):\n",
    "    \"\"\"\n",
    "    Solves system of linear equations iteratively using successive overrelaxation (SOR) method.\n",
    "    Args:\n",
    "        A (array_like): A n-by-n regular matrix\n",
    "        b (array_like): RHS vector of size n\n",
    "        max_it (int): Maximum number of iterations\n",
    "        eps (float): Error tolerance\n",
    "    Returns:\n",
    "        numpy.ndarray: Vector of solution\n",
    "    \"\"\"\n",
    "    n, n = A.shape\n",
    "    x = np.zeros(n)\n",
    "    x_new = np.zeros(n)\n",
    "    for k in range(max_it):\n",
    "        for i in range(n):\n",
    "            x_new[i] = (1.0 / A[i,i]) * (b[i] - np.dot(A[i,:i], x_new[:i]) - np.dot(A[i,i+1:], x[i+1:]))\n",
    "        x += omega * (x_new - x)\n",
    "        if(la.norm(np.dot(A, x) - b) < eps):\n",
    "            break\n",
    "    return x"
   ]
  },
  {
   "cell_type": "code",
   "execution_count": 24,
   "metadata": {},
   "outputs": [
    {
     "name": "stdout",
     "output_type": "stream",
     "text": [
      "[0.00547568 0.01524196 0.06277615]\n",
      "[0.00547568 0.01524196 0.06277615]\n"
     ]
    }
   ],
   "source": [
    "# test of the successive_overrelaxation_method function\n",
    "A = np.random.rand(3, 3) + 10. * np.eye(3) # create diagonally dominant matrix to ensure convergence\n",
    "b = np.random.rand(3)\n",
    "\n",
    "L = np.tril(A, -1) # get lower triangular matrix with zeros on diagonal\n",
    "U = np.triu(A, 1) # get upper triangular matrix with zeros on diagonal\n",
    "D = A - L - U # get diagonal matrix\n",
    "B = -np.dot(la.inv(D + L), U) # calculate iteration matrix\n",
    "rho = np.max(np.abs(la.eigvals(B))) # find spectral radius (i.e. maximal eigenvalue in absolute value)\n",
    "omega = 2.0 / (1.0 + np.sqrt(1.0 - rho**2)) # find optimal relaxation factor\n",
    "\n",
    "print(successive_overrelaxation_method(A, b, omega, 20))\n",
    "print(la.solve(A, b))"
   ]
  },
  {
   "cell_type": "code",
   "execution_count": 25,
   "metadata": {},
   "outputs": [],
   "source": [
    "def power_iteration(A, max_it=500):\n",
    "    \"\"\"\n",
    "    Finds the greatest eigen value (in absolute value) of given matrix and its corresponding eigenvector.\n",
    "    Args:\n",
    "        A (array_like): A n-by-n diagonalizable matrix\n",
    "        max_it (int): Maximum number of iterations\n",
    "    Returns:\n",
    "        numpy.ndarray: Eigenvector corresponding to a greatest eigenvalue (in absolute value)\n",
    "        float: Greatest eigenvalue (in absolute value)\n",
    "    \"\"\"\n",
    "    n, n = A.shape\n",
    "    eigen_vec = np.ones(n)\n",
    "    for i in range(max_it):\n",
    "        eigen_vec_new = np.dot(A, eigen_vec)\n",
    "        eigen_vec = eigen_vec_new\n",
    "    eigen_vec = eigen_vec / la.norm(eigen_vec_new)\n",
    "    eigen_val = la.norm(np.dot(A, eigen_vec))\n",
    "    return eigen_vec, eigen_val"
   ]
  },
  {
   "cell_type": "code",
   "execution_count": 26,
   "metadata": {
    "scrolled": true
   },
   "outputs": [
    {
     "name": "stdout",
     "output_type": "stream",
     "text": [
      "1.071139527652675\n",
      "1.0711395271078243\n"
     ]
    }
   ],
   "source": [
    "# test of the power_iteration function\n",
    "A = np.random.rand(3, 3)\n",
    "e_vec, e_val = power_iteration(A, 20)\n",
    "print(e_val)\n",
    "print(np.max(np.abs(la.eigvals(A))))"
   ]
  },
  {
   "cell_type": "markdown",
   "metadata": {},
   "source": [
    "### Gradient methods:"
   ]
  },
  {
   "cell_type": "code",
   "execution_count": 27,
   "metadata": {},
   "outputs": [],
   "source": [
    "def conjugate_gradient_method(A, b, x, eps=1.0e-10):\n",
    "    \"\"\"\n",
    "    Solves system of linear equations using conjugate gradient method.\n",
    "    Args:\n",
    "        A (array_like): A n-by-n regular matrix\n",
    "        b (array_like): RHS vector of size n\n",
    "        x (array_like): Initial guess\n",
    "        eps (float): Error tolerance\n",
    "    Returns:\n",
    "        numpy.ndarray: Vector of solution\n",
    "    \"\"\"\n",
    "    r = b - np.dot(A, x)\n",
    "    p = r\n",
    "    rs_old = np.dot(r.T, r)\n",
    "    for i in range(len(b)):\n",
    "        Ap = np.dot(A, p)\n",
    "        alpha = rs_old / (np.dot(p.T, Ap))\n",
    "        x = x + np.dot(alpha, p)\n",
    "        r = r - np.dot(alpha, Ap)\n",
    "        rs_new = np.dot(r.T, r)\n",
    "        if np.sqrt(rs_new) < eps:\n",
    "            break\n",
    "        p = r + np.dot((rs_new / rs_old), p);\n",
    "        rs_old = rs_new;\n",
    "    return x"
   ]
  },
  {
   "cell_type": "code",
   "execution_count": 28,
   "metadata": {},
   "outputs": [
    {
     "name": "stdout",
     "output_type": "stream",
     "text": [
      "[0.44143129 0.52422035 0.5080985 ]\n",
      "[0.44143129 0.52422035 0.5080985 ]\n"
     ]
    }
   ],
   "source": [
    "# test of the conjugate_gradient_method function\n",
    "\n",
    "n = 3 # size of the problem\n",
    "A = np.random.rand(n, n)\n",
    "A = np.tril(A) + np.tril(A, -1).T # generate random symmetric matrix (should check also wheter the matrix is positive-definite)\n",
    "b = np.random.rand(n) # random RHS vector\n",
    "x_0 = np.zeros(len(b)) # initial guess\n",
    "\n",
    "print(conjugate_gradient_method(A, b, x_0))\n",
    "print(la.solve(A, b))"
   ]
  }
 ],
 "metadata": {
  "kernelspec": {
   "display_name": "Python 3",
   "language": "python",
   "name": "python3"
  },
  "language_info": {
   "codemirror_mode": {
    "name": "ipython",
    "version": 3
   },
   "file_extension": ".py",
   "mimetype": "text/x-python",
   "name": "python",
   "nbconvert_exporter": "python",
   "pygments_lexer": "ipython3",
   "version": "3.6.3"
  }
 },
 "nbformat": 4,
 "nbformat_minor": 2
}
