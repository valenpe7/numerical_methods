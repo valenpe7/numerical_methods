{
 "cells": [
  {
   "cell_type": "markdown",
   "metadata": {},
   "source": [
    "# Optimization"
   ]
  },
  {
   "cell_type": "code",
   "execution_count": 123,
   "metadata": {
    "collapsed": true
   },
   "outputs": [],
   "source": [
    "import numpy as np\n",
    "import matplotlib.pyplot as plt\n",
    "%matplotlib inline"
   ]
  },
  {
   "cell_type": "markdown",
   "metadata": {},
   "source": [
    "### Golden section search:"
   ]
  },
  {
   "cell_type": "code",
   "execution_count": 157,
   "metadata": {
    "collapsed": true
   },
   "outputs": [],
   "source": [
    "def golden_section_search(f, a, b, max_it=500, eps=1.0e-8):\n",
    "    \"\"\"\n",
    "    Finds the minimum of function using golden section search.\n",
    "    Args:\n",
    "        f (array_like): A strictly unimodal function on [a, b]\n",
    "        a (float): Left-hand side point of the interval\n",
    "        b (float): Right-hand side point of the interval\n",
    "        max_it (int): Maximum number of iterations\n",
    "        eps (float): Error tolerance\n",
    "    Returns:\n",
    "        float: A coordinate of minimum\n",
    "    \"\"\"\n",
    "    gr = (np.sqrt(5) + 1.0) / 2.0\n",
    "    n = 0\n",
    "    while n <= max_it:\n",
    "        c = b - (b - a) / gr\n",
    "        d = a + (b - a) / gr \n",
    "        if abs(c - d) < eps:\n",
    "            return (b + a) / 2.0\n",
    "        if f(c) < f(d):\n",
    "            b = d\n",
    "        else:\n",
    "            a = c\n",
    "        n += 1\n",
    "    raise RuntimeError('minimum not found using', max_it, 'iterations')"
   ]
  },
  {
   "cell_type": "code",
   "execution_count": 158,
   "metadata": {},
   "outputs": [
    {
     "name": "stdout",
     "output_type": "stream",
     "text": [
      "1.00000001429 2.0\n"
     ]
    },
    {
     "data": {
      "image/png": "[encoded data removed]",
      "text/plain": [
       "<matplotlib.figure.Figure at 0x1c7c4080b38>"
      ]
     },
     "metadata": {},
     "output_type": "display_data"
    }
   ],
   "source": [
    "def f(x):\n",
    "    return x**2 - 2.0 * x + 3.0\n",
    "\n",
    "x_min = golden_section_search(f, -5.0, 5.0)\n",
    "print(x_min, f(x_min))\n",
    "\n",
    "x = np.linspace(-5.0, 5.0, 1000)\n",
    "\n",
    "fig = plt.figure()\n",
    "ax = fig.add_subplot(1,1,1)\n",
    "ax.plot(x, f(x), label='f(x) = x^2 - 2 * x + 3')\n",
    "ax.plot(x_min, f(x_min), 'o', label='min')\n",
    "ax.legend()\n",
    "ax.grid()"
   ]
  },
  {
   "cell_type": "markdown",
   "metadata": {},
   "source": [
    "### Parabolic interpolation search:"
   ]
  },
  {
   "cell_type": "code",
   "execution_count": 159,
   "metadata": {
    "collapsed": true
   },
   "outputs": [],
   "source": [
    "def parabolic_interpolation_search(f, a, b, c, max_it=500, eps=1.0e-8):\n",
    "    \"\"\"\n",
    "    Finds the minimum of function using parabolic interpolation search.\n",
    "    Args:\n",
    "        f (array_like): A strictly unimodal function on [a, b]\n",
    "        a (float): Left-hand side point of the interval\n",
    "        b (float): Point inside of the interval\n",
    "        c (float): Right-hand side point of the interval\n",
    "        max_it (int): Maximum number of iterations\n",
    "        eps (float): Error tolerance\n",
    "    Returns:\n",
    "        float: A coordinate of minimum\n",
    "    \"\"\"\n",
    "    n = 0\n",
    "    while n <= max_it:\n",
    "        x_min = b + 0.5 * ((f(a) - f(b)) * (c - b)**2 - (f(c) - f(b)) * (b - a)**2) \\\n",
    "            / ((f(a) - f(b)) * (c - b) + (f(c) - f(b)) * ( b - a))\n",
    "        a = b\n",
    "        b = c\n",
    "        c = x_min\n",
    "        if abs(c - b) / abs(c) < eps:\n",
    "            return c\n",
    "        n += 1\n",
    "    raise RuntimeError('minimum not found using', max_it, 'iterations')"
   ]
  },
  {
   "cell_type": "code",
   "execution_count": 160,
   "metadata": {
    "scrolled": false
   },
   "outputs": [
    {
     "name": "stdout",
     "output_type": "stream",
     "text": [
      "1.0 2.0\n"
     ]
    },
    {
     "data": {
      "image/png": "[encoded data removed]",
      "text/plain": [
       "<matplotlib.figure.Figure at 0x1c7c2e7aa58>"
      ]
     },
     "metadata": {},
     "output_type": "display_data"
    }
   ],
   "source": [
    "def f(x):\n",
    "    return x**2 - 2 * x + 3\n",
    "\n",
    "x_min = parabolic_interpolation_search(f, -5.0, 0.0, 5.0)\n",
    "print(x_min, f(x_min))\n",
    "\n",
    "x = np.linspace(-5.0, 5.0, 100)\n",
    "\n",
    "fig = plt.figure()\n",
    "ax = fig.add_subplot(1,1,1)\n",
    "ax.plot(x, f(x), label='f(x) = x^2 - 2 * x + 3')\n",
    "ax.plot(x_min, f(x_min), 'o', label='min')\n",
    "ax.legend()\n",
    "ax.grid()"
   ]
  },
  {
   "cell_type": "markdown",
   "metadata": {},
   "source": [
    "### Nelder-Mead method:"
   ]
  },
  {
   "cell_type": "code",
   "execution_count": 1,
   "metadata": {
    "collapsed": true
   },
   "outputs": [],
   "source": [
    "def nelder_mead():\n",
    "    # add code here\n",
    "    return"
   ]
  },
  {
   "cell_type": "markdown",
   "metadata": {},
   "source": [
    "### Gradient descent method:"
   ]
  },
  {
   "cell_type": "code",
   "execution_count": 2,
   "metadata": {
    "collapsed": true
   },
   "outputs": [],
   "source": [
    "def gradient_descent():\n",
    "    # add code here\n",
    "    return"
   ]
  }
 ],
 "metadata": {
  "kernelspec": {
   "display_name": "Python 3",
   "language": "python",
   "name": "python3"
  },
  "language_info": {
   "codemirror_mode": {
    "name": "ipython",
    "version": 3
   },
   "file_extension": ".py",
   "mimetype": "text/x-python",
   "name": "python",
   "nbconvert_exporter": "python",
   "pygments_lexer": "ipython3",
   "version": "3.6.3"
  }
 },
 "nbformat": 4,
 "nbformat_minor": 2
}
