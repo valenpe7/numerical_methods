{
 "cells": [
  {
   "cell_type": "markdown",
   "metadata": {},
   "source": [
    "# Data Sorting"
   ]
  },
  {
   "cell_type": "code",
   "execution_count": 1,
   "metadata": {},
   "outputs": [],
   "source": [
    "import numpy as np\n",
    "import matplotlib.pyplot as plt"
   ]
  },
  {
   "cell_type": "markdown",
   "metadata": {},
   "source": [
    "### Bubble sort:"
   ]
  },
  {
   "cell_type": "code",
   "execution_count": 22,
   "metadata": {},
   "outputs": [],
   "source": [
    "def bubble_sort(array):\n",
    "    \"\"\"\n",
    "    Sorts the input data using bubble sort algorithm.\n",
    "    Args:\n",
    "        array (array_like): input data\n",
    "    Returns:\n",
    "        numpy.ndarray: sorted data\n",
    "    \"\"\"\n",
    "    tmp = np.copy(array)\n",
    "    for i in range(len(tmp)):\n",
    "        for j in range(0, len(tmp) - i - 1):\n",
    "            if tmp[j] > tmp[j+1]:\n",
    "                tmp[j], tmp[j+1] = tmp[j+1], tmp[j]\n",
    "    return tmp"
   ]
  },
  {
   "cell_type": "code",
   "execution_count": 23,
   "metadata": {},
   "outputs": [
    {
     "name": "stdout",
     "output_type": "stream",
     "text": [
      "[0.56538869 0.29520201 0.01504511 0.17555809 0.62516583 0.76542051]\n",
      "[0.01504511 0.17555809 0.29520201 0.56538869 0.62516583 0.76542051]\n"
     ]
    }
   ],
   "source": [
    "random_array = np.random.rand(6)\n",
    "print(random_array)\n",
    "sorted_array = bubble_sort(random_array)\n",
    "print(sorted_array)"
   ]
  },
  {
   "cell_type": "code",
   "execution_count": 24,
   "metadata": {},
   "outputs": [
    {
     "name": "stdout",
     "output_type": "stream",
     "text": [
      "18.7 µs ± 909 ns per loop (mean ± std. dev. of 7 runs, 10000 loops each)\n",
      "1.64 ms ± 51.9 µs per loop (mean ± std. dev. of 7 runs, 1000 loops each)\n",
      "163 ms ± 8.71 ms per loop (mean ± std. dev. of 7 runs, 10 loops each)\n",
      "16.8 s ± 486 ms per loop (mean ± std. dev. of 7 runs, 1 loop each)\n"
     ]
    }
   ],
   "source": [
    "bubblesort_times = []\n",
    "for i in [10**k for k in range(1, 5)]:\n",
    "    random_array = np.random.rand(i)\n",
    "    time = %timeit -o bubble_sort(random_array)\n",
    "    bubblesort_times.append(time.average)"
   ]
  },
  {
   "cell_type": "markdown",
   "metadata": {},
   "source": [
    "### Selection sort:"
   ]
  },
  {
   "cell_type": "code",
   "execution_count": 25,
   "metadata": {},
   "outputs": [],
   "source": [
    "def selection_sort(array):\n",
    "    \"\"\"\n",
    "    Sorts the input data using selection sort algorithm.\n",
    "    Args:\n",
    "        array (array_like): input data\n",
    "    Returns:\n",
    "        numpy.ndarray: sorted data\n",
    "    \"\"\"\n",
    "    tmp = np.copy(array)\n",
    "    for i in range(len(tmp)):\n",
    "        min_index = np.argwhere(tmp[i:] == min(tmp[i:])) # find index of minimum element relatively to i\n",
    "        if min_index != 0:\n",
    "            tmp[i], tmp[i+min_index] = tmp[i+min_index], tmp[i] # swap i-th element with the minimum element\n",
    "    return tmp"
   ]
  },
  {
   "cell_type": "code",
   "execution_count": 26,
   "metadata": {},
   "outputs": [
    {
     "name": "stdout",
     "output_type": "stream",
     "text": [
      "[0.77563541 0.01646663 0.0479578  0.97583592 0.53169488 0.62340595]\n",
      "[0.01646663 0.0479578  0.53169488 0.62340595 0.77563541 0.97583592]\n"
     ]
    }
   ],
   "source": [
    "random_array = np.random.rand(6)\n",
    "print(random_array)\n",
    "sorted_array = selection_sort(random_array)\n",
    "print(sorted_array)"
   ]
  },
  {
   "cell_type": "code",
   "execution_count": 27,
   "metadata": {
    "scrolled": true
   },
   "outputs": [
    {
     "name": "stdout",
     "output_type": "stream",
     "text": [
      "98.9 µs ± 5.27 µs per loop (mean ± std. dev. of 7 runs, 10000 loops each)\n",
      "1.31 ms ± 39.1 µs per loop (mean ± std. dev. of 7 runs, 1000 loops each)\n",
      "34.9 ms ± 233 µs per loop (mean ± std. dev. of 7 runs, 10 loops each)\n",
      "2.59 s ± 59.6 ms per loop (mean ± std. dev. of 7 runs, 1 loop each)\n"
     ]
    }
   ],
   "source": [
    "selectionsort_times = []\n",
    "for i in [10**k for k in range(1, 5)]:\n",
    "    random_array = np.random.rand(i)\n",
    "    time = %timeit -o selection_sort(random_array)\n",
    "    selectionsort_times.append(time.average)"
   ]
  },
  {
   "cell_type": "markdown",
   "metadata": {},
   "source": [
    "### Insertion sort:"
   ]
  },
  {
   "cell_type": "code",
   "execution_count": 28,
   "metadata": {},
   "outputs": [],
   "source": [
    "def insertion_sort(array):\n",
    "    \"\"\"\n",
    "    Sorts the input data using inserion sort algorithm.\n",
    "    Args:\n",
    "        array (array_like): input data\n",
    "    Returns:\n",
    "        numpy.ndarray: sorted data\n",
    "    \"\"\"\n",
    "    tmp = np.copy(array)\n",
    "    for i in range(1, len(tmp)):\n",
    "        val = tmp[i]\n",
    "        j = i\n",
    "        while j > 0 and tmp[j-1] > val:\n",
    "            tmp[j] = tmp[j-1]\n",
    "            j = j - 1\n",
    "        tmp[j] = val\n",
    "    return tmp"
   ]
  },
  {
   "cell_type": "code",
   "execution_count": 29,
   "metadata": {
    "scrolled": true
   },
   "outputs": [
    {
     "name": "stdout",
     "output_type": "stream",
     "text": [
      "[0.51763593 0.44179379 0.83815758 0.27994087 0.0508406  0.38052537]\n",
      "[0.0508406  0.27994087 0.38052537 0.44179379 0.51763593 0.83815758]\n"
     ]
    }
   ],
   "source": [
    "random_array = np.random.rand(6)\n",
    "print(random_array)\n",
    "sorted_array = insertion_sort(random_array)\n",
    "print(sorted_array)"
   ]
  },
  {
   "cell_type": "code",
   "execution_count": 30,
   "metadata": {},
   "outputs": [
    {
     "name": "stdout",
     "output_type": "stream",
     "text": [
      "7.45 µs ± 342 ns per loop (mean ± std. dev. of 7 runs, 100000 loops each)\n",
      "768 µs ± 18.4 µs per loop (mean ± std. dev. of 7 runs, 1000 loops each)\n",
      "82.1 ms ± 3.22 ms per loop (mean ± std. dev. of 7 runs, 10 loops each)\n",
      "7.86 s ± 234 ms per loop (mean ± std. dev. of 7 runs, 1 loop each)\n"
     ]
    }
   ],
   "source": [
    "insertionsort_times = []\n",
    "for i in [10**k for k in range(1, 5)]:\n",
    "    random_array = np.random.rand(i)\n",
    "    time = %timeit -o insertion_sort(random_array)\n",
    "    insertionsort_times.append(time.average)"
   ]
  },
  {
   "cell_type": "markdown",
   "metadata": {},
   "source": [
    "### Shell sort:"
   ]
  },
  {
   "cell_type": "code",
   "execution_count": 31,
   "metadata": {},
   "outputs": [],
   "source": [
    "def shell_sort(array):\n",
    "    \"\"\"\n",
    "    Sorts the input data using shell sort algorithm.\n",
    "    Args:\n",
    "        array (array_like): input data\n",
    "    Returns:\n",
    "        numpy.ndarray: sorted data\n",
    "    \"\"\"\n",
    "    tmp = np.copy(array)\n",
    "    gap = int(len(tmp) / 2)\n",
    "    while gap > 0:\n",
    "        for i in range(gap, len(tmp)):\n",
    "            val = tmp[i]\n",
    "            j = i\n",
    "            while j >= gap and tmp[j-gap] > val:\n",
    "                tmp[j] = tmp[j-gap]\n",
    "                j = j - gap\n",
    "            tmp[j] = val\n",
    "        gap = int(gap / 2)\n",
    "    return tmp"
   ]
  },
  {
   "cell_type": "code",
   "execution_count": 32,
   "metadata": {},
   "outputs": [
    {
     "name": "stdout",
     "output_type": "stream",
     "text": [
      "[0.53973982 0.59430075 0.44651677 0.60911683 0.09887298 0.04064742]\n",
      "[0.04064742 0.09887298 0.44651677 0.53973982 0.59430075 0.60911683]\n"
     ]
    }
   ],
   "source": [
    "random_array = np.random.rand(6)\n",
    "print(random_array)\n",
    "sorted_array = shell_sort(random_array)\n",
    "print(sorted_array)"
   ]
  },
  {
   "cell_type": "code",
   "execution_count": 33,
   "metadata": {},
   "outputs": [
    {
     "name": "stdout",
     "output_type": "stream",
     "text": [
      "10.6 µs ± 36.7 ns per loop (mean ± std. dev. of 7 runs, 100000 loops each)\n",
      "256 µs ± 2.9 µs per loop (mean ± std. dev. of 7 runs, 1000 loops each)\n",
      "4.37 ms ± 19.6 µs per loop (mean ± std. dev. of 7 runs, 100 loops each)\n",
      "82.6 ms ± 163 µs per loop (mean ± std. dev. of 7 runs, 10 loops each)\n"
     ]
    }
   ],
   "source": [
    "shellsort_times = []\n",
    "for i in [10**k for k in range(1, 5)]:\n",
    "    random_array = np.random.rand(i)\n",
    "    time = %timeit -o shell_sort(random_array)\n",
    "    shellsort_times.append(time.average)"
   ]
  },
  {
   "cell_type": "markdown",
   "metadata": {},
   "source": [
    "### Quicksort:"
   ]
  },
  {
   "cell_type": "code",
   "execution_count": 34,
   "metadata": {},
   "outputs": [],
   "source": [
    "def quick_sort(array):\n",
    "    \"\"\"\n",
    "    Sorts the input data using quicksort algorithm.\n",
    "    Args:\n",
    "        array (array_like): input data\n",
    "    Returns:\n",
    "        numpy.ndarray: sorted data\n",
    "    \"\"\"\n",
    "    less = np.array([])\n",
    "    equal = np.array([])\n",
    "    greater = np.array([])\n",
    "    if len(array) > 1:\n",
    "        pivot = array[0]\n",
    "        for x in array:\n",
    "            if x < pivot: less = np.append(less, x)\n",
    "            if x == pivot: equal = np.append(equal, x)\n",
    "            if x > pivot: greater = np.append(greater, x)\n",
    "        return np.concatenate((quick_sort(less), equal, quick_sort(greater)))\n",
    "    else:\n",
    "        return array"
   ]
  },
  {
   "cell_type": "code",
   "execution_count": 35,
   "metadata": {
    "scrolled": false
   },
   "outputs": [
    {
     "name": "stdout",
     "output_type": "stream",
     "text": [
      "[0.47353966 0.81521686 0.18052071 0.64194514 0.06816064 0.50752108]\n",
      "[0.06816064 0.18052071 0.47353966 0.50752108 0.64194514 0.81521686]\n"
     ]
    }
   ],
   "source": [
    "random_array = np.random.rand(6)\n",
    "print(random_array)\n",
    "sorted_array = quick_sort(random_array)\n",
    "print(sorted_array)"
   ]
  },
  {
   "cell_type": "code",
   "execution_count": 36,
   "metadata": {},
   "outputs": [
    {
     "name": "stdout",
     "output_type": "stream",
     "text": [
      "165 µs ± 5.09 µs per loop (mean ± std. dev. of 7 runs, 10000 loops each)\n",
      "2.81 ms ± 142 µs per loop (mean ± std. dev. of 7 runs, 100 loops each)\n",
      "40.2 ms ± 2.39 ms per loop (mean ± std. dev. of 7 runs, 10 loops each)\n",
      "543 ms ± 15.1 ms per loop (mean ± std. dev. of 7 runs, 1 loop each)\n"
     ]
    }
   ],
   "source": [
    "quicksort_times = []\n",
    "for i in [10**k for k in range(1, 5)]:\n",
    "    random_array = np.random.rand(i)\n",
    "    time = %timeit -o quick_sort(random_array)\n",
    "    quicksort_times.append(time.average)"
   ]
  },
  {
   "cell_type": "markdown",
   "metadata": {},
   "source": [
    "### Heapsort:"
   ]
  },
  {
   "cell_type": "code",
   "execution_count": 37,
   "metadata": {},
   "outputs": [],
   "source": [
    "def heapify(array, n, i): \n",
    "    largest = i\n",
    "    l = 2*i + 1  \n",
    "    r = 2*i + 2\n",
    "    if l < n and array[i] < array[l]: \n",
    "        largest = l \n",
    "    if r < n and array[largest] < array[r]: \n",
    "        largest = r \n",
    "    if largest != i: \n",
    "        array[i], array[largest] = array[largest], array[i]\n",
    "        heapify(array, n, largest)\n",
    "\n",
    "def heap_sort(array):\n",
    "    \"\"\"\n",
    "    Sorts the input data using heapsort algorithm.\n",
    "    Args:\n",
    "        array (array_like): input data\n",
    "    Returns:\n",
    "        numpy.ndarray: sorted data\n",
    "    \"\"\"\n",
    "    tmp = np.copy(array)\n",
    "    n = len(tmp) \n",
    "    for i in range(n, -1, -1): \n",
    "        heapify(tmp, n, i) \n",
    "    for i in range(n-1, 0, -1): \n",
    "        tmp[i], tmp[0] = tmp[0], tmp[i]\n",
    "        heapify(tmp, i, 0)         \n",
    "    return tmp"
   ]
  },
  {
   "cell_type": "code",
   "execution_count": 38,
   "metadata": {
    "scrolled": true
   },
   "outputs": [
    {
     "name": "stdout",
     "output_type": "stream",
     "text": [
      "[0.90592231 0.90090537 0.42742391 0.64386703 0.29137362 0.05753733]\n",
      "[0.05753733 0.29137362 0.42742391 0.64386703 0.90090537 0.90592231]\n"
     ]
    }
   ],
   "source": [
    "random_array = np.random.rand(6)\n",
    "print(random_array)\n",
    "sorted_array = heap_sort(random_array)\n",
    "print(sorted_array)"
   ]
  },
  {
   "cell_type": "code",
   "execution_count": 39,
   "metadata": {
    "scrolled": true
   },
   "outputs": [
    {
     "name": "stdout",
     "output_type": "stream",
     "text": [
      "23.4 µs ± 1.43 µs per loop (mean ± std. dev. of 7 runs, 10000 loops each)\n",
      "453 µs ± 19.9 µs per loop (mean ± std. dev. of 7 runs, 1000 loops each)\n",
      "7.37 ms ± 357 µs per loop (mean ± std. dev. of 7 runs, 100 loops each)\n",
      "101 ms ± 2.79 ms per loop (mean ± std. dev. of 7 runs, 10 loops each)\n"
     ]
    }
   ],
   "source": [
    "heapsort_times = []\n",
    "for i in [10**k for k in range(1, 5)]:\n",
    "    random_array = np.random.rand(i)\n",
    "    time = %timeit -o heap_sort(random_array)\n",
    "    heapsort_times.append(time.average)"
   ]
  },
  {
   "cell_type": "markdown",
   "metadata": {},
   "source": [
    "### Benchmark:"
   ]
  },
  {
   "cell_type": "code",
   "execution_count": 78,
   "metadata": {
    "scrolled": true
   },
   "outputs": [
    {
     "data": {
      "text/plain": [
       "<matplotlib.legend.Legend at 0x1a9463c1f28>"
      ]
     },
     "execution_count": 78,
     "metadata": {},
     "output_type": "execute_result"
    },
    {
     "data": {
      "image/png": "[encoded data removed]",
      "text/plain": [
       "<matplotlib.figure.Figure at 0x1a945265518>"
      ]
     },
     "metadata": {
      "needs_background": "light"
     },
     "output_type": "display_data"
    }
   ],
   "source": [
    "sizes = [10**k for k in range(1, 5)]\n",
    "\n",
    "fig, ax = plt.subplots()\n",
    "ax.loglog(sizes, bubblesort_times, label=\"Bubble sort\", marker=\"o\")\n",
    "ax.loglog(sizes, selectionsort_times, label=\"Selection sort\", marker=\"o\")\n",
    "ax.loglog(sizes, insertionsort_times, label=\"Insertion sort\", marker=\"o\")\n",
    "ax.loglog(sizes, shellsort_times, label=\"Shell sort\", marker=\"o\")\n",
    "ax.loglog(sizes, quicksort_times, label=\"Quick sort\", marker=\"o\")\n",
    "ax.loglog(sizes, heapsort_times, label=\"Heap sort\", marker=\"o\")\n",
    "ax.set_xlabel('array size')\n",
    "ax.set_ylabel('time [s]')\n",
    "ax.legend()"
   ]
  }
 ],
 "metadata": {
  "kernelspec": {
   "display_name": "Python 3",
   "language": "python",
   "name": "python3"
  },
  "language_info": {
   "codemirror_mode": {
    "name": "ipython",
    "version": 3
   },
   "file_extension": ".py",
   "mimetype": "text/x-python",
   "name": "python",
   "nbconvert_exporter": "python",
   "pygments_lexer": "ipython3",
   "version": "3.6.3"
  }
 },
 "nbformat": 4,
 "nbformat_minor": 2
}
