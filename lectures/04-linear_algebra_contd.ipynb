{
 "cells": [
  {
   "cell_type": "markdown",
   "metadata": {},
   "source": [
    "# Linear Algebra - cont'd"
   ]
  },
  {
   "cell_type": "code",
   "execution_count": 2,
   "metadata": {},
   "outputs": [],
   "source": [
    "import numpy as np\n",
    "import scipy.linalg as la"
   ]
  },
  {
   "cell_type": "markdown",
   "metadata": {},
   "source": [
    "### Iterative methods:"
   ]
  },
  {
   "cell_type": "code",
   "execution_count": 4,
   "metadata": {},
   "outputs": [],
   "source": [
    "def jacobi_method(A, b, max_it=500, eps=0.0):\n",
    "    \"\"\"\n",
    "    Solves system of linear equations iteratively using Jacobi's algorithm.\n",
    "    Args:\n",
    "        A (array_like): A n-by-n regular matrix\n",
    "        b (array_like): RHS vector of size n\n",
    "        max_it (int): Maximum number of iterations\n",
    "        eps (float): Error tolerance\n",
    "    Returns:\n",
    "        numpy.ndarray: Vector of solution\n",
    "    \"\"\"\n",
    "    n, n = A.shape\n",
    "    x = np.zeros(n)\n",
    "    x_new = np.zeros(n)   \n",
    "    for k in range(max_it):\n",
    "        for i in range(n):\n",
    "            x_new[i] = (1.0 / A[i,i]) * (b[i] - np.dot(A[i,:i], x[:i]) - np.dot(A[i,i+1:], x[i+1:]))           \n",
    "        x = x_new\n",
    "        if(la.norm(np.dot(A, x) - b) < eps):\n",
    "            break   \n",
    "    return x"
   ]
  },
  {
   "cell_type": "code",
   "execution_count": 5,
   "metadata": {},
   "outputs": [
    {
     "name": "stdout",
     "output_type": "stream",
     "text": [
      "[0.03442613 0.08663328 0.02184537]\n",
      "[0.03442613 0.08663328 0.02184537]\n"
     ]
    }
   ],
   "source": [
    "# test of the jacobi_method function\n",
    "A = np.random.rand(3, 3) + 10. * np.eye(3) # create diagonally dominant matrix to ensure convergence\n",
    "b = np.random.rand(3)\n",
    "print(jacobi_method(A, b, 20))\n",
    "print(la.solve(A, b))"
   ]
  },
  {
   "cell_type": "code",
   "execution_count": 6,
   "metadata": {},
   "outputs": [],
   "source": [
    "def gauss_seidel_method(A, b, max_it=500, eps=0.0):\n",
    "    \"\"\"\n",
    "    Solves system of linear equations iteratively using Gauss-Seidel's algorithm.\n",
    "    Args:\n",
    "        A (array_like): A n-by-n regular matrix\n",
    "        b (array_like): RHS vector of size n\n",
    "        max_it (int): Maximum number of iterations\n",
    "        eps (float): Error tolerance\n",
    "    Returns:\n",
    "        numpy.ndarray: Vector of solution\n",
    "    \"\"\"\n",
    "    n, n = A.shape\n",
    "    x = np.zeros(n)\n",
    "    x_new = np.zeros(n)  \n",
    "    for k in range(max_it):\n",
    "        for i in range(n):\n",
    "            x_new[i] = (1.0 / A[i,i]) * (b[i] - np.dot(A[i,:i], x_new[:i]) - np.dot(A[i,i+1:], x[i+1:]))      \n",
    "        x = x_new\n",
    "        if(la.norm(np.dot(A, x) - b) < eps):\n",
    "            break  \n",
    "    return x"
   ]
  },
  {
   "cell_type": "code",
   "execution_count": 7,
   "metadata": {},
   "outputs": [
    {
     "name": "stdout",
     "output_type": "stream",
     "text": [
      "[0.04673846 0.03862034 0.0595774 ]\n",
      "[0.04673846 0.03862034 0.0595774 ]\n"
     ]
    }
   ],
   "source": [
    "# test of the gauss_seidel_method function\n",
    "A = np.random.rand(3, 3) + 10. * np.eye(3) # create diagonally dominant matrix to ensure convergence\n",
    "b = np.random.rand(3)\n",
    "print(gauss_seidel_method(A, b, 20))\n",
    "print(la.solve(A, b))"
   ]
  },
  {
   "cell_type": "code",
   "execution_count": 8,
   "metadata": {},
   "outputs": [],
   "source": [
    "def successive_overrelaxation_method(A, b, omega=1.0, max_it=500, eps=0.0):\n",
    "    \"\"\"\n",
    "    Solves system of linear equations iteratively using successive overrelaxation (SOR) method.\n",
    "    Args:\n",
    "        A (array_like): A n-by-n regular matrix\n",
    "        b (array_like): RHS vector of size n\n",
    "        max_it (int): Maximum number of iterations\n",
    "        eps (float): Error tolerance\n",
    "    Returns:\n",
    "        numpy.ndarray: Vector of solution\n",
    "    \"\"\"\n",
    "    n, n = A.shape\n",
    "    x = np.zeros(n)\n",
    "    x_new = np.zeros(n)\n",
    "    for k in range(max_it):\n",
    "        for i in range(n):\n",
    "            x_new[i] = (1.0 / A[i,i]) * (b[i] - np.dot(A[i,:i], x_new[:i]) - np.dot(A[i,i+1:], x[i+1:]))\n",
    "        x += omega * (x_new - x)\n",
    "        if(la.norm(np.dot(A, x) - b) < eps):\n",
    "            break\n",
    "    return x"
   ]
  },
  {
   "cell_type": "code",
   "execution_count": 9,
   "metadata": {},
   "outputs": [
    {
     "name": "stdout",
     "output_type": "stream",
     "text": [
      "[0.09103014 0.01126088 0.00920895]\n",
      "[0.09103014 0.01126088 0.00920895]\n"
     ]
    }
   ],
   "source": [
    "# test of the successive_overrelaxation_method function\n",
    "A = np.random.rand(3, 3) + 10. * np.eye(3) # create diagonally dominant matrix to ensure convergence\n",
    "b = np.random.rand(3)\n",
    "\n",
    "L = np.tril(A, -1) # get lower triangular matrix with zeros on diagonal\n",
    "U = np.triu(A, 1) # get upper triangular matrix with zeros on diagonal\n",
    "D = A - L - U # get diagonal matrix\n",
    "B = -np.dot(la.inv(D + L), U) # calculate iteration matrix\n",
    "rho = np.max(np.abs(la.eigvals(B))) # find spectral radius (i.e. maximal eigenvalue in absolute value)\n",
    "omega = 2.0 / (1.0 + np.sqrt(1.0 - rho**2)) # find optimal relaxation factor\n",
    "\n",
    "print(successive_overrelaxation_method(A, b, omega, 20))\n",
    "print(la.solve(A, b))"
   ]
  },
  {
   "cell_type": "code",
   "execution_count": 10,
   "metadata": {},
   "outputs": [],
   "source": [
    "def power_iteration(A, max_it=500):\n",
    "    \"\"\"\n",
    "    Finds the greatest eigen value (in absolute value) of given matrix and its corresponding eigenvector.\n",
    "    Args:\n",
    "        A (array_like): A n-by-n diagonalizable matrix\n",
    "        max_it (int): Maximum number of iterations\n",
    "    Returns:\n",
    "        numpy.ndarray: Eigenvector corresponding to a greatest eigenvalue (in absolute value)\n",
    "        float: Greatest eigenvalue (in absolute value)\n",
    "    \"\"\"\n",
    "    n, n = A.shape\n",
    "    eigen_vec = np.ones(n)\n",
    "    for i in range(max_it):\n",
    "        eigen_vec_new = np.dot(A, eigen_vec)\n",
    "        eigen_vec = eigen_vec_new\n",
    "    eigen_vec = eigen_vec / la.norm(eigen_vec_new)\n",
    "    eigen_val = la.norm(np.dot(A, eigen_vec))\n",
    "    return eigen_vec, eigen_val"
   ]
  },
  {
   "cell_type": "code",
   "execution_count": 11,
   "metadata": {},
   "outputs": [
    {
     "name": "stdout",
     "output_type": "stream",
     "text": [
      "1.5675451676482435\n",
      "1.567545167648242\n"
     ]
    }
   ],
   "source": [
    "# test of the power_iteration function\n",
    "A = np.random.rand(3, 3)\n",
    "e_vec, e_val = power_iteration(A, 20)\n",
    "print(e_val)\n",
    "print(np.max(np.abs(la.eigvals(A))))"
   ]
  },
  {
   "cell_type": "markdown",
   "metadata": {},
   "source": [
    "### Gradient methods:"
   ]
  },
  {
   "cell_type": "code",
   "execution_count": 12,
   "metadata": {},
   "outputs": [],
   "source": [
    "def conjugate_gradient_method(A, b, x, eps=1.0e-10):\n",
    "    \"\"\"\n",
    "    Solves system of linear equations using conjugate gradient method.\n",
    "    Args:\n",
    "        A (array_like): A n-by-n regular matrix\n",
    "        b (array_like): RHS vector of size n\n",
    "        x (array_like): Initial guess\n",
    "        eps (float): Error tolerance\n",
    "    Returns:\n",
    "        numpy.ndarray: Vector of solution\n",
    "    \"\"\"\n",
    "    r = b - np.dot(A, x)\n",
    "    p = r\n",
    "    rs_old = np.dot(r.T, r)\n",
    "    for i in range(len(b)):\n",
    "        Ap = np.dot(A, p)\n",
    "        alpha = rs_old / (np.dot(p.T, Ap))\n",
    "        x = x + np.dot(alpha, p)\n",
    "        r = r - np.dot(alpha, Ap)\n",
    "        rs_new = np.dot(r.T, r)\n",
    "        if np.sqrt(rs_new) < eps:\n",
    "            break\n",
    "        p = r + np.dot((rs_new / rs_old), p);\n",
    "        rs_old = rs_new;\n",
    "    return x"
   ]
  },
  {
   "cell_type": "code",
   "execution_count": 13,
   "metadata": {},
   "outputs": [
    {
     "name": "stdout",
     "output_type": "stream",
     "text": [
      "[0.04844102 0.73947705 0.03438916]\n",
      "[0.04844102 0.73947705 0.03438916]\n"
     ]
    }
   ],
   "source": [
    "# test of the conjugate_gradient_method function\n",
    "\n",
    "n = 3 # size of the problem\n",
    "A = np.random.rand(n, n)\n",
    "A = np.tril(A) + np.tril(A, -1).T # generate random symmetric matrix (should check also wheter the matrix is positive-definite)\n",
    "b = np.random.rand(n) # random RHS vector\n",
    "x_0 = np.zeros(len(b)) # initial guess\n",
    "\n",
    "print(conjugate_gradient_method(A, b, x_0))\n",
    "print(la.solve(A, b))"
   ]
  },
  {
   "cell_type": "code",
   "execution_count": null,
   "metadata": {},
   "outputs": [],
   "source": []
  }
 ],
 "metadata": {
  "kernelspec": {
   "display_name": "Python 3",
   "language": "python",
   "name": "python3"
  },
  "language_info": {
   "codemirror_mode": {
    "name": "ipython",
    "version": 3
   },
   "file_extension": ".py",
   "mimetype": "text/x-python",
   "name": "python",
   "nbconvert_exporter": "python",
   "pygments_lexer": "ipython3",
   "version": "3.8.5"
  }
 },
 "nbformat": 4,
 "nbformat_minor": 2
}
