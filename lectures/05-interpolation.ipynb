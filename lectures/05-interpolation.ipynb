{
 "cells": [
  {
   "cell_type": "markdown",
   "metadata": {},
   "source": [
    "# Tutorial 05 - Interpolation"
   ]
  },
  {
   "cell_type": "code",
   "execution_count": null,
   "metadata": {},
   "outputs": [],
   "source": [
    "import numpy as np\n",
    "import scipy.interpolate as interp\n",
    "import scipy.linalg as la\n",
    "import matplotlib.pyplot as plt"
   ]
  },
  {
   "cell_type": "markdown",
   "metadata": {},
   "source": [
    "### Linear interpolation"
   ]
  },
  {
   "cell_type": "markdown",
   "metadata": {},
   "source": [
    "[Linear interpolation](https://en.wikipedia.org/wiki/Linear_interpolation) is defined as a concatenation of straight lines connecting each pair of the set of known points. If the two known points are given by the coordinates $ (x_{i}, y_{i}) $ and $ (x_{i + 1}, y_{i + 1}) $, the linear interpolation in the interval $ (x_{i}, x_{i + 1}) $ is given by the following formula,\n",
    "\n",
    "$$\n",
    "y = y_i + \\alpha (x - x_i), \\qquad x \\in [x_i, x_{i+1}],\n",
    "$$\n",
    "where\n",
    "$$\n",
    "\\alpha = \\frac{y_{i+1} - y_{i}}{x_{i + 1} - x_{i}}.\n",
    "$$\n",
    "\n"
   ]
  },
  {
   "cell_type": "markdown",
   "metadata": {},
   "source": [
    "\n",
    "**05.1 Example:** Implement the linear interpolation."
   ]
  },
  {
   "cell_type": "code",
   "execution_count": null,
   "metadata": {},
   "outputs": [],
   "source": [
    "def linear_interpolation(x_p, y_p, x):\n",
    "    \"\"\"\n",
    "    Calculates the linear interpolation.\n",
    "    Args:\n",
    "        x_p (array_like): X-coordinates of a set of datapoints\n",
    "        y_p (array_like): Y-coordinates of a set of datapoints\n",
    "        x (array_like): An array on which the interpolation is calculated\n",
    "    Returns:\n",
    "        numpy.ndarray: The piece-wise linear interpolation\n",
    "    \"\"\"   \n",
    "    \n",
    "    # add your code here"
   ]
  },
  {
   "cell_type": "markdown",
   "metadata": {},
   "source": [
    "Plot the result of the linear interpolation on a set of 5 random points."
   ]
  },
  {
   "cell_type": "code",
   "execution_count": null,
   "metadata": {},
   "outputs": [],
   "source": [
    "# add your code here"
   ]
  },
  {
   "cell_type": "markdown",
   "metadata": {},
   "source": [
    "### Lagrange interpolation"
   ]
  },
  {
   "cell_type": "markdown",
   "metadata": {},
   "source": [
    "Given a set of $ n + 1 $ known data points $ (x_{i}, y_{i}) $, $ i = 0, 1, \\dots, n $, where no two $ x_i $ are the same, the [Lagrange interpolation](https://en.wikipedia.org/wiki/Lagrange_polynomial) is the $ n $-th degree polynomial given by a linear comnimation\n",
    "\n",
    "$$\n",
    "L_n(x) = \\sum_{i = 0}^{n} y_i F_i(x)\n",
    "$$\n",
    "of Lagrange basis polynomials\n",
    "$$\n",
    "F_i(x) = \\prod_{\\substack{j = 0 \\\\ j \\neq i}}^{n} \\frac{x - x_j}{x_i - x_j}.\n",
    "$$"
   ]
  },
  {
   "cell_type": "markdown",
   "metadata": {},
   "source": [
    "**05.2 Example:** Implement a function that calculates the Lagrange interpolating polynomial."
   ]
  },
  {
   "cell_type": "code",
   "execution_count": null,
   "metadata": {},
   "outputs": [],
   "source": [
    "def lagrange_interpolation(x, y):\n",
    "    \"\"\"\n",
    "    Calculates a Lagrange interpolating polynomial.\n",
    "    Args:\n",
    "        x (array_like): X-coordinates of a set of datapoints\n",
    "        y (array_like): Y-coordinates of a set of datapoints\n",
    "    Returns:\n",
    "        numpy.poly1d: The Lagrange interpolating polynomial\n",
    "    \"\"\"\n",
    "    \n",
    "    # add your code here"
   ]
  },
  {
   "cell_type": "markdown",
   "metadata": {},
   "source": [
    "Calculate the Lagrange interpolating polynomial of a set of 4 random points and plot the result."
   ]
  },
  {
   "cell_type": "code",
   "execution_count": null,
   "metadata": {
    "scrolled": true
   },
   "outputs": [],
   "source": [
    "# add your code here"
   ]
  },
  {
   "cell_type": "markdown",
   "metadata": {},
   "source": [
    "### Neville's algorithm"
   ]
  },
  {
   "cell_type": "markdown",
   "metadata": {},
   "source": [
    "[Neville's algorithm](https://en.wikipedia.org/wiki/Neville%27s_algorithm) is used for recursive evaluation of Lagrange interpolating polynomial. The recurence is given by the following relation,\n",
    "\n",
    "$$\n",
    "L_{i, j} = \\frac{(x - x_j) L_{i, j-1} - (x - x_i) L_{i+1, j}}{x_i - x_j}, \\qquad L_{i, i} = y_i, \\qquad i, j = 0, 1, \\dots, n.\n",
    "$$\n",
    "\n",
    "The Lagrange interpolating polynomial is then $ L_n(x) = L_{0, n} $."
   ]
  },
  {
   "cell_type": "markdown",
   "metadata": {},
   "source": [
    "**05.3 Example:** Implement the Neville's algorithm."
   ]
  },
  {
   "cell_type": "code",
   "execution_count": null,
   "metadata": {},
   "outputs": [],
   "source": [
    "def neville_algorithm(x, y):\n",
    "    \"\"\"\n",
    "    Calculates a Lagrange interpolating polynomial using Neville's algorithm.\n",
    "    Args:\n",
    "        x (array_like): X-coordinates of a set of datapoints\n",
    "        y (array_like): Y-coordinates of a set of datapoints\n",
    "    Returns:\n",
    "        numpy.poly1d: The Lagrange interpolating polynomial\n",
    "    \"\"\"\n",
    "\n",
    "    # add your code here"
   ]
  },
  {
   "cell_type": "markdown",
   "metadata": {},
   "source": [
    "Calculate the Lagrange interpolating polynomial of a set of a 4 random points using the Nevilles's algorithm and plot the result."
   ]
  },
  {
   "cell_type": "code",
   "execution_count": null,
   "metadata": {
    "scrolled": false
   },
   "outputs": [],
   "source": [
    "# add your code here"
   ]
  },
  {
   "cell_type": "markdown",
   "metadata": {},
   "source": [
    "**05.4 Example:** Interpolate the Runge's function \n",
    "$$\n",
    "f(x) = \\frac{1}{1 + 25x^2}\n",
    "$$\n",
    "\n",
    "with the Lagrange interpolating polynom on $ x \\in [-1, 1] $ using $ 20 $ equidistant points. Plot the result."
   ]
  },
  {
   "cell_type": "code",
   "execution_count": null,
   "metadata": {},
   "outputs": [],
   "source": [
    "# add your code here"
   ]
  },
  {
   "cell_type": "markdown",
   "metadata": {},
   "source": [
    "### Chebyshev interpolation"
   ]
  },
  {
   "cell_type": "markdown",
   "metadata": {},
   "source": [
    "**05.5 Example:** Write a function that calculates a [Chebyshev polynomial](https://en.wikipedia.org/wiki/Chebyshev_polynomials) of degree $ n $ using the following recursive formula,\n",
    "\n",
    "$$\n",
    "T_{n+1}(x) = 2 x T_n(x) - T_{n-1} x, \\quad T_0(x) = 1, \\ T_1(x) = x.\n",
    "$$"
   ]
  },
  {
   "cell_type": "code",
   "execution_count": null,
   "metadata": {},
   "outputs": [],
   "source": [
    "def chebyshev_polynomial(n):\n",
    "    \"\"\"\n",
    "    Calculates a Chebyshev polynomial of degree n using recursive formula.\n",
    "    Args:\n",
    "        n (int): Degree of the polynomial\n",
    "    Returns:\n",
    "        numpy.poly1d: The Chebyshev polynomial of degree n\n",
    "    \"\"\"\n",
    "\n",
    "    # add your code here"
   ]
  },
  {
   "cell_type": "markdown",
   "metadata": {},
   "source": [
    "Plot the first $ 5 $ Chebyshev polynomials on $ x \\in [-1, 1] $."
   ]
  },
  {
   "cell_type": "code",
   "execution_count": null,
   "metadata": {
    "scrolled": true
   },
   "outputs": [],
   "source": [
    "# add your code here"
   ]
  },
  {
   "cell_type": "markdown",
   "metadata": {},
   "source": [
    "**05.6 Example:** Write a function that returns roots of a Chebyshev polynomial of degree $ n $."
   ]
  },
  {
   "cell_type": "code",
   "execution_count": null,
   "metadata": {},
   "outputs": [],
   "source": [
    "def chebyshev_roots(n):\n",
    "    \"\"\"\n",
    "    Calculates roots of a Chebyshev polynomial of degree n.\n",
    "    Args:\n",
    "        n (int): Degree of the polynomial\n",
    "    Returns:\n",
    "        numpy.ndarray: Roots of a Chebyshev polynomial of degree n\n",
    "    \"\"\"\n",
    "\n",
    "    # add your code here"
   ]
  },
  {
   "cell_type": "markdown",
   "metadata": {},
   "source": [
    "Compare the roots of calculated by the function above with the `numpy.polynomial.Chebyshev.basis(n).roots` function. "
   ]
  },
  {
   "cell_type": "code",
   "execution_count": null,
   "metadata": {},
   "outputs": [],
   "source": [
    "np.testing.assert_almost_equal(chebyshev_roots(10), np.polynomial.Chebyshev.basis(10).roots(), decimal=15)"
   ]
  },
  {
   "cell_type": "markdown",
   "metadata": {},
   "source": [
    "**05.7 Example:** Interpolate the Runge's function \n",
    "$$\n",
    "f(x) = \\frac{1}{1 + 25x^2}\n",
    "$$\n",
    "\n",
    "with the Lagrange interpolating polynom on $ x \\in [-1, 1] $ using the roots of $ 20 $-th degree Chebyshev polynomial. Plot the result."
   ]
  },
  {
   "cell_type": "code",
   "execution_count": null,
   "metadata": {
    "scrolled": true
   },
   "outputs": [],
   "source": [
    "# add your code here"
   ]
  },
  {
   "cell_type": "markdown",
   "metadata": {},
   "source": [
    "### Least squares interpolation"
   ]
  },
  {
   "cell_type": "markdown",
   "metadata": {},
   "source": [
    "[Least squares](https://en.wikipedia.org/wiki/Least_squares#Linear_least_squares) ..."
   ]
  },
  {
   "cell_type": "markdown",
   "metadata": {},
   "source": [
    "**05.8 Example:** Implement the linear least squares polynomial interpolation."
   ]
  },
  {
   "cell_type": "code",
   "execution_count": null,
   "metadata": {},
   "outputs": [],
   "source": [
    "def linear_least_squares(x, y):\n",
    "    \"\"\"\n",
    "    Calculates the linear least squares polynomial interpolation.\n",
    "    Args:\n",
    "        x (array_like): X-coordinates of a set of datapoints\n",
    "        y (array_like): Y-coordinates of a set of datapoints\n",
    "    Returns:\n",
    "        numpy.poly1d: The linear least squares polynomial\n",
    "    \"\"\"\n",
    "\n",
    "    # add your code here"
   ]
  },
  {
   "cell_type": "markdown",
   "metadata": {},
   "source": [
    "Test ..."
   ]
  },
  {
   "cell_type": "code",
   "execution_count": null,
   "metadata": {
    "scrolled": true
   },
   "outputs": [],
   "source": [
    "# add your code here"
   ]
  },
  {
   "cell_type": "markdown",
   "metadata": {},
   "source": [
    "**05.9 Example:** Implement the quadratic least squares polynomial interpolation."
   ]
  },
  {
   "cell_type": "code",
   "execution_count": null,
   "metadata": {},
   "outputs": [],
   "source": [
    "def quadratic_least_squares(x, y):\n",
    "    \"\"\"\n",
    "    Calculates the quadratic least squares polynomial interpolation.\n",
    "    Args:\n",
    "        x (array_like): X-coordinates of a set of datapoints\n",
    "        y (array_like): Y-coordinates of a set of datapoints\n",
    "    Returns:\n",
    "        numpy.poly1d: The quadratic least squares polynomial\n",
    "    \"\"\"\n",
    "\n",
    "    # add your code here"
   ]
  },
  {
   "cell_type": "markdown",
   "metadata": {},
   "source": [
    "Test ..."
   ]
  },
  {
   "cell_type": "code",
   "execution_count": null,
   "metadata": {
    "scrolled": true
   },
   "outputs": [],
   "source": [
    "# add your code here"
   ]
  }
 ],
 "metadata": {
  "kernelspec": {
   "display_name": "Python 3",
   "language": "python",
   "name": "python3"
  },
  "language_info": {
   "codemirror_mode": {
    "name": "ipython",
    "version": 3
   },
   "file_extension": ".py",
   "mimetype": "text/x-python",
   "name": "python",
   "nbconvert_exporter": "python",
   "pygments_lexer": "ipython3",
   "version": "3.8.5"
  }
 },
 "nbformat": 4,
 "nbformat_minor": 2
}
