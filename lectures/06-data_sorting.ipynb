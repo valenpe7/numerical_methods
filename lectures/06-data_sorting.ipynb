{
 "cells": [
  {
   "cell_type": "markdown",
   "metadata": {},
   "source": [
    "# Tutorial 06 - Data sorting"
   ]
  },
  {
   "cell_type": "code",
   "execution_count": null,
   "metadata": {},
   "outputs": [],
   "source": [
    "import numpy as np\n",
    "import matplotlib.pyplot as plt"
   ]
  },
  {
   "cell_type": "markdown",
   "metadata": {},
   "source": [
    "### Bubble sort:"
   ]
  },
  {
   "cell_type": "code",
   "execution_count": null,
   "metadata": {},
   "outputs": [],
   "source": [
    "def bubble_sort(array):\n",
    "    \"\"\"\n",
    "    Sorts the input data using bubble sort algorithm.\n",
    "    Args:\n",
    "        array (array_like): input data\n",
    "    Returns:\n",
    "        numpy.ndarray: sorted data\n",
    "    \"\"\"\n",
    "\n",
    "    # add your code here"
   ]
  },
  {
   "cell_type": "code",
   "execution_count": null,
   "metadata": {},
   "outputs": [],
   "source": [
    "random_array = np.random.rand(6)\n",
    "print(random_array)\n",
    "sorted_array = bubble_sort(random_array)\n",
    "print(sorted_array)"
   ]
  },
  {
   "cell_type": "code",
   "execution_count": null,
   "metadata": {},
   "outputs": [],
   "source": [
    "bubblesort_times = []\n",
    "for i in [10**k for k in range(1, 5)]:\n",
    "    random_array = np.random.rand(i)\n",
    "    time = %timeit -o bubble_sort(random_array)\n",
    "    bubblesort_times.append(time.average)"
   ]
  },
  {
   "cell_type": "markdown",
   "metadata": {},
   "source": [
    "### Selection sort:"
   ]
  },
  {
   "cell_type": "code",
   "execution_count": null,
   "metadata": {},
   "outputs": [],
   "source": [
    "def selection_sort(array):\n",
    "    \"\"\"\n",
    "    Sorts the input data using selection sort algorithm.\n",
    "    Args:\n",
    "        array (array_like): input data\n",
    "    Returns:\n",
    "        numpy.ndarray: sorted data\n",
    "    \"\"\"\n",
    "\n",
    "    # add your code here"
   ]
  },
  {
   "cell_type": "code",
   "execution_count": null,
   "metadata": {},
   "outputs": [],
   "source": [
    "random_array = np.random.rand(6)\n",
    "print(random_array)\n",
    "sorted_array = selection_sort(random_array)\n",
    "print(sorted_array)"
   ]
  },
  {
   "cell_type": "code",
   "execution_count": null,
   "metadata": {
    "scrolled": true
   },
   "outputs": [],
   "source": [
    "selectionsort_times = []\n",
    "for i in [10**k for k in range(1, 5)]:\n",
    "    random_array = np.random.rand(i)\n",
    "    time = %timeit -o selection_sort(random_array)\n",
    "    selectionsort_times.append(time.average)"
   ]
  },
  {
   "cell_type": "markdown",
   "metadata": {},
   "source": [
    "### Insertion sort:"
   ]
  },
  {
   "cell_type": "code",
   "execution_count": null,
   "metadata": {},
   "outputs": [],
   "source": [
    "def insertion_sort(array):\n",
    "    \"\"\"\n",
    "    Sorts the input data using inserion sort algorithm.\n",
    "    Args:\n",
    "        array (array_like): input data\n",
    "    Returns:\n",
    "        numpy.ndarray: sorted data\n",
    "    \"\"\"\n",
    "\n",
    "    # add your code here"
   ]
  },
  {
   "cell_type": "code",
   "execution_count": null,
   "metadata": {
    "scrolled": true
   },
   "outputs": [],
   "source": [
    "random_array = np.random.rand(6)\n",
    "print(random_array)\n",
    "sorted_array = insertion_sort(random_array)\n",
    "print(sorted_array)"
   ]
  },
  {
   "cell_type": "code",
   "execution_count": null,
   "metadata": {},
   "outputs": [],
   "source": [
    "insertionsort_times = []\n",
    "for i in [10**k for k in range(1, 5)]:\n",
    "    random_array = np.random.rand(i)\n",
    "    time = %timeit -o insertion_sort(random_array)\n",
    "    insertionsort_times.append(time.average)"
   ]
  },
  {
   "cell_type": "markdown",
   "metadata": {},
   "source": [
    "### Shell sort:"
   ]
  },
  {
   "cell_type": "code",
   "execution_count": null,
   "metadata": {},
   "outputs": [],
   "source": [
    "def shell_sort(array):\n",
    "    \"\"\"\n",
    "    Sorts the input data using shell sort algorithm.\n",
    "    Args:\n",
    "        array (array_like): input data\n",
    "    Returns:\n",
    "        numpy.ndarray: sorted data\n",
    "    \"\"\"\n",
    "\n",
    "    # add your code here"
   ]
  },
  {
   "cell_type": "code",
   "execution_count": null,
   "metadata": {},
   "outputs": [],
   "source": [
    "random_array = np.random.rand(6)\n",
    "print(random_array)\n",
    "sorted_array = shell_sort(random_array)\n",
    "print(sorted_array)"
   ]
  },
  {
   "cell_type": "code",
   "execution_count": null,
   "metadata": {},
   "outputs": [],
   "source": [
    "shellsort_times = []\n",
    "for i in [10**k for k in range(1, 5)]:\n",
    "    random_array = np.random.rand(i)\n",
    "    time = %timeit -o shell_sort(random_array)\n",
    "    shellsort_times.append(time.average)"
   ]
  },
  {
   "cell_type": "markdown",
   "metadata": {},
   "source": [
    "### Quicksort:"
   ]
  },
  {
   "cell_type": "code",
   "execution_count": null,
   "metadata": {},
   "outputs": [],
   "source": [
    "def quick_sort(array):\n",
    "    \"\"\"\n",
    "    Sorts the input data using quicksort algorithm.\n",
    "    Args:\n",
    "        array (array_like): input data\n",
    "    Returns:\n",
    "        numpy.ndarray: sorted data\n",
    "    \"\"\"\n",
    "\n",
    "    # add your code here"
   ]
  },
  {
   "cell_type": "code",
   "execution_count": null,
   "metadata": {
    "scrolled": false
   },
   "outputs": [],
   "source": [
    "random_array = np.random.rand(6)\n",
    "print(random_array)\n",
    "sorted_array = quick_sort(random_array)\n",
    "print(sorted_array)"
   ]
  },
  {
   "cell_type": "code",
   "execution_count": null,
   "metadata": {},
   "outputs": [],
   "source": [
    "quicksort_times = []\n",
    "for i in [10**k for k in range(1, 5)]:\n",
    "    random_array = np.random.rand(i)\n",
    "    time = %timeit -o quick_sort(random_array)\n",
    "    quicksort_times.append(time.average)"
   ]
  },
  {
   "cell_type": "markdown",
   "metadata": {},
   "source": [
    "### Heapsort:"
   ]
  },
  {
   "cell_type": "code",
   "execution_count": null,
   "metadata": {},
   "outputs": [],
   "source": [
    "def heap_sort(array):\n",
    "    \"\"\"\n",
    "    Sorts the input data using heapsort algorithm.\n",
    "    Args:\n",
    "        array (array_like): input data\n",
    "    Returns:\n",
    "        numpy.ndarray: sorted data\n",
    "    \"\"\"\n",
    "\n",
    "    # add your code here"
   ]
  },
  {
   "cell_type": "code",
   "execution_count": null,
   "metadata": {
    "scrolled": true
   },
   "outputs": [],
   "source": [
    "random_array = np.random.rand(6)\n",
    "print(random_array)\n",
    "sorted_array = heap_sort(random_array)\n",
    "print(sorted_array)"
   ]
  },
  {
   "cell_type": "code",
   "execution_count": null,
   "metadata": {
    "scrolled": true
   },
   "outputs": [],
   "source": [
    "heapsort_times = []\n",
    "for i in [10**k for k in range(1, 5)]:\n",
    "    random_array = np.random.rand(i)\n",
    "    time = %timeit -o heap_sort(random_array)\n",
    "    heapsort_times.append(time.average)"
   ]
  },
  {
   "cell_type": "markdown",
   "metadata": {},
   "source": [
    "### Benchmark:"
   ]
  },
  {
   "cell_type": "code",
   "execution_count": null,
   "metadata": {
    "scrolled": true
   },
   "outputs": [],
   "source": [
    "sizes = [10**k for k in range(1, 5)]\n",
    "\n",
    "fig, ax = plt.subplots()\n",
    "ax.loglog(sizes, bubblesort_times, label=\"Bubble sort\", marker=\"o\")\n",
    "ax.loglog(sizes, selectionsort_times, label=\"Selection sort\", marker=\"o\")\n",
    "ax.loglog(sizes, insertionsort_times, label=\"Insertion sort\", marker=\"o\")\n",
    "ax.loglog(sizes, shellsort_times, label=\"Shell sort\", marker=\"o\")\n",
    "ax.loglog(sizes, quicksort_times, label=\"Quick sort\", marker=\"o\")\n",
    "ax.loglog(sizes, heapsort_times, label=\"Heap sort\", marker=\"o\")\n",
    "ax.set_xlabel('array size')\n",
    "ax.set_ylabel('time [s]')\n",
    "ax.legend()"
   ]
  }
 ],
 "metadata": {
  "kernelspec": {
   "display_name": "Python 3",
   "language": "python",
   "name": "python3"
  },
  "language_info": {
   "codemirror_mode": {
    "name": "ipython",
    "version": 3
   },
   "file_extension": ".py",
   "mimetype": "text/x-python",
   "name": "python",
   "nbconvert_exporter": "python",
   "pygments_lexer": "ipython3",
   "version": "3.8.5"
  }
 },
 "nbformat": 4,
 "nbformat_minor": 2
}
