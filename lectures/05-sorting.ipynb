{
 "cells": [
  {
   "cell_type": "markdown",
   "metadata": {},
   "source": [
    "# Sorting"
   ]
  },
  {
   "cell_type": "code",
   "execution_count": 1,
   "metadata": {},
   "outputs": [],
   "source": [
    "import numpy as np\n",
    "import matplotlib.pyplot as plt\n",
    "%matplotlib inline"
   ]
  },
  {
   "cell_type": "markdown",
   "metadata": {},
   "source": [
    "### Bubble sort:"
   ]
  },
  {
   "cell_type": "code",
   "execution_count": 2,
   "metadata": {},
   "outputs": [],
   "source": [
    "def bubble_sort(array):\n",
    "    \"\"\"\n",
    "    Sorts the input data using bubble sort algorithm.\n",
    "    Args:\n",
    "        array (array_like): input data\n",
    "    Returns:\n",
    "        numpy.ndarray: sorted data\n",
    "    \"\"\"\n",
    "    tmp = np.copy(array)\n",
    "    for i in range(len(tmp)):\n",
    "        for j in range(0, len(tmp) - i - 1):\n",
    "            if tmp[j] > tmp[j+1]:\n",
    "                tmp[j], tmp[j+1] = tmp[j+1], tmp[j]\n",
    "    return tmp"
   ]
  },
  {
   "cell_type": "code",
   "execution_count": 3,
   "metadata": {},
   "outputs": [
    {
     "name": "stdout",
     "output_type": "stream",
     "text": [
      "[0.30087912 0.4633411  0.79382058 0.98333661 0.43047226 0.98931844]\n",
      "[0.30087912 0.43047226 0.4633411  0.79382058 0.98333661 0.98931844]\n"
     ]
    }
   ],
   "source": [
    "random_array = np.random.rand(6)\n",
    "print(random_array)\n",
    "sorted_array = bubble_sort(random_array)\n",
    "print(sorted_array)"
   ]
  },
  {
   "cell_type": "code",
   "execution_count": 4,
   "metadata": {},
   "outputs": [
    {
     "name": "stdout",
     "output_type": "stream",
     "text": [
      "1.61 ms ± 47.7 µs per loop (mean ± std. dev. of 7 runs, 1000 loops each)\n",
      "6.48 ms ± 34 µs per loop (mean ± std. dev. of 7 runs, 100 loops each)\n",
      "24.6 ms ± 336 µs per loop (mean ± std. dev. of 7 runs, 10 loops each)\n",
      "102 ms ± 343 µs per loop (mean ± std. dev. of 7 runs, 10 loops each)\n",
      "410 ms ± 1.32 ms per loop (mean ± std. dev. of 7 runs, 1 loop each)\n",
      "1.66 s ± 5.18 ms per loop (mean ± std. dev. of 7 runs, 1 loop each)\n"
     ]
    }
   ],
   "source": [
    "bubblesort_times = []\n",
    "for i in (100, 200, 400, 800, 1600, 3200):\n",
    "    random_array = np.random.rand(i)\n",
    "    time = %timeit -o bubble_sort(random_array)\n",
    "    bubblesort_times.append(time.average)"
   ]
  },
  {
   "cell_type": "markdown",
   "metadata": {},
   "source": [
    "### Selection sort:"
   ]
  },
  {
   "cell_type": "code",
   "execution_count": 5,
   "metadata": {},
   "outputs": [],
   "source": [
    "def selection_sort(array):\n",
    "    \"\"\"\n",
    "    Sorts the input data using selection sort algorithm.\n",
    "    Args:\n",
    "        array (array_like): input data\n",
    "    Returns:\n",
    "        numpy.ndarray: sorted data\n",
    "    \"\"\"\n",
    "    tmp = np.copy(array)\n",
    "    for i in range(len(tmp)):\n",
    "        min_index = np.argwhere(tmp[i:] == min(tmp[i:])) # find index of minimum element relatively to i\n",
    "        if min_index != 0:\n",
    "            tmp[i], tmp[i+min_index] = tmp[i+min_index], tmp[i] # swap i-th element with the minimum element\n",
    "    return tmp"
   ]
  },
  {
   "cell_type": "code",
   "execution_count": 6,
   "metadata": {},
   "outputs": [
    {
     "name": "stdout",
     "output_type": "stream",
     "text": [
      "[0.93542403 0.06742444 0.40245067 0.01291617 0.75741412 0.7581786 ]\n",
      "[0.01291617 0.06742444 0.40245067 0.75741412 0.7581786  0.93542403]\n"
     ]
    }
   ],
   "source": [
    "random_array = np.random.rand(6)\n",
    "print(random_array)\n",
    "sorted_array = selection_sort(random_array)\n",
    "print(sorted_array)"
   ]
  },
  {
   "cell_type": "code",
   "execution_count": 7,
   "metadata": {
    "scrolled": true
   },
   "outputs": [
    {
     "name": "stdout",
     "output_type": "stream",
     "text": [
      "1.26 ms ± 8.19 µs per loop (mean ± std. dev. of 7 runs, 1000 loops each)\n",
      "3.03 ms ± 42.5 µs per loop (mean ± std. dev. of 7 runs, 100 loops each)\n",
      "7.95 ms ± 21.8 µs per loop (mean ± std. dev. of 7 runs, 100 loops each)\n",
      "23.5 ms ± 82.9 µs per loop (mean ± std. dev. of 7 runs, 10 loops each)\n",
      "77.4 ms ± 165 µs per loop (mean ± std. dev. of 7 runs, 10 loops each)\n",
      "275 ms ± 1.86 ms per loop (mean ± std. dev. of 7 runs, 1 loop each)\n"
     ]
    }
   ],
   "source": [
    "selectionsort_times = []\n",
    "for i in (100, 200, 400, 800, 1600, 3200):\n",
    "    random_array = np.random.rand(i)\n",
    "    time = %timeit -o selection_sort(random_array)\n",
    "    selectionsort_times.append(time.average)"
   ]
  },
  {
   "cell_type": "markdown",
   "metadata": {},
   "source": [
    "### Insertion sort:"
   ]
  },
  {
   "cell_type": "code",
   "execution_count": 8,
   "metadata": {},
   "outputs": [],
   "source": [
    "def insertion_sort(array):\n",
    "    \"\"\"\n",
    "    Sorts the input data using inserion sort algorithm.\n",
    "    Args:\n",
    "        array (array_like): input data\n",
    "    Returns:\n",
    "        numpy.ndarray: sorted data\n",
    "    \"\"\"\n",
    "    tmp = np.copy(array)\n",
    "    for i in range(1, len(tmp)):\n",
    "        val = tmp[i]\n",
    "        j = i\n",
    "        while j > 0 and tmp[j-1] > val:\n",
    "            tmp[j] = tmp[j-1]\n",
    "            j = j - 1\n",
    "        tmp[j] = val\n",
    "    return tmp"
   ]
  },
  {
   "cell_type": "code",
   "execution_count": 9,
   "metadata": {
    "scrolled": true
   },
   "outputs": [
    {
     "name": "stdout",
     "output_type": "stream",
     "text": [
      "[0.2868075  0.52872614 0.22457198 0.11921051 0.0246161  0.57231268]\n",
      "[0.0246161  0.11921051 0.22457198 0.2868075  0.52872614 0.57231268]\n"
     ]
    }
   ],
   "source": [
    "random_array = np.random.rand(6)\n",
    "print(random_array)\n",
    "sorted_array = insertion_sort(random_array)\n",
    "print(sorted_array)"
   ]
  },
  {
   "cell_type": "code",
   "execution_count": 10,
   "metadata": {},
   "outputs": [
    {
     "name": "stdout",
     "output_type": "stream",
     "text": [
      "722 µs ± 3.72 µs per loop (mean ± std. dev. of 7 runs, 1000 loops each)\n",
      "2.74 ms ± 29.5 µs per loop (mean ± std. dev. of 7 runs, 100 loops each)\n",
      "10.9 ms ± 61.4 µs per loop (mean ± std. dev. of 7 runs, 100 loops each)\n",
      "47.1 ms ± 89.1 µs per loop (mean ± std. dev. of 7 runs, 10 loops each)\n",
      "195 ms ± 4.46 ms per loop (mean ± std. dev. of 7 runs, 10 loops each)\n",
      "759 ms ± 2.93 ms per loop (mean ± std. dev. of 7 runs, 1 loop each)\n"
     ]
    }
   ],
   "source": [
    "insertionsort_times = []\n",
    "for i in (100, 200, 400, 800, 1600, 3200):\n",
    "    random_array = np.random.rand(i)\n",
    "    time = %timeit -o insertion_sort(random_array)\n",
    "    insertionsort_times.append(time.average)"
   ]
  },
  {
   "cell_type": "markdown",
   "metadata": {},
   "source": [
    "### Shell sort:"
   ]
  },
  {
   "cell_type": "code",
   "execution_count": 11,
   "metadata": {},
   "outputs": [],
   "source": [
    "def shell_sort(array):\n",
    "    \"\"\"\n",
    "    Sorts the input data using shell sort algorithm.\n",
    "    Args:\n",
    "        array (array_like): input data\n",
    "    Returns:\n",
    "        numpy.ndarray: sorted data\n",
    "    \"\"\"\n",
    "    tmp = np.copy(array)\n",
    "    gap = int(len(tmp) / 2)\n",
    "    while gap > 0:\n",
    "        for i in range(gap, len(tmp)):\n",
    "            val = tmp[i]\n",
    "            j = i\n",
    "            while j >= gap and tmp[j-gap] > val:\n",
    "                tmp[j] = tmp[j-gap]\n",
    "                j = j - gap\n",
    "            tmp[j] = val\n",
    "        gap = int(gap / 2)\n",
    "    return tmp"
   ]
  },
  {
   "cell_type": "code",
   "execution_count": 12,
   "metadata": {},
   "outputs": [
    {
     "name": "stdout",
     "output_type": "stream",
     "text": [
      "[0.65816786 0.02206587 0.08803536 0.36719334 0.99916647 0.12929882]\n",
      "[0.02206587 0.08803536 0.12929882 0.36719334 0.65816786 0.99916647]\n"
     ]
    }
   ],
   "source": [
    "random_array = np.random.rand(6)\n",
    "print(random_array)\n",
    "sorted_array = shell_sort(random_array)\n",
    "print(sorted_array)"
   ]
  },
  {
   "cell_type": "code",
   "execution_count": 13,
   "metadata": {},
   "outputs": [
    {
     "name": "stdout",
     "output_type": "stream",
     "text": [
      "227 µs ± 2.54 µs per loop (mean ± std. dev. of 7 runs, 1000 loops each)\n",
      "541 µs ± 5.47 µs per loop (mean ± std. dev. of 7 runs, 1000 loops each)\n",
      "1.48 ms ± 5.46 µs per loop (mean ± std. dev. of 7 runs, 1000 loops each)\n",
      "3.54 ms ± 44 µs per loop (mean ± std. dev. of 7 runs, 100 loops each)\n",
      "9.26 ms ± 99.4 µs per loop (mean ± std. dev. of 7 runs, 100 loops each)\n",
      "21.5 ms ± 247 µs per loop (mean ± std. dev. of 7 runs, 10 loops each)\n"
     ]
    }
   ],
   "source": [
    "shellsort_times = []\n",
    "for i in (100, 200, 400, 800, 1600, 3200):\n",
    "    random_array = np.random.rand(i)\n",
    "    time = %timeit -o shell_sort(random_array)\n",
    "    shellsort_times.append(time.average)"
   ]
  },
  {
   "cell_type": "markdown",
   "metadata": {},
   "source": [
    "### Quicksort:"
   ]
  },
  {
   "cell_type": "code",
   "execution_count": 14,
   "metadata": {},
   "outputs": [],
   "source": [
    "def quick_sort(array):\n",
    "    \"\"\"\n",
    "    Sorts the input data using quicksort algorithm.\n",
    "    Args:\n",
    "        array (array_like): input data\n",
    "    Returns:\n",
    "        numpy.ndarray: sorted data\n",
    "    \"\"\"\n",
    "    less = np.array([])\n",
    "    equal = np.array([])\n",
    "    greater = np.array([])\n",
    "    if len(array) > 1:\n",
    "        pivot = array[0]\n",
    "        for x in array:\n",
    "            if x < pivot: less = np.append(less, x)\n",
    "            if x == pivot: equal = np.append(equal, x)\n",
    "            if x > pivot: greater = np.append(greater, x)\n",
    "        return np.concatenate((quick_sort(less), equal, quick_sort(greater)))\n",
    "    else:\n",
    "        return array"
   ]
  },
  {
   "cell_type": "code",
   "execution_count": 15,
   "metadata": {
    "scrolled": false
   },
   "outputs": [
    {
     "name": "stdout",
     "output_type": "stream",
     "text": [
      "[0.4381993  0.47583888 0.64126065 0.54104377 0.34159916 0.00874784]\n",
      "[0.00874784 0.34159916 0.4381993  0.47583888 0.54104377 0.64126065]\n"
     ]
    }
   ],
   "source": [
    "random_array = np.random.rand(6)\n",
    "print(random_array)\n",
    "sorted_array = quick_sort(random_array)\n",
    "print(sorted_array)"
   ]
  },
  {
   "cell_type": "code",
   "execution_count": 16,
   "metadata": {},
   "outputs": [
    {
     "name": "stdout",
     "output_type": "stream",
     "text": [
      "2.31 ms ± 21.1 µs per loop (mean ± std. dev. of 7 runs, 100 loops each)\n",
      "5.73 ms ± 19.6 µs per loop (mean ± std. dev. of 7 runs, 100 loops each)\n",
      "12.9 ms ± 29.2 µs per loop (mean ± std. dev. of 7 runs, 100 loops each)\n",
      "31.9 ms ± 1.03 ms per loop (mean ± std. dev. of 7 runs, 10 loops each)\n",
      "69.5 ms ± 254 µs per loop (mean ± std. dev. of 7 runs, 10 loops each)\n",
      "148 ms ± 1.93 ms per loop (mean ± std. dev. of 7 runs, 10 loops each)\n"
     ]
    }
   ],
   "source": [
    "quicksort_times = []\n",
    "for i in (100, 200, 400, 800, 1600, 3200):\n",
    "    random_array = np.random.rand(i)\n",
    "    time = %timeit -o quick_sort(random_array)\n",
    "    quicksort_times.append(time.average)"
   ]
  },
  {
   "cell_type": "markdown",
   "metadata": {},
   "source": [
    "### Heapsort:"
   ]
  },
  {
   "cell_type": "code",
   "execution_count": 17,
   "metadata": {},
   "outputs": [],
   "source": [
    "def heap_sort(array):\n",
    "    \"\"\"\n",
    "    Sorts the input data using heapsort algorithm.\n",
    "    Args:\n",
    "        array (array_like): input data\n",
    "    Returns:\n",
    "        numpy.ndarray: sorted data\n",
    "    \"\"\"\n",
    "    tmp = np.copy(array)\n",
    "    # add code\n",
    "    return tmp"
   ]
  },
  {
   "cell_type": "code",
   "execution_count": null,
   "metadata": {
    "scrolled": true
   },
   "outputs": [],
   "source": [
    "random_array = np.random.rand(6)\n",
    "print(random_array)\n",
    "sorted_array = heap_sort(random_array)\n",
    "print(sorted_array)"
   ]
  },
  {
   "cell_type": "code",
   "execution_count": null,
   "metadata": {
    "scrolled": true
   },
   "outputs": [],
   "source": [
    "heapsort_times = []\n",
    "for i in (100, 200, 400, 800, 1600, 3200):\n",
    "    random_array = np.random.rand(i)\n",
    "    time = %timeit -o heap_sort(random_array)\n",
    "    heapsort_times.append(time.average)"
   ]
  },
  {
   "cell_type": "markdown",
   "metadata": {},
   "source": [
    "### Benchmark:"
   ]
  },
  {
   "cell_type": "code",
   "execution_count": 21,
   "metadata": {
    "scrolled": true
   },
   "outputs": [
    {
     "data": {
      "text/plain": [
       "<matplotlib.legend.Legend at 0x15495cc8ef0>"
      ]
     },
     "execution_count": 21,
     "metadata": {},
     "output_type": "execute_result"
    },
    {
     "data": {
      "image/png": "[encoded data removed]",
      "text/plain": [
       "<matplotlib.figure.Figure at 0x15495c51d30>"
      ]
     },
     "metadata": {
      "needs_background": "light"
     },
     "output_type": "display_data"
    }
   ],
   "source": [
    "fig = plt.figure()\n",
    "ax = fig.add_subplot(1,1,1)\n",
    "sizes = [100, 200, 400, 800, 1600, 3200]\n",
    "ax.loglog(sizes, bubblesort_times, label=\"Bubble sort\", marker=\"o\")\n",
    "ax.loglog(sizes, selectionsort_times, label=\"Selection sort\", marker=\"o\")\n",
    "ax.loglog(sizes, insertionsort_times, label=\"Insertion sort\", marker=\"o\")\n",
    "ax.loglog(sizes, shellsort_times, label=\"Shell sort\", marker=\"o\")\n",
    "ax.loglog(sizes, quicksort_times, label=\"Quick sort\", marker=\"o\")\n",
    "#ax.loglog(sizes, heapsort_times, label=\"Heap sort\", marker=\"o\")\n",
    "ax.set_xlabel('array size')\n",
    "ax.set_ylabel('time [s]')\n",
    "ax.legend()"
   ]
  }
 ],
 "metadata": {
  "kernelspec": {
   "display_name": "Python 3",
   "language": "python",
   "name": "python3"
  },
  "language_info": {
   "codemirror_mode": {
    "name": "ipython",
    "version": 3
   },
   "file_extension": ".py",
   "mimetype": "text/x-python",
   "name": "python",
   "nbconvert_exporter": "python",
   "pygments_lexer": "ipython3",
   "version": "3.6.3"
  }
 },
 "nbformat": 4,
 "nbformat_minor": 2
}
