{
 "cells": [
  {
   "cell_type": "markdown",
   "metadata": {},
   "source": [
    "# Task 10\n",
    "\n",
    "**deadline: 09/05/2021 23:59 CET**"
   ]
  },
  {
   "cell_type": "markdown",
   "metadata": {},
   "source": [
    "**[0.5 points]:** Solve the following ordinary differential equation,\n",
    "\n",
    "$$\n",
    "\\frac{dN(t)}{dt} = \\left[ 1 + \\cos(t) \\right] N(t), \\quad N(0) = 1,\n",
    "$$\n",
    "\n",
    "using the forward Euler method for $ t \\in [0, 5] $ and the step size $ h = 0.2 $. Print the obtained value of solution for $ t = 5 $.\n",
    "\n",
    "\n",
    "**[0.5 points]:** Plot the solution obtained by the forward Euler method as well as the analytical solution\n",
    "\n",
    "$$\n",
    "N(t) = N(0) \\exp \\left[t + \\sin(t) \\right]\n",
    "$$\n",
    "\n",
    "in the interval $ t \\in [0, 5] $."
   ]
  },
  {
   "cell_type": "code",
   "execution_count": null,
   "metadata": {},
   "outputs": [],
   "source": [
    "\n",
    "# add your code here\n"
   ]
  }
 ],
 "metadata": {
  "kernelspec": {
   "display_name": "Python 3",
   "language": "python",
   "name": "python3"
  },
  "language_info": {
   "codemirror_mode": {
    "name": "ipython",
    "version": 3
   },
   "file_extension": ".py",
   "mimetype": "text/x-python",
   "name": "python",
   "nbconvert_exporter": "python",
   "pygments_lexer": "ipython3",
   "version": "3.8.5"
  }
 },
 "nbformat": 4,
 "nbformat_minor": 4
}
