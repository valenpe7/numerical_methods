{
 "cells": [
  {
   "cell_type": "markdown",
   "metadata": {},
   "source": [
    "# Task 08\n",
    "\n",
    "**deadline: 25/04/2021 23:59 CET**"
   ]
  },
  {
   "cell_type": "markdown",
   "metadata": {},
   "source": [
    "**[0.5 points]:** Find a global minimum of the Mishra's Bird function\n",
    "\n",
    "$$\n",
    "f(x, y) = \\sin(y) \\exp \\left[(1 - \\cos x)^2\\right] + \\cos(x) \\exp \\left[(1 - \\sin y)^2\\right] + (x - y)^2\n",
    "$$\n",
    "\n",
    "in the search domain $ [-3 \\pi \\, / \\, 2, - \\pi \\, / \\, 2] \\times [-\\pi, 0] $ with the error tolerance of $ 10^{-7} $using the steepest descent method. Print the coordinates of minimum and the value of $ f(x, y) $ at this point.\n",
    "\n",
    "**[0.5 points]:** Plot the contours of $ f(x, y) $ in the search domain specified above and mark the minimum."
   ]
  },
  {
   "cell_type": "code",
   "execution_count": null,
   "metadata": {},
   "outputs": [],
   "source": [
    "\n",
    "# add your code here\n"
   ]
  }
 ],
 "metadata": {
  "kernelspec": {
   "display_name": "Python 3",
   "language": "python",
   "name": "python3"
  },
  "language_info": {
   "codemirror_mode": {
    "name": "ipython",
    "version": 3
   },
   "file_extension": ".py",
   "mimetype": "text/x-python",
   "name": "python",
   "nbconvert_exporter": "python",
   "pygments_lexer": "ipython3",
   "version": "3.8.5"
  }
 },
 "nbformat": 4,
 "nbformat_minor": 4
}
