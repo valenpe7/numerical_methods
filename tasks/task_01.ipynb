{
 "cells": [
  {
   "cell_type": "markdown",
   "metadata": {},
   "source": [
    "# Task 01\n",
    "\n",
    "**deadline: 28/02/2021 23:59 CET**"
   ]
  },
  {
   "cell_type": "markdown",
   "metadata": {},
   "source": [
    "**[0.5 points]:** Write a function that takes $ n \\in \\mathbb{N} $ as an argument and returns the following sum,\n",
    "\n",
    "$$ \n",
    "\\sum_{k = 1}^{n} 2 \\sqrt{k} \\sin{ \\left( \\frac{k \\pi}{10} \\right)}. \n",
    "$$\n",
    "\n",
    "**[0.25 points]:** Print the above sum for $ n = 100 $.\n",
    "\n",
    "**[0.25 points]:** Plot the above sum for $ n \\in [1, 100] $."
   ]
  },
  {
   "cell_type": "code",
   "execution_count": null,
   "metadata": {},
   "outputs": [],
   "source": [
    "\n",
    "# add your code here\n"
   ]
  }
 ],
 "metadata": {
  "kernelspec": {
   "display_name": "Python 3",
   "language": "python",
   "name": "python3"
  },
  "language_info": {
   "codemirror_mode": {
    "name": "ipython",
    "version": 3
   },
   "file_extension": ".py",
   "mimetype": "text/x-python",
   "name": "python",
   "nbconvert_exporter": "python",
   "pygments_lexer": "ipython3",
   "version": "3.8.5"
  }
 },
 "nbformat": 4,
 "nbformat_minor": 4
}
