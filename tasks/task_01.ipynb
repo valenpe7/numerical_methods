{
 "cells": [
  {
   "cell_type": "markdown",
   "metadata": {
    "deletable": false,
    "editable": false
   },
   "source": [
    "# Task 01\n",
    "\n",
    "**deadline: 28/02/2021 23:59 CET**"
   ]
  },
  {
   "cell_type": "markdown",
   "metadata": {
    "deletable": false,
    "editable": false
   },
   "source": [
    "- Write a function that takes $ n \\in \\mathbb{N} $ as an argument and returns the sum of the following series:  \n",
    "$$ \\sum_{k = 1}^{n} 2 \\sqrt{k} \\sin{ \\left( \\frac{k \\pi}{10} \\right)} $$.\n",
    "- Print the sum of the series above for $ n = 100 $.\n",
    "- Plot the sum of the series for $ n \\in [1, 100] $."
   ]
  },
  {
   "cell_type": "code",
   "execution_count": null,
   "metadata": {},
   "outputs": [],
   "source": []
  }
 ],
 "metadata": {
  "kernelspec": {
   "display_name": "Python 3",
   "language": "python",
   "name": "python3"
  },
  "language_info": {
   "codemirror_mode": {
    "name": "ipython",
    "version": 3
   },
   "file_extension": ".py",
   "mimetype": "text/x-python",
   "name": "python",
   "nbconvert_exporter": "python",
   "pygments_lexer": "ipython3",
   "version": "3.6.3"
  }
 },
 "nbformat": 4,
 "nbformat_minor": 4
}
