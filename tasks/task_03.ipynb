{
 "cells": [
  {
   "cell_type": "markdown",
   "metadata": {
    "deletable": false,
    "editable": false
   },
   "source": [
    "# Task 03\n",
    "\n",
    "**deadline: 14/03/2021 23:59 CET**"
   ]
  },
  {
   "cell_type": "markdown",
   "metadata": {
    "deletable": false,
    "editable": false
   },
   "source": [
    "1) Write a function that calculates the inverse of a given square matrix using the Gauss-Jordan elimination algorithm (with pivoting). You do not have to check, whether the matrix is invertible. \n",
    "\n",
    "2) Calculate the inverse of the following matrix,\n",
    "\n",
    "$$\n",
    "\\mathbb{A} = \n",
    "\\begin{pmatrix}\n",
    "3 & 0 & 2 \\\\\n",
    "2 & 0 & -2 \\\\\n",
    "0 & 1 & 1\n",
    "\\end{pmatrix}.\n",
    "$$\n",
    "\n",
    "You may use the function `scipy.linalg.inv` to evaluate the correctness of your implementation."
   ]
  },
  {
   "cell_type": "code",
   "execution_count": null,
   "metadata": {},
   "outputs": [],
   "source": []
  }
 ],
 "metadata": {
  "kernelspec": {
   "display_name": "Python 3",
   "language": "python",
   "name": "python3"
  },
  "language_info": {
   "codemirror_mode": {
    "name": "ipython",
    "version": 3
   },
   "file_extension": ".py",
   "mimetype": "text/x-python",
   "name": "python",
   "nbconvert_exporter": "python",
   "pygments_lexer": "ipython3",
   "version": "3.8.5"
  }
 },
 "nbformat": 4,
 "nbformat_minor": 4
}
