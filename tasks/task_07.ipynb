{
 "cells": [
  {
   "cell_type": "markdown",
   "metadata": {
    "deletable": false,
    "editable": false
   },
   "source": [
    "# Task 07\n",
    "\n",
    "**deadline: 18/04/2021 23:59 CET**"
   ]
  },
  {
   "cell_type": "markdown",
   "metadata": {
    "deletable": false,
    "editable": false
   },
   "source": [
    "**[0.75 points]:** Edit the Newton-Raphson's method so that it can solve systems of three nonlinear equations in three unknowns.\n",
    "\n",
    "**[0.25 points]:** Solve the following system of three nonlinear equations in three unknowns,\n",
    "\n",
    "\\begin{align}\n",
    "& x_0^2 + x_1^2 = 2 x_2, \\\\\n",
    "& x_0^2 + x_2^2 = 0.5, \\\\\n",
    "& x_0^2 + x_1^2 + x_2^2 = 1,\n",
    "\\end{align}\n",
    "\n",
    "using Newton-Raphson's method with initial estimate $ (1, 1, 0) $, error tolerance $ 10^{-7} $, and maximum of $ 10 $ iterations. Print the solution."
   ]
  },
  {
   "cell_type": "code",
   "execution_count": null,
   "metadata": {},
   "outputs": [],
   "source": []
  }
 ],
 "metadata": {
  "kernelspec": {
   "display_name": "Python 3",
   "language": "python",
   "name": "python3"
  },
  "language_info": {
   "codemirror_mode": {
    "name": "ipython",
    "version": 3
   },
   "file_extension": ".py",
   "mimetype": "text/x-python",
   "name": "python",
   "nbconvert_exporter": "python",
   "pygments_lexer": "ipython3",
   "version": "3.8.5"
  }
 },
 "nbformat": 4,
 "nbformat_minor": 4
}
