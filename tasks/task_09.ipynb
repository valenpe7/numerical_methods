{
 "cells": [
  {
   "cell_type": "markdown",
   "metadata": {},
   "source": [
    "# Task 09\n",
    "\n",
    "**deadline: 02/05/2021 23:59 CET**"
   ]
  },
  {
   "cell_type": "markdown",
   "metadata": {},
   "source": [
    "**[1.0 points]:** Estimate the following definite integral,\n",
    "    \n",
    "$$\n",
    "\\int_0^1 \\frac{x^4 (1 - x)^4}{1 + x^2} dx,\n",
    "$$\n",
    "\n",
    "using the midpoint rule with a partition of size $ N = 10 $. Print the value and the absolute error of the approximation (the exact value of the integral is $ 22 \\, / \\, 7 - \\pi $). Note that this integral is used as a [proof](https://en.wikipedia.org/wiki/Proof_that_22/7_exceeds_%CF%80) that the [Diophantine approximation](https://en.wikipedia.org/wiki/Diophantine_approximation) of $ \\pi $ is greater than $ \\pi $."
   ]
  },
  {
   "cell_type": "code",
   "execution_count": null,
   "metadata": {},
   "outputs": [],
   "source": [
    "\n",
    "# add your code here\n"
   ]
  }
 ],
 "metadata": {
  "kernelspec": {
   "display_name": "Python 3",
   "language": "python",
   "name": "python3"
  },
  "language_info": {
   "codemirror_mode": {
    "name": "ipython",
    "version": 3
   },
   "file_extension": ".py",
   "mimetype": "text/x-python",
   "name": "python",
   "nbconvert_exporter": "python",
   "pygments_lexer": "ipython3",
   "version": "3.8.5"
  }
 },
 "nbformat": 4,
 "nbformat_minor": 4
}
