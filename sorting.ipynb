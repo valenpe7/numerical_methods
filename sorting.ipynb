{
 "cells": [
  {
   "cell_type": "code",
   "execution_count": 623,
   "metadata": {
    "collapsed": true
   },
   "outputs": [],
   "source": [
    "import time\n",
    "import numpy as np\n",
    "import matplotlib.pyplot as plt\n",
    "%matplotlib inline"
   ]
  },
  {
   "cell_type": "markdown",
   "metadata": {},
   "source": [
    "### Bubble sort:"
   ]
  },
  {
   "cell_type": "code",
   "execution_count": 766,
   "metadata": {
    "collapsed": true
   },
   "outputs": [],
   "source": [
    "def bubble_sort(array):\n",
    "    \"\"\"\n",
    "    Sorts the input data using bubble sort algorithm.\n",
    "    Args:\n",
    "        array (array_like): input data\n",
    "    Returns:\n",
    "        numpy.ndarray: sorted data\n",
    "    \"\"\"\n",
    "    tmp = np.copy(array)\n",
    "    for i in range(len(tmp)):\n",
    "        for j in range(0, len(tmp) - i - 1):\n",
    "            if tmp[j] > tmp[j+1]:\n",
    "                tmp[j], tmp[j+1] = tmp[j+1], tmp[j]\n",
    "    return tmp"
   ]
  },
  {
   "cell_type": "code",
   "execution_count": 767,
   "metadata": {},
   "outputs": [
    {
     "name": "stdout",
     "output_type": "stream",
     "text": [
      "[ 0.89887564  0.96397175  0.39446344  0.28315955  0.15466274  0.07574305]\n",
      "[ 0.07574305  0.15466274  0.28315955  0.39446344  0.89887564  0.96397175]\n"
     ]
    }
   ],
   "source": [
    "random_array = np.random.rand(6)\n",
    "print(random_array)\n",
    "sorted_array = bubble_sort(random_array)\n",
    "print(sorted_array)"
   ]
  },
  {
   "cell_type": "code",
   "execution_count": 768,
   "metadata": {
    "scrolled": true
   },
   "outputs": [
    {
     "name": "stdout",
     "output_type": "stream",
     "text": [
      "[0.0, 0.0, 0.03125, 0.125, 0.4375, 1.78125]\n"
     ]
    }
   ],
   "source": [
    "bubblesort_times = []\n",
    "for i in (100, 200, 400, 800, 1600, 3200):\n",
    "    random_array = np.random.rand(i)\n",
    "    t1 = time.process_time()\n",
    "    sorted_array = bubble_sort(random_array)\n",
    "    t2 = time.process_time()\n",
    "    bubblesort_times.append(t2 - t1)\n",
    "print(bubblesort_times)"
   ]
  },
  {
   "cell_type": "markdown",
   "metadata": {},
   "source": [
    "### Selection sort:"
   ]
  },
  {
   "cell_type": "code",
   "execution_count": 801,
   "metadata": {},
   "outputs": [],
   "source": [
    "def selection_sort(array):\n",
    "    \"\"\"\n",
    "    Sorts the input data using selection sort algorithm.\n",
    "    Args:\n",
    "        array (array_like): input data\n",
    "    Returns:\n",
    "        numpy.ndarray: sorted data\n",
    "    \"\"\"\n",
    "    tmp = np.copy(array)\n",
    "    for i in range(len(tmp)):\n",
    "        min_index = np.argwhere(tmp[i:] == min(tmp[i:])) # find index of minimum element relatively to i\n",
    "        if min_index != 0:\n",
    "            tmp[i], tmp[i+min_index] = tmp[i+min_index], tmp[i] # swap i-th element with the minimum element\n",
    "    return tmp"
   ]
  },
  {
   "cell_type": "code",
   "execution_count": 802,
   "metadata": {},
   "outputs": [
    {
     "name": "stdout",
     "output_type": "stream",
     "text": [
      "[ 0.56422065  0.16900186  0.13549806  0.32303013  0.71559342  0.69273504]\n",
      "[ 0.13549806  0.16900186  0.32303013  0.56422065  0.69273504  0.71559342]\n"
     ]
    }
   ],
   "source": [
    "random_array = np.random.rand(6)\n",
    "print(random_array)\n",
    "sorted_array = selection_sort(random_array)\n",
    "print(sorted_array)"
   ]
  },
  {
   "cell_type": "code",
   "execution_count": 803,
   "metadata": {
    "scrolled": true
   },
   "outputs": [
    {
     "name": "stdout",
     "output_type": "stream",
     "text": [
      "[0.0, 0.015625, 0.015625, 0.046875, 0.09375, 0.296875]\n"
     ]
    }
   ],
   "source": [
    "selectionsort_times = []\n",
    "for i in (100, 200, 400, 800, 1600, 3200):\n",
    "    random_array = np.random.rand(i)\n",
    "    t1 = time.process_time()\n",
    "    sorted_array = selection_sort(random_array)\n",
    "    t2 = time.process_time()\n",
    "    selectionsort_times.append(t2 - t1)\n",
    "print(selectionsort_times)"
   ]
  },
  {
   "cell_type": "markdown",
   "metadata": {},
   "source": [
    "### Insertion sort:"
   ]
  },
  {
   "cell_type": "code",
   "execution_count": 772,
   "metadata": {
    "collapsed": true
   },
   "outputs": [],
   "source": [
    "def insertion_sort(array):\n",
    "    \"\"\"\n",
    "    Sorts the input data using inserion sort algorithm.\n",
    "    Args:\n",
    "        array (array_like): input data\n",
    "    Returns:\n",
    "        numpy.ndarray: sorted data\n",
    "    \"\"\"\n",
    "    tmp = np.copy(array)\n",
    "    for i in range(1, len(tmp)):\n",
    "        val = tmp[i]\n",
    "        j = i\n",
    "        while j > 0 and tmp[j-1] > val:\n",
    "            tmp[j] = tmp[j-1]\n",
    "            j = j - 1\n",
    "        tmp[j] = val\n",
    "    return tmp"
   ]
  },
  {
   "cell_type": "code",
   "execution_count": 773,
   "metadata": {
    "scrolled": true
   },
   "outputs": [
    {
     "name": "stdout",
     "output_type": "stream",
     "text": [
      "[ 0.02275001  0.97778115  0.01154387  0.38422986  0.11794177  0.72869149]\n",
      "[ 0.01154387  0.02275001  0.11794177  0.38422986  0.72869149  0.97778115]\n"
     ]
    }
   ],
   "source": [
    "random_array = np.random.rand(6)\n",
    "print(random_array)\n",
    "sorted_array = insertion_sort(random_array)\n",
    "print(sorted_array)"
   ]
  },
  {
   "cell_type": "code",
   "execution_count": 774,
   "metadata": {},
   "outputs": [
    {
     "name": "stdout",
     "output_type": "stream",
     "text": [
      "[0.0, 0.0, 0.015625, 0.0625, 0.203125, 0.796875]\n"
     ]
    }
   ],
   "source": [
    "insertionsort_times = []\n",
    "for i in (100, 200, 400, 800, 1600, 3200):\n",
    "    random_array = np.random.rand(i)\n",
    "    t1 = time.process_time()\n",
    "    sorted_array = insertion_sort(random_array)\n",
    "    t2 = time.process_time()\n",
    "    insertionsort_times.append(t2 - t1)\n",
    "print(insertionsort_times)"
   ]
  },
  {
   "cell_type": "markdown",
   "metadata": {},
   "source": [
    "### Shell sort:"
   ]
  },
  {
   "cell_type": "code",
   "execution_count": 824,
   "metadata": {
    "collapsed": true
   },
   "outputs": [],
   "source": [
    "def shell_sort(array):\n",
    "    \"\"\"\n",
    "    Sorts the input data using shell sort algorithm.\n",
    "    Args:\n",
    "        array (array_like): input data\n",
    "    Returns:\n",
    "        numpy.ndarray: sorted data\n",
    "    \"\"\"\n",
    "    tmp = np.copy(array)\n",
    "    gap = int(len(tmp) / 2)\n",
    "    while gap > 0:\n",
    "        for i in range(gap, len(tmp)):\n",
    "            val = tmp[i]\n",
    "            j = i\n",
    "            while j >= gap and tmp[j-gap] > val:\n",
    "                tmp[j] = tmp[j-gap]\n",
    "                j = j - gap\n",
    "            tmp[j] = val\n",
    "        gap = int(gap / 2)\n",
    "    return tmp"
   ]
  },
  {
   "cell_type": "code",
   "execution_count": 826,
   "metadata": {},
   "outputs": [
    {
     "name": "stdout",
     "output_type": "stream",
     "text": [
      "[ 0.30034248  0.15853369  0.91763113  0.45522353  0.44406751  0.02393899]\n",
      "[ 0.02393899  0.15853369  0.30034248  0.44406751  0.45522353  0.91763113]\n"
     ]
    }
   ],
   "source": [
    "random_array = np.random.rand(6)\n",
    "print(random_array)\n",
    "sorted_array = shell_sort(random_array)\n",
    "print(sorted_array)"
   ]
  },
  {
   "cell_type": "code",
   "execution_count": 777,
   "metadata": {},
   "outputs": [
    {
     "name": "stdout",
     "output_type": "stream",
     "text": [
      "[0.0, 0.0, 0.0, 0.0, 0.015625, 0.03125]\n"
     ]
    }
   ],
   "source": [
    "shellsort_times = []\n",
    "for i in (100, 200, 400, 800, 1600, 3200):\n",
    "    random_array = np.random.rand(i)\n",
    "    t1 = time.process_time()\n",
    "    sorted_array = shell_sort(random_array)\n",
    "    t2 = time.process_time()\n",
    "    shellsort_times.append(t2 - t1)\n",
    "print(shellsort_times)"
   ]
  },
  {
   "cell_type": "markdown",
   "metadata": {},
   "source": [
    "### Quicksort:"
   ]
  },
  {
   "cell_type": "code",
   "execution_count": 785,
   "metadata": {
    "collapsed": true
   },
   "outputs": [],
   "source": [
    "def quicksort(array):\n",
    "    \"\"\"\n",
    "    Sorts the input data using quicksort algorithm.\n",
    "    Args:\n",
    "        array (array_like): input data\n",
    "    Returns:\n",
    "        numpy.ndarray: sorted data\n",
    "    \"\"\"\n",
    "    less = np.array([])\n",
    "    equal = np.array([])\n",
    "    greater = np.array([])\n",
    "    if len(array) > 1:\n",
    "        pivot = array[0]\n",
    "        for x in array:\n",
    "            if x < pivot: less = np.append(less, x)\n",
    "            if x == pivot: equal = np.append(equal, x)\n",
    "            if x > pivot: greater = np.append(greater, x)\n",
    "        return np.concatenate((quick_sort(less), equal, quick_sort(greater)))\n",
    "    else:\n",
    "        return array"
   ]
  },
  {
   "cell_type": "code",
   "execution_count": 786,
   "metadata": {
    "scrolled": false
   },
   "outputs": [
    {
     "name": "stdout",
     "output_type": "stream",
     "text": [
      "[ 0.5601625   0.75291686  0.14877197  0.64858486  0.90776967  0.45923775]\n",
      "[ 0.14877197  0.45923775  0.5601625   0.64858486  0.75291686  0.90776967]\n"
     ]
    }
   ],
   "source": [
    "random_array = np.random.rand(6)\n",
    "print(random_array)\n",
    "sorted_array = quicksort(random_array)\n",
    "print(sorted_array)"
   ]
  },
  {
   "cell_type": "code",
   "execution_count": 787,
   "metadata": {},
   "outputs": [
    {
     "name": "stdout",
     "output_type": "stream",
     "text": [
      "[0.0, 0.0, 0.015625, 0.046875, 0.078125, 0.15625]\n"
     ]
    }
   ],
   "source": [
    "quicksort_times = []\n",
    "for i in (100, 200, 400, 800, 1600, 3200):\n",
    "    random_array = np.random.rand(i)\n",
    "    t1 = time.process_time()\n",
    "    sorted_array = quicksort(random_array)\n",
    "    t2 = time.process_time()\n",
    "    quicksort_times.append(t2 - t1)\n",
    "print(quicksort_times)"
   ]
  },
  {
   "cell_type": "markdown",
   "metadata": {},
   "source": [
    "### Heapsort:"
   ]
  },
  {
   "cell_type": "code",
   "execution_count": 788,
   "metadata": {
    "collapsed": true
   },
   "outputs": [],
   "source": [
    "def heapsort(array):\n",
    "    \"\"\"\n",
    "    Sorts the input data using heapsort algorithm.\n",
    "    Args:\n",
    "        array (array_like): input data\n",
    "    Returns:\n",
    "        numpy.ndarray: sorted data\n",
    "    \"\"\"\n",
    "    tmp = np.copy(array)\n",
    "    # add code\n",
    "    return tmp"
   ]
  },
  {
   "cell_type": "code",
   "execution_count": 789,
   "metadata": {
    "scrolled": true
   },
   "outputs": [
    {
     "name": "stdout",
     "output_type": "stream",
     "text": [
      "[ 0.66024771  0.3335743   0.60241894  0.27892878  0.9378229   0.47577354]\n",
      "[ 0.66024771  0.3335743   0.60241894  0.27892878  0.9378229   0.47577354]\n"
     ]
    }
   ],
   "source": [
    "random_array = np.random.rand(6)\n",
    "print(random_array)\n",
    "sorted_array = heapsort(random_array)\n",
    "print(sorted_array)"
   ]
  },
  {
   "cell_type": "code",
   "execution_count": 790,
   "metadata": {},
   "outputs": [
    {
     "name": "stdout",
     "output_type": "stream",
     "text": [
      "[0.0, 0.0, 0.0, 0.0, 0.0, 0.0]\n"
     ]
    }
   ],
   "source": [
    "heapsort_times = []\n",
    "for i in (100, 200, 400, 800, 1600, 3200):\n",
    "    random_array = np.random.rand(i)\n",
    "    t1 = time.process_time()\n",
    "    sorted_array = heapsort(random_array)\n",
    "    t2 = time.process_time()\n",
    "    heapsort_times.append(t2 - t1)\n",
    "print(heapsort_times)"
   ]
  },
  {
   "cell_type": "markdown",
   "metadata": {},
   "source": [
    "### Benchmark:"
   ]
  },
  {
   "cell_type": "code",
   "execution_count": 794,
   "metadata": {},
   "outputs": [
    {
     "data": {
      "text/plain": [
       "<matplotlib.legend.Legend at 0x20f83868b00>"
      ]
     },
     "execution_count": 794,
     "metadata": {},
     "output_type": "execute_result"
    },
    {
     "data": {
      "image/png": "[encoded data removed]",
      "text/plain": [
       "<matplotlib.figure.Figure at 0x20f838350f0>"
      ]
     },
     "metadata": {},
     "output_type": "display_data"
    }
   ],
   "source": [
    "fig = plt.figure()\n",
    "ax = fig.add_subplot(1,1,1)\n",
    "sizes = [100, 200, 400, 800, 1600, 3200]\n",
    "ax.plot(sizes, bubblesort_times, label=\"Bubble sort\")\n",
    "ax.plot(sizes, selectionsort_times, label=\"Selection sort\")\n",
    "ax.plot(sizes, insertionsort_times, label=\"Insertion sort\")\n",
    "ax.plot(sizes, shellsort_times, label=\"Shell sort\")\n",
    "ax.plot(sizes, quicksort_times, label=\"Quick sort\")\n",
    "#ax.plot(sizes, heapsort_times, label=\"Heap sort\")\n",
    "ax.set_xlabel('array size')\n",
    "ax.set_ylabel('time')\n",
    "ax.legend()"
   ]
  }
 ],
 "metadata": {
  "kernelspec": {
   "display_name": "Python 3",
   "language": "python",
   "name": "python3"
  },
  "language_info": {
   "codemirror_mode": {
    "name": "ipython",
    "version": 3
   },
   "file_extension": ".py",
   "mimetype": "text/x-python",
   "name": "python",
   "nbconvert_exporter": "python",
   "pygments_lexer": "ipython3",
   "version": "3.6.3"
  }
 },
 "nbformat": 4,
 "nbformat_minor": 2
}
