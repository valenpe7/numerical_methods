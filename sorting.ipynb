{
 "cells": [
  {
   "cell_type": "code",
   "execution_count": 623,
   "metadata": {
    "collapsed": true
   },
   "outputs": [],
   "source": [
    "import time\n",
    "import numpy as np\n",
    "import matplotlib.pyplot as plt\n",
    "%matplotlib inline"
   ]
  },
  {
   "cell_type": "markdown",
   "metadata": {},
   "source": [
    "### 1) Bubble sort:"
   ]
  },
  {
   "cell_type": "code",
   "execution_count": 624,
   "metadata": {
    "collapsed": true
   },
   "outputs": [],
   "source": [
    "def bubble_sort(array):\n",
    "    tmp = np.copy(array)\n",
    "    for i in range(0, len(tmp)):\n",
    "        done = True\n",
    "        for j in range(len(tmp) - 1, i, -1):\n",
    "            if tmp[j] < tmp[j-1]:\n",
    "                tmp[j], tmp[j-1] = tmp[j-1], tmp[j]\n",
    "                done = False\n",
    "        if done:\n",
    "            return tmp\n",
    "    return tmp"
   ]
  },
  {
   "cell_type": "code",
   "execution_count": 625,
   "metadata": {},
   "outputs": [
    {
     "name": "stdout",
     "output_type": "stream",
     "text": [
      "[ 0.83774424  0.29086318  0.21390947  0.74864616  0.63548543  0.96820964]\n",
      "[ 0.21390947  0.29086318  0.63548543  0.74864616  0.83774424  0.96820964]\n"
     ]
    }
   ],
   "source": [
    "random_array = np.random.rand(6)\n",
    "print(random_array)\n",
    "sorted_array = bubble_sort(random_array)\n",
    "print(sorted_array)"
   ]
  },
  {
   "cell_type": "code",
   "execution_count": 626,
   "metadata": {
    "scrolled": true
   },
   "outputs": [
    {
     "name": "stdout",
     "output_type": "stream",
     "text": [
      "[0.0, 0.015625, 0.015625, 0.109375, 0.453125, 1.734375]\n"
     ]
    }
   ],
   "source": [
    "bubblesort_times = []\n",
    "for i in (100, 200, 400, 800, 1600, 3200):\n",
    "    random_array = np.random.rand(i)\n",
    "    t1 = time.process_time()\n",
    "    sorted_array = bubble_sort(random_array)\n",
    "    t2 = time.process_time()\n",
    "    bubblesort_times.append(t2 - t1)\n",
    "print(bubblesort_times)"
   ]
  },
  {
   "cell_type": "markdown",
   "metadata": {},
   "source": [
    "### 2) Selection sort:"
   ]
  },
  {
   "cell_type": "code",
   "execution_count": 647,
   "metadata": {
    "collapsed": true
   },
   "outputs": [],
   "source": [
    "def selection_sort(array):\n",
    "    tmp = np.copy(array)\n",
    "    for i in range(0, len(tmp)):\n",
    "        for j in range(i, len(tmp)):\n",
    "            if tmp[j] < tmp[i]:\n",
    "                tmp[i], tmp[j] = tmp[j], tmp[i]\n",
    "    return tmp"
   ]
  },
  {
   "cell_type": "code",
   "execution_count": 648,
   "metadata": {},
   "outputs": [
    {
     "name": "stdout",
     "output_type": "stream",
     "text": [
      "[ 0.05848946  0.83525451  0.02715521  0.89258194  0.12369456  0.05006485]\n",
      "[ 0.02715521  0.05006485  0.05848946  0.12369456  0.83525451  0.89258194]\n"
     ]
    }
   ],
   "source": [
    "random_array = np.random.rand(6)\n",
    "print(random_array)\n",
    "sorted_array = selection_sort(random_array)\n",
    "print(sorted_array)"
   ]
  },
  {
   "cell_type": "code",
   "execution_count": 649,
   "metadata": {
    "scrolled": true
   },
   "outputs": [
    {
     "name": "stdout",
     "output_type": "stream",
     "text": [
      "[0.015625, 0.0, 0.03125, 0.09375, 0.359375, 1.484375]\n"
     ]
    }
   ],
   "source": [
    "selectionsort_times = []\n",
    "for i in (100, 200, 400, 800, 1600, 3200):\n",
    "    random_array = np.random.rand(i)\n",
    "    t1 = time.process_time()\n",
    "    sorted_array = selection_sort(random_array)\n",
    "    t2 = time.process_time()\n",
    "    selectionsort_times.append(t2 - t1)\n",
    "print(selectionsort_times)"
   ]
  },
  {
   "cell_type": "markdown",
   "metadata": {},
   "source": [
    "### 3) Insertion sort:"
   ]
  },
  {
   "cell_type": "code",
   "execution_count": 643,
   "metadata": {
    "collapsed": true
   },
   "outputs": [],
   "source": [
    "def insertion_sort(array):\n",
    "    tmp = np.copy(array)\n",
    "    for i in range(1, len(tmp)):\n",
    "        while i > 0 and tmp[i] < tmp[i-1]:\n",
    "            tmp[i], tmp[i-1] = tmp[i-1], tmp[i]\n",
    "            i -= 1\n",
    "    return tmp"
   ]
  },
  {
   "cell_type": "code",
   "execution_count": 644,
   "metadata": {
    "scrolled": true
   },
   "outputs": [
    {
     "name": "stdout",
     "output_type": "stream",
     "text": [
      "[ 0.43843413  0.72783937  0.62653963  0.83150417  0.98503882  0.65709941]\n",
      "[ 0.43843413  0.62653963  0.65709941  0.72783937  0.83150417  0.98503882]\n"
     ]
    }
   ],
   "source": [
    "random_array = np.random.rand(6)\n",
    "print(random_array)\n",
    "sorted_array = insertion_sort(random_array)\n",
    "print(sorted_array)"
   ]
  },
  {
   "cell_type": "code",
   "execution_count": 645,
   "metadata": {},
   "outputs": [
    {
     "name": "stdout",
     "output_type": "stream",
     "text": [
      "[0.0, 0.015625, 0.015625, 0.09375, 0.328125, 1.375]\n"
     ]
    }
   ],
   "source": [
    "insertionsort_times = []\n",
    "for i in (100, 200, 400, 800, 1600, 3200):\n",
    "    random_array = np.random.rand(i)\n",
    "    t1 = time.process_time()\n",
    "    sorted_array = insertion_sort(random_array)\n",
    "    t2 = time.process_time()\n",
    "    insertionsort_times.append(t2 - t1)\n",
    "print(insertionsort_times)"
   ]
  },
  {
   "cell_type": "markdown",
   "metadata": {},
   "source": [
    "### 4) Shell sort:"
   ]
  },
  {
   "cell_type": "code",
   "execution_count": 691,
   "metadata": {
    "collapsed": true
   },
   "outputs": [],
   "source": [
    "def shell_sort(array):\n",
    "    tmp = np.copy(array)\n",
    "    gap = int(len(tmp) / 2)\n",
    "    while gap > 0:\n",
    "        for i in range(gap, len(tmp)):\n",
    "            val = tmp[i]\n",
    "            while i >= gap and tmp[i-gap] > val:\n",
    "                tmp[i] = tmp[i-gap]\n",
    "                i -= gap\n",
    "            tmp[i] = val\n",
    "        gap = int(gap / 2)\n",
    "    return tmp"
   ]
  },
  {
   "cell_type": "code",
   "execution_count": 692,
   "metadata": {},
   "outputs": [
    {
     "name": "stdout",
     "output_type": "stream",
     "text": [
      "[ 0.28106159  0.2749031   0.95813147  0.83205916  0.78786156  0.50904963]\n",
      "[ 0.2749031   0.28106159  0.50904963  0.78786156  0.83205916  0.95813147]\n"
     ]
    }
   ],
   "source": [
    "random_array = np.random.rand(6)\n",
    "print(random_array)\n",
    "sorted_array = shell_sort(random_array)\n",
    "print(sorted_array)"
   ]
  },
  {
   "cell_type": "code",
   "execution_count": 693,
   "metadata": {},
   "outputs": [
    {
     "name": "stdout",
     "output_type": "stream",
     "text": [
      "[0.0, 0.0, 0.0, 0.0, 0.015625, 0.03125]\n"
     ]
    }
   ],
   "source": [
    "shellsort_times = []\n",
    "for i in (100, 200, 400, 800, 1600, 3200):\n",
    "    random_array = np.random.rand(i)\n",
    "    t1 = time.process_time()\n",
    "    sorted_array = shell_sort(random_array)\n",
    "    t2 = time.process_time()\n",
    "    shellsort_times.append(t2 - t1)\n",
    "print(shellsort_times)"
   ]
  },
  {
   "cell_type": "markdown",
   "metadata": {},
   "source": [
    "### 5) Quick sort:"
   ]
  },
  {
   "cell_type": "code",
   "execution_count": 636,
   "metadata": {
    "collapsed": true
   },
   "outputs": [],
   "source": [
    "def quick_sort(array):\n",
    "    less = np.array([])\n",
    "    equal = np.array([])\n",
    "    greater = np.array([])\n",
    "    if len(array) > 1:\n",
    "        pivot = array[0]\n",
    "        for x in array:\n",
    "            if x < pivot: less = np.append(less, x)\n",
    "            if x == pivot: equal = np.append(equal, x)\n",
    "            if x > pivot: greater = np.append(greater, x)\n",
    "        return np.concatenate((quick_sort(less), equal, quick_sort(greater)))\n",
    "    else:\n",
    "        return array"
   ]
  },
  {
   "cell_type": "code",
   "execution_count": 637,
   "metadata": {
    "scrolled": false
   },
   "outputs": [
    {
     "name": "stdout",
     "output_type": "stream",
     "text": [
      "[ 0.11684888  0.86151947  0.37389651  0.38896964  0.92672031  0.05429227]\n",
      "[ 0.05429227  0.11684888  0.37389651  0.38896964  0.86151947  0.92672031]\n"
     ]
    }
   ],
   "source": [
    "random_array = np.random.rand(6)\n",
    "print(random_array)\n",
    "sorted_array = quick_sort(random_array)\n",
    "print(sorted_array)"
   ]
  },
  {
   "cell_type": "code",
   "execution_count": 638,
   "metadata": {},
   "outputs": [
    {
     "name": "stdout",
     "output_type": "stream",
     "text": [
      "[0.03125, 0.0, 0.015625, 0.03125, 0.0625, 0.171875]\n"
     ]
    }
   ],
   "source": [
    "quicksort_times = []\n",
    "for i in (100, 200, 400, 800, 1600, 3200):\n",
    "    random_array = np.random.rand(i)\n",
    "    t1 = time.process_time()\n",
    "    sorted_array = quick_sort(random_array)\n",
    "    t2 = time.process_time()\n",
    "    quicksort_times.append(t2 - t1)\n",
    "print(quicksort_times)"
   ]
  },
  {
   "cell_type": "markdown",
   "metadata": {},
   "source": [
    "### 6) Heap sort:"
   ]
  },
  {
   "cell_type": "code",
   "execution_count": 639,
   "metadata": {
    "collapsed": true
   },
   "outputs": [],
   "source": [
    "def heap_sort(array):\n",
    "    tmp = np.copy(array)\n",
    "    return tmp"
   ]
  },
  {
   "cell_type": "code",
   "execution_count": 640,
   "metadata": {
    "scrolled": true
   },
   "outputs": [
    {
     "name": "stdout",
     "output_type": "stream",
     "text": [
      "[ 0.45294008  0.88625814  0.83621845  0.35345943  0.17489852  0.97796866]\n",
      "[ 0.45294008  0.88625814  0.83621845  0.35345943  0.17489852  0.97796866]\n"
     ]
    }
   ],
   "source": [
    "random_array = np.random.rand(6)\n",
    "print(random_array)\n",
    "sorted_array = heap_sort(random_array)\n",
    "print(sorted_array)"
   ]
  },
  {
   "cell_type": "code",
   "execution_count": 641,
   "metadata": {},
   "outputs": [
    {
     "name": "stdout",
     "output_type": "stream",
     "text": [
      "[0.0, 0.0, 0.0, 0.0, 0.0, 0.0]\n"
     ]
    }
   ],
   "source": [
    "heapsort_times = []\n",
    "for i in (100, 200, 400, 800, 1600, 3200):\n",
    "    random_array = np.random.rand(i)\n",
    "    t1 = time.process_time()\n",
    "    sorted_array = heap_sort(random_array)\n",
    "    t2 = time.process_time()\n",
    "    heapsort_times.append(t2 - t1)\n",
    "print(heapsort_times)"
   ]
  },
  {
   "cell_type": "markdown",
   "metadata": {},
   "source": [
    "### Benchmark:"
   ]
  },
  {
   "cell_type": "code",
   "execution_count": 690,
   "metadata": {},
   "outputs": [
    {
     "data": {
      "text/plain": [
       "<matplotlib.legend.Legend at 0x20f83503940>"
      ]
     },
     "execution_count": 690,
     "metadata": {},
     "output_type": "execute_result"
    },
    {
     "data": {
      "image/png": "[encoded data removed]",
      "text/plain": [
       "<matplotlib.figure.Figure at 0x20f824c8ba8>"
      ]
     },
     "metadata": {},
     "output_type": "display_data"
    }
   ],
   "source": [
    "fig = plt.figure()\n",
    "ax = fig.add_subplot(1,1,1)\n",
    "sizes = [100, 200, 400, 800, 1600, 3200]\n",
    "ax.plot(sizes, bubblesort_times, label=\"Bubble sort\")\n",
    "ax.plot(sizes, selectionsort_times, label=\"Selection sort\")\n",
    "ax.plot(sizes, insertionsort_times, label=\"Insertion sort\")\n",
    "ax.plot(sizes, shellsort_times, label=\"Shell sort\")\n",
    "ax.plot(sizes, quicksort_times, label=\"Quick sort\")\n",
    "#ax.plot(sizes, heapsort_times, label=\"Heap sort\")\n",
    "ax.set_xlabel('array size')\n",
    "ax.set_ylabel('time')\n",
    "ax.legend()"
   ]
  }
 ],
 "metadata": {
  "kernelspec": {
   "display_name": "Python 3",
   "language": "python",
   "name": "python3"
  },
  "language_info": {
   "codemirror_mode": {
    "name": "ipython",
    "version": 3
   },
   "file_extension": ".py",
   "mimetype": "text/x-python",
   "name": "python",
   "nbconvert_exporter": "python",
   "pygments_lexer": "ipython3",
   "version": "3.6.3"
  }
 },
 "nbformat": 4,
 "nbformat_minor": 2
}
