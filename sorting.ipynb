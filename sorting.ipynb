{
 "cells": [
  {
   "cell_type": "code",
   "execution_count": 623,
   "metadata": {
    "collapsed": true
   },
   "outputs": [],
   "source": [
    "import time\n",
    "import numpy as np\n",
    "import matplotlib.pyplot as plt\n",
    "%matplotlib inline"
   ]
  },
  {
   "cell_type": "markdown",
   "metadata": {},
   "source": [
    "### Bubble sort:"
   ]
  },
  {
   "cell_type": "code",
   "execution_count": 842,
   "metadata": {
    "collapsed": true
   },
   "outputs": [],
   "source": [
    "def bubble_sort(array):\n",
    "    \"\"\"\n",
    "    Sorts the input data using bubble sort algorithm.\n",
    "    Args:\n",
    "        array (array_like): input data\n",
    "    Returns:\n",
    "        numpy.ndarray: sorted data\n",
    "    \"\"\"\n",
    "    tmp = np.copy(array)\n",
    "    for i in range(len(tmp)):\n",
    "        for j in range(0, len(tmp) - i - 1):\n",
    "            if tmp[j] > tmp[j+1]:\n",
    "                tmp[j], tmp[j+1] = tmp[j+1], tmp[j]\n",
    "    return tmp"
   ]
  },
  {
   "cell_type": "code",
   "execution_count": 843,
   "metadata": {},
   "outputs": [
    {
     "name": "stdout",
     "output_type": "stream",
     "text": [
      "[ 0.12788525  0.22102527  0.84475491  0.42713876  0.88114092  0.33078696]\n",
      "[ 0.12788525  0.22102527  0.33078696  0.42713876  0.84475491  0.88114092]\n"
     ]
    }
   ],
   "source": [
    "random_array = np.random.rand(6)\n",
    "print(random_array)\n",
    "sorted_array = bubble_sort(random_array)\n",
    "print(sorted_array)"
   ]
  },
  {
   "cell_type": "code",
   "execution_count": 844,
   "metadata": {
    "scrolled": true
   },
   "outputs": [
    {
     "name": "stdout",
     "output_type": "stream",
     "text": [
      "[0.0, 0.015625, 0.015625, 0.125, 0.421875, 1.703125]\n"
     ]
    }
   ],
   "source": [
    "bubblesort_times = []\n",
    "for i in (100, 200, 400, 800, 1600, 3200):\n",
    "    random_array = np.random.rand(i)\n",
    "    t1 = time.process_time()\n",
    "    sorted_array = bubble_sort(random_array)\n",
    "    t2 = time.process_time()\n",
    "    bubblesort_times.append(t2 - t1)\n",
    "print(bubblesort_times)"
   ]
  },
  {
   "cell_type": "markdown",
   "metadata": {},
   "source": [
    "### Selection sort:"
   ]
  },
  {
   "cell_type": "code",
   "execution_count": 845,
   "metadata": {},
   "outputs": [],
   "source": [
    "def selection_sort(array):\n",
    "    \"\"\"\n",
    "    Sorts the input data using selection sort algorithm.\n",
    "    Args:\n",
    "        array (array_like): input data\n",
    "    Returns:\n",
    "        numpy.ndarray: sorted data\n",
    "    \"\"\"\n",
    "    tmp = np.copy(array)\n",
    "    for i in range(len(tmp)):\n",
    "        min_index = np.argwhere(tmp[i:] == min(tmp[i:])) # find index of minimum element relatively to i\n",
    "        if min_index != 0:\n",
    "            tmp[i], tmp[i+min_index] = tmp[i+min_index], tmp[i] # swap i-th element with the minimum element\n",
    "    return tmp"
   ]
  },
  {
   "cell_type": "code",
   "execution_count": 846,
   "metadata": {},
   "outputs": [
    {
     "name": "stdout",
     "output_type": "stream",
     "text": [
      "[ 0.00446652  0.79626213  0.70358695  0.79435249  0.47131537  0.84158606]\n",
      "[ 0.00446652  0.47131537  0.70358695  0.79435249  0.79626213  0.84158606]\n"
     ]
    }
   ],
   "source": [
    "random_array = np.random.rand(6)\n",
    "print(random_array)\n",
    "sorted_array = selection_sort(random_array)\n",
    "print(sorted_array)"
   ]
  },
  {
   "cell_type": "code",
   "execution_count": 847,
   "metadata": {
    "scrolled": true
   },
   "outputs": [
    {
     "name": "stdout",
     "output_type": "stream",
     "text": [
      "[0.0, 0.0, 0.015625, 0.015625, 0.09375, 0.296875]\n"
     ]
    }
   ],
   "source": [
    "selectionsort_times = []\n",
    "for i in (100, 200, 400, 800, 1600, 3200):\n",
    "    random_array = np.random.rand(i)\n",
    "    t1 = time.process_time()\n",
    "    sorted_array = selection_sort(random_array)\n",
    "    t2 = time.process_time()\n",
    "    selectionsort_times.append(t2 - t1)\n",
    "print(selectionsort_times)"
   ]
  },
  {
   "cell_type": "markdown",
   "metadata": {},
   "source": [
    "### Insertion sort:"
   ]
  },
  {
   "cell_type": "code",
   "execution_count": 848,
   "metadata": {
    "collapsed": true
   },
   "outputs": [],
   "source": [
    "def insertion_sort(array):\n",
    "    \"\"\"\n",
    "    Sorts the input data using inserion sort algorithm.\n",
    "    Args:\n",
    "        array (array_like): input data\n",
    "    Returns:\n",
    "        numpy.ndarray: sorted data\n",
    "    \"\"\"\n",
    "    tmp = np.copy(array)\n",
    "    for i in range(1, len(tmp)):\n",
    "        val = tmp[i]\n",
    "        j = i\n",
    "        while j > 0 and tmp[j-1] > val:\n",
    "            tmp[j] = tmp[j-1]\n",
    "            j = j - 1\n",
    "        tmp[j] = val\n",
    "    return tmp"
   ]
  },
  {
   "cell_type": "code",
   "execution_count": 849,
   "metadata": {
    "scrolled": true
   },
   "outputs": [
    {
     "name": "stdout",
     "output_type": "stream",
     "text": [
      "[ 0.31686821  0.65563773  0.89795558  0.08354375  0.21874172  0.73197679]\n",
      "[ 0.08354375  0.21874172  0.31686821  0.65563773  0.73197679  0.89795558]\n"
     ]
    }
   ],
   "source": [
    "random_array = np.random.rand(6)\n",
    "print(random_array)\n",
    "sorted_array = insertion_sort(random_array)\n",
    "print(sorted_array)"
   ]
  },
  {
   "cell_type": "code",
   "execution_count": 850,
   "metadata": {},
   "outputs": [
    {
     "name": "stdout",
     "output_type": "stream",
     "text": [
      "[0.0, 0.0, 0.015625, 0.078125, 0.203125, 0.78125]\n"
     ]
    }
   ],
   "source": [
    "insertionsort_times = []\n",
    "for i in (100, 200, 400, 800, 1600, 3200):\n",
    "    random_array = np.random.rand(i)\n",
    "    t1 = time.process_time()\n",
    "    sorted_array = insertion_sort(random_array)\n",
    "    t2 = time.process_time()\n",
    "    insertionsort_times.append(t2 - t1)\n",
    "print(insertionsort_times)"
   ]
  },
  {
   "cell_type": "markdown",
   "metadata": {},
   "source": [
    "### Shell sort:"
   ]
  },
  {
   "cell_type": "code",
   "execution_count": 851,
   "metadata": {
    "collapsed": true
   },
   "outputs": [],
   "source": [
    "def shell_sort(array):\n",
    "    \"\"\"\n",
    "    Sorts the input data using shell sort algorithm.\n",
    "    Args:\n",
    "        array (array_like): input data\n",
    "    Returns:\n",
    "        numpy.ndarray: sorted data\n",
    "    \"\"\"\n",
    "    tmp = np.copy(array)\n",
    "    gap = int(len(tmp) / 2)\n",
    "    while gap > 0:\n",
    "        for i in range(gap, len(tmp)):\n",
    "            val = tmp[i]\n",
    "            j = i\n",
    "            while j >= gap and tmp[j-gap] > val:\n",
    "                tmp[j] = tmp[j-gap]\n",
    "                j = j - gap\n",
    "            tmp[j] = val\n",
    "        gap = int(gap / 2)\n",
    "    return tmp"
   ]
  },
  {
   "cell_type": "code",
   "execution_count": 852,
   "metadata": {},
   "outputs": [
    {
     "name": "stdout",
     "output_type": "stream",
     "text": [
      "[ 0.0887786   0.84429893  0.2437528   0.67167997  0.43922075  0.0118392 ]\n",
      "[ 0.0118392   0.0887786   0.2437528   0.43922075  0.67167997  0.84429893]\n"
     ]
    }
   ],
   "source": [
    "random_array = np.random.rand(6)\n",
    "print(random_array)\n",
    "sorted_array = shell_sort(random_array)\n",
    "print(sorted_array)"
   ]
  },
  {
   "cell_type": "code",
   "execution_count": 853,
   "metadata": {},
   "outputs": [
    {
     "name": "stdout",
     "output_type": "stream",
     "text": [
      "[0.0, 0.0, 0.0, 0.015625, 0.0, 0.03125]\n"
     ]
    }
   ],
   "source": [
    "shellsort_times = []\n",
    "for i in (100, 200, 400, 800, 1600, 3200):\n",
    "    random_array = np.random.rand(i)\n",
    "    t1 = time.process_time()\n",
    "    sorted_array = shell_sort(random_array)\n",
    "    t2 = time.process_time()\n",
    "    shellsort_times.append(t2 - t1)\n",
    "print(shellsort_times)"
   ]
  },
  {
   "cell_type": "markdown",
   "metadata": {},
   "source": [
    "### Quicksort:"
   ]
  },
  {
   "cell_type": "code",
   "execution_count": 854,
   "metadata": {
    "collapsed": true
   },
   "outputs": [],
   "source": [
    "def quicksort(array):\n",
    "    \"\"\"\n",
    "    Sorts the input data using quicksort algorithm.\n",
    "    Args:\n",
    "        array (array_like): input data\n",
    "    Returns:\n",
    "        numpy.ndarray: sorted data\n",
    "    \"\"\"\n",
    "    less = np.array([])\n",
    "    equal = np.array([])\n",
    "    greater = np.array([])\n",
    "    if len(array) > 1:\n",
    "        pivot = array[0]\n",
    "        for x in array:\n",
    "            if x < pivot: less = np.append(less, x)\n",
    "            if x == pivot: equal = np.append(equal, x)\n",
    "            if x > pivot: greater = np.append(greater, x)\n",
    "        return np.concatenate((quick_sort(less), equal, quick_sort(greater)))\n",
    "    else:\n",
    "        return array"
   ]
  },
  {
   "cell_type": "code",
   "execution_count": 855,
   "metadata": {
    "scrolled": false
   },
   "outputs": [
    {
     "name": "stdout",
     "output_type": "stream",
     "text": [
      "[ 0.08316539  0.19881927  0.6889618   0.36856203  0.63634333  0.01506538]\n",
      "[ 0.01506538  0.08316539  0.19881927  0.36856203  0.63634333  0.6889618 ]\n"
     ]
    }
   ],
   "source": [
    "random_array = np.random.rand(6)\n",
    "print(random_array)\n",
    "sorted_array = quicksort(random_array)\n",
    "print(sorted_array)"
   ]
  },
  {
   "cell_type": "code",
   "execution_count": 856,
   "metadata": {},
   "outputs": [
    {
     "name": "stdout",
     "output_type": "stream",
     "text": [
      "[0.0, 0.015625, 0.015625, 0.03125, 0.078125, 0.15625]\n"
     ]
    }
   ],
   "source": [
    "quicksort_times = []\n",
    "for i in (100, 200, 400, 800, 1600, 3200):\n",
    "    random_array = np.random.rand(i)\n",
    "    t1 = time.process_time()\n",
    "    sorted_array = quicksort(random_array)\n",
    "    t2 = time.process_time()\n",
    "    quicksort_times.append(t2 - t1)\n",
    "print(quicksort_times)"
   ]
  },
  {
   "cell_type": "markdown",
   "metadata": {},
   "source": [
    "### Heapsort:"
   ]
  },
  {
   "cell_type": "code",
   "execution_count": 857,
   "metadata": {
    "collapsed": true
   },
   "outputs": [],
   "source": [
    "def heapsort(array):\n",
    "    \"\"\"\n",
    "    Sorts the input data using heapsort algorithm.\n",
    "    Args:\n",
    "        array (array_like): input data\n",
    "    Returns:\n",
    "        numpy.ndarray: sorted data\n",
    "    \"\"\"\n",
    "    tmp = np.copy(array)\n",
    "    # add code\n",
    "    return tmp"
   ]
  },
  {
   "cell_type": "code",
   "execution_count": 858,
   "metadata": {
    "scrolled": true
   },
   "outputs": [
    {
     "name": "stdout",
     "output_type": "stream",
     "text": [
      "[ 0.99989757  0.0325207   0.8859221   0.72044899  0.40807136  0.03203164]\n",
      "[ 0.99989757  0.0325207   0.8859221   0.72044899  0.40807136  0.03203164]\n"
     ]
    }
   ],
   "source": [
    "random_array = np.random.rand(6)\n",
    "print(random_array)\n",
    "sorted_array = heapsort(random_array)\n",
    "print(sorted_array)"
   ]
  },
  {
   "cell_type": "code",
   "execution_count": 859,
   "metadata": {},
   "outputs": [
    {
     "name": "stdout",
     "output_type": "stream",
     "text": [
      "[0.0, 0.0, 0.0, 0.0, 0.0, 0.0]\n"
     ]
    }
   ],
   "source": [
    "heapsort_times = []\n",
    "for i in (100, 200, 400, 800, 1600, 3200):\n",
    "    random_array = np.random.rand(i)\n",
    "    t1 = time.process_time()\n",
    "    sorted_array = heapsort(random_array)\n",
    "    t2 = time.process_time()\n",
    "    heapsort_times.append(t2 - t1)\n",
    "print(heapsort_times)"
   ]
  },
  {
   "cell_type": "markdown",
   "metadata": {},
   "source": [
    "### Benchmark:"
   ]
  },
  {
   "cell_type": "code",
   "execution_count": 860,
   "metadata": {},
   "outputs": [
    {
     "data": {
      "text/plain": [
       "<matplotlib.legend.Legend at 0x20f8390de48>"
      ]
     },
     "execution_count": 860,
     "metadata": {},
     "output_type": "execute_result"
    },
    {
     "data": {
      "image/png": "[encoded data removed]",
      "text/plain": [
       "<matplotlib.figure.Figure at 0x20f838c72e8>"
      ]
     },
     "metadata": {},
     "output_type": "display_data"
    }
   ],
   "source": [
    "fig = plt.figure()\n",
    "ax = fig.add_subplot(1,1,1)\n",
    "sizes = [100, 200, 400, 800, 1600, 3200]\n",
    "ax.plot(sizes, bubblesort_times, label=\"Bubble sort\")\n",
    "ax.plot(sizes, selectionsort_times, label=\"Selection sort\")\n",
    "ax.plot(sizes, insertionsort_times, label=\"Insertion sort\")\n",
    "ax.plot(sizes, shellsort_times, label=\"Shell sort\")\n",
    "ax.plot(sizes, quicksort_times, label=\"Quick sort\")\n",
    "#ax.plot(sizes, heapsort_times, label=\"Heap sort\")\n",
    "ax.set_xlabel('array size')\n",
    "ax.set_ylabel('time')\n",
    "ax.legend()"
   ]
  },
  {
   "cell_type": "code",
   "execution_count": null,
   "metadata": {
    "collapsed": true
   },
   "outputs": [],
   "source": []
  }
 ],
 "metadata": {
  "kernelspec": {
   "display_name": "Python 3",
   "language": "python",
   "name": "python3"
  },
  "language_info": {
   "codemirror_mode": {
    "name": "ipython",
    "version": 3
   },
   "file_extension": ".py",
   "mimetype": "text/x-python",
   "name": "python",
   "nbconvert_exporter": "python",
   "pygments_lexer": "ipython3",
   "version": "3.6.3"
  }
 },
 "nbformat": 4,
 "nbformat_minor": 2
}
