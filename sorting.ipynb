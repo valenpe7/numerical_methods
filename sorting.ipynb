{
 "cells": [
  {
   "cell_type": "code",
   "execution_count": 200,
   "metadata": {
    "collapsed": true
   },
   "outputs": [],
   "source": [
    "import time\n",
    "import numpy as np\n",
    "import matplotlib.pyplot as plt\n",
    "%matplotlib inline"
   ]
  },
  {
   "cell_type": "code",
   "execution_count": 439,
   "metadata": {},
   "outputs": [],
   "source": [
    "def selection_sort(array):\n",
    "    tmp = np.copy(array)\n",
    "    for i in range(0, len(tmp)):\n",
    "        for j in range(i, len(tmp)):\n",
    "            if tmp[j] < tmp[i]:\n",
    "                tmp[i], tmp[j] = tmp[j], tmp[i]\n",
    "    return tmp"
   ]
  },
  {
   "cell_type": "code",
   "execution_count": 442,
   "metadata": {},
   "outputs": [
    {
     "name": "stdout",
     "output_type": "stream",
     "text": [
      "[ 0.06047944  0.78566656  0.27872477  0.3813668   0.6627426   0.61717032]\n",
      "[ 0.06047944  0.27872477  0.3813668   0.61717032  0.6627426   0.78566656]\n"
     ]
    }
   ],
   "source": [
    "random_array = np.random.rand(6)\n",
    "print(random_array)\n",
    "sorted_array = selection_sort(random_array)\n",
    "print(sorted_array)"
   ]
  },
  {
   "cell_type": "code",
   "execution_count": 441,
   "metadata": {},
   "outputs": [
    {
     "name": "stdout",
     "output_type": "stream",
     "text": [
      "[0.0, 0.015625, 0.015625, 0.109375, 0.359375, 1.453125]\n"
     ]
    }
   ],
   "source": [
    "selectionsort_times = []\n",
    "for i in (100, 200, 400, 800, 1600, 3200):\n",
    "    random_array = np.random.rand(i)\n",
    "    t1 = time.process_time()\n",
    "    sorted_array = selection_sort(random_array)\n",
    "    t2 = time.process_time()\n",
    "    selectionsort_times.append(t2 - t1)\n",
    "print(selectionsort_times)"
   ]
  },
  {
   "cell_type": "code",
   "execution_count": 444,
   "metadata": {},
   "outputs": [],
   "source": [
    "def insertion_sort(array):\n",
    "    tmp = np.copy(array)\n",
    "    for i in range(1, len(tmp)):\n",
    "        while i > 0 and tmp[i] < tmp[i-1]:\n",
    "            tmp[i], tmp[i-1] = tmp[i-1], tmp[i]\n",
    "            i -= 1\n",
    "    return tmp"
   ]
  },
  {
   "cell_type": "code",
   "execution_count": 445,
   "metadata": {
    "scrolled": true
   },
   "outputs": [
    {
     "name": "stdout",
     "output_type": "stream",
     "text": [
      "[ 0.24250619  0.05156002  0.06159488  0.97165115  0.92254929  0.18397433]\n",
      "[ 0.05156002  0.06159488  0.18397433  0.24250619  0.92254929  0.97165115]\n"
     ]
    }
   ],
   "source": [
    "random_array = np.random.rand(6)\n",
    "print(random_array)\n",
    "sorted_array = insertion_sort(random_array)\n",
    "print(sorted_array)"
   ]
  },
  {
   "cell_type": "code",
   "execution_count": 462,
   "metadata": {},
   "outputs": [
    {
     "name": "stdout",
     "output_type": "stream",
     "text": [
      "[0.0, 0.0, 0.015625, 0.09375, 0.34375, 1.328125]\n"
     ]
    }
   ],
   "source": [
    "insertionsort_times = []\n",
    "for i in (100, 200, 400, 800, 1600, 3200):\n",
    "    random_array = np.random.rand(i)\n",
    "    t1 = time.process_time()\n",
    "    sorted_array = insertion_sort(random_array)\n",
    "    t2 = time.process_time()\n",
    "    insertionsort_times.append(t2 - t1)\n",
    "print(insertionsort_times)"
   ]
  },
  {
   "cell_type": "code",
   "execution_count": 448,
   "metadata": {
    "collapsed": true
   },
   "outputs": [],
   "source": [
    "def bubble_sort(array):\n",
    "    tmp = np.copy(array)\n",
    "    for i in range(0, len(tmp)):\n",
    "        done = True\n",
    "        for j in range(len(tmp) - 1, i, -1):\n",
    "            if tmp[j] < tmp[j-1]:\n",
    "                tmp[j], tmp[j-1] = tmp[j-1], tmp[j]\n",
    "                done = False\n",
    "        if done:\n",
    "            return tmp\n",
    "    return tmp"
   ]
  },
  {
   "cell_type": "code",
   "execution_count": 449,
   "metadata": {},
   "outputs": [
    {
     "name": "stdout",
     "output_type": "stream",
     "text": [
      "[ 0.01346598  0.18309633  0.03537954  0.98104828  0.15878349  0.10236352]\n",
      "[ 0.01346598  0.03537954  0.10236352  0.15878349  0.18309633  0.98104828]\n"
     ]
    }
   ],
   "source": [
    "random_array = np.random.rand(6)\n",
    "print(random_array)\n",
    "sorted_array = bubble_sort(random_array)\n",
    "print(sorted_array)"
   ]
  },
  {
   "cell_type": "code",
   "execution_count": 460,
   "metadata": {},
   "outputs": [
    {
     "name": "stdout",
     "output_type": "stream",
     "text": [
      "[0.0, 0.015625, 0.03125, 0.125, 0.4375, 1.796875]\n"
     ]
    }
   ],
   "source": [
    "bubblesort_times = []\n",
    "for i in (100, 200, 400, 800, 1600, 3200):\n",
    "    random_array = np.random.rand(i)\n",
    "    t1 = time.process_time()\n",
    "    sorted_array = bubble_sort(random_array)\n",
    "    t2 = time.process_time()\n",
    "    bubblesort_times.append(t2 - t1)\n",
    "print(bubblesort_times)"
   ]
  },
  {
   "cell_type": "code",
   "execution_count": 416,
   "metadata": {
    "collapsed": true
   },
   "outputs": [],
   "source": [
    "def quick_sort(array):\n",
    "    less = np.array([])\n",
    "    equal = np.array([])\n",
    "    greater = np.array([])\n",
    "    if len(array) > 1:\n",
    "        pivot = array[0]\n",
    "        for x in array:\n",
    "            if x < pivot: less = np.append(less, x)\n",
    "            if x == pivot: equal = np.append(equal, x)\n",
    "            if x > pivot: greater = np.append(greater, x)\n",
    "        return np.concatenate((quick_sort(less), equal, quick_sort(greater)))\n",
    "    else:\n",
    "        return array"
   ]
  },
  {
   "cell_type": "code",
   "execution_count": 451,
   "metadata": {
    "scrolled": false
   },
   "outputs": [
    {
     "name": "stdout",
     "output_type": "stream",
     "text": [
      "[ 0.67678695  0.01603759  0.51805706  0.30636609  0.24420959  0.03842353]\n",
      "[ 0.01603759  0.03842353  0.24420959  0.30636609  0.51805706  0.67678695]\n"
     ]
    }
   ],
   "source": [
    "random_array = np.random.rand(6)\n",
    "print(random_array)\n",
    "sorted_array = quick_sort(random_array)\n",
    "print(sorted_array)"
   ]
  },
  {
   "cell_type": "code",
   "execution_count": 454,
   "metadata": {},
   "outputs": [
    {
     "name": "stdout",
     "output_type": "stream",
     "text": [
      "[0.0, 0.0, 0.015625, 0.046875, 0.0625, 0.171875]\n"
     ]
    }
   ],
   "source": [
    "quicksort_times = []\n",
    "for i in (100, 200, 400, 800, 1600, 3200):\n",
    "    random_array = np.random.rand(i)\n",
    "    t1 = time.process_time()\n",
    "    sorted_array = quick_sort(random_array)\n",
    "    t2 = time.process_time()\n",
    "    quicksort_times.append(t2 - t1)\n",
    "print(quicksort_times)"
   ]
  },
  {
   "cell_type": "code",
   "execution_count": 467,
   "metadata": {},
   "outputs": [
    {
     "data": {
      "text/plain": [
       "<matplotlib.legend.Legend at 0x20f80806cf8>"
      ]
     },
     "execution_count": 467,
     "metadata": {},
     "output_type": "execute_result"
    },
    {
     "data": {
      "image/png": "[encoded data removed]",
      "text/plain": [
       "<matplotlib.figure.Figure at 0x20f807b5cf8>"
      ]
     },
     "metadata": {},
     "output_type": "display_data"
    }
   ],
   "source": [
    "fig = plt.figure()\n",
    "ax = fig.add_subplot(1,1,1)\n",
    "sizes = [100, 200, 400, 800, 1600, 3200]\n",
    "ax.plot(sizes, selectionsort_times, label=\"Selection sort\")\n",
    "ax.plot(sizes, insertionsort_times, label=\"Insertion sort\")\n",
    "ax.plot(sizes, bubblesort_times, label=\"Bubble sort\")\n",
    "ax.plot(sizes, quicksort_times, label=\"Quick sort\")\n",
    "ax.set_xlabel('array size')\n",
    "ax.set_ylabel('time')\n",
    "ax.legend()"
   ]
  },
  {
   "cell_type": "code",
   "execution_count": null,
   "metadata": {
    "collapsed": true
   },
   "outputs": [],
   "source": []
  }
 ],
 "metadata": {
  "kernelspec": {
   "display_name": "Python 3",
   "language": "python",
   "name": "python3"
  },
  "language_info": {
   "codemirror_mode": {
    "name": "ipython",
    "version": 3
   },
   "file_extension": ".py",
   "mimetype": "text/x-python",
   "name": "python",
   "nbconvert_exporter": "python",
   "pygments_lexer": "ipython3",
   "version": "3.6.3"
  }
 },
 "nbformat": 4,
 "nbformat_minor": 2
}
