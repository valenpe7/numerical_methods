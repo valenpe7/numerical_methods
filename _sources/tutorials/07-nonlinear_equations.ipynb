{
 "cells": [
  {
   "cell_type": "markdown",
   "metadata": {},
   "source": [
    "# Tutorial 07 - Nonlinear equations"
   ]
  },
  {
   "cell_type": "markdown",
   "metadata": {},
   "source": [
    "Root finding, bisection method, secant method, false position method, Newton-Raphson method."
   ]
  },
  {
   "cell_type": "code",
   "execution_count": null,
   "metadata": {},
   "outputs": [],
   "source": [
    "import numpy as np\n",
    "from scipy import linalg, optimize\n",
    "import matplotlib.pyplot as plt"
   ]
  },
  {
   "cell_type": "markdown",
   "metadata": {},
   "source": [
    "### Bisection method"
   ]
  },
  {
   "cell_type": "markdown",
   "metadata": {},
   "source": [
    "The [bisection method](https://en.wikipedia.org/wiki/Bisection_method) is applicable for numerically solving the equation $ f(x) = 0 $ for $ x \\in \\mathbb{R} $, where $ f $ is a continuous function defined on an interval $ [a, b] $ and where $ f(a) $ and $ f(b) $ have opposite signs. In this case $ a $ and $ b $ are said to bracket a root. \n",
    "\n",
    "At each step the method divides the interval $ [a, b] $ in two by computing the midpoint $ c = (a + b) \\ / \\ 2 $ of the interval. Unless $ c $ is itself a root (which is very unlikely, but possible) there are now only two possibilities: either $ f(a) $ and $ f(c) $ have opposite signs and bracket a root, or $ f(c) $ and $ f(b) $ have opposite signs and bracket a root. The method selects the subinterval that is guaranteed to be a bracket as the new interval to be used in the next step. The process is continued until the interval is sufficiently small. When implementing the method on a computer, there can be problems with finite precision, so there are often additional convergence tests or limits to the number of iterations."
   ]
  },
  {
   "cell_type": "markdown",
   "metadata": {},
   "source": [
    "<div class=\"alert alert-block alert-warning\">\n",
    "\n",
    "**Exercise 07.1:** Implement the bisection method.\n",
    "    \n",
    "</div>    "
   ]
  },
  {
   "cell_type": "code",
   "execution_count": null,
   "metadata": {},
   "outputs": [],
   "source": [
    "def bisection(f, a, b, error_tolerance=1.0e-15, max_iterations=500):\n",
    "    \"\"\"\n",
    "    Finds the root of a continuous function using bisection method.\n",
    "    Args:\n",
    "        f (function): Continuous function defined on an interval [a, b], where f(a) and f(b) have opposite signs\n",
    "        a (float): Leftmost point of the interval\n",
    "        b (float): Rightmost point of the interval\n",
    "        error_tolerance (float): Error tolerance\n",
    "        max_iterations (int): Maximum number of iterations\n",
    "    Returns:\n",
    "        float: The root of function f\n",
    "    Raises:\n",
    "        RuntimeError: Raises an exception when the root is not found\n",
    "    \"\"\"\n",
    "\n",
    "    # add your code here\n"
   ]
  },
  {
   "cell_type": "markdown",
   "metadata": {},
   "source": [
    "You may evaluate the correctness of your implementation using the [`scipy.optimize.root_scalar`](https://docs.scipy.org/doc/scipy/reference/generated/scipy.optimize.root_scalar.html) function."
   ]
  },
  {
   "cell_type": "code",
   "execution_count": null,
   "metadata": {},
   "outputs": [],
   "source": [
    "def f(x):\n",
    "    return x**2 - 1.0\n",
    "try:\n",
    "    np.testing.assert_array_almost_equal(bisection(f, 0.0, 4.0), optimize.root_scalar(f, bracket=[0.0, 4.0], method=\"bisect\").root, decimal=7)\n",
    "except AssertionError as E:\n",
    "    print(E)\n",
    "else:\n",
    "    print(\"The implementation is correct.\")"
   ]
  },
  {
   "cell_type": "markdown",
   "metadata": {},
   "source": [
    "<div class=\"alert alert-block alert-warning\">\n",
    "\n",
    "**Exercise 07.2:** Find the only real root of the cubic function\n",
    "\n",
    "$$\n",
    "f(x) = x^3 - x^2 - 1\n",
    "$$\n",
    "\n",
    "within the interval $ [-3, 3] $ using the bisection method. Plot the function and mark the solution.\n",
    "    \n",
    "</div>    "
   ]
  },
  {
   "cell_type": "code",
   "execution_count": null,
   "metadata": {},
   "outputs": [],
   "source": [
    "\n",
    "# add your code here\n"
   ]
  },
  {
   "cell_type": "markdown",
   "metadata": {},
   "source": [
    "<div class=\"alert alert-block alert-info\">\n",
    "\n",
    "**Note:** The root of the cubic function in Exercise 07.2 can be also found analytically and is known as a [supergolden ratio](https://en.wikipedia.org/wiki/Supergolden_ratio). \n",
    "    \n",
    "</div>   "
   ]
  },
  {
   "cell_type": "markdown",
   "metadata": {},
   "source": [
    "### Secant method"
   ]
  },
  {
   "cell_type": "markdown",
   "metadata": {},
   "source": [
    "The [secant method](https://en.wikipedia.org/wiki/Secant_method) numerically solves the equation $ f(x) = 0 $, $ x \\in \\mathbb{R} $ using a succession of roots of secant lines. The secant method does not require that the root remain bracketed, like the bisection method does, and hence it does not always converge.\n",
    "\n",
    "Starting with initial values $ x^{(0)} $ and $ x^{(1)} $, the method calculates the equation of a secant line $ s(x) = px + q $ passing through the points $ [x^{(0)}, f(x^{(0)})] $ and $ [x^{(1)}, f(x^{(1)})] $. The slope of the line, $ p $, and the coefficient, $ q $, can be easily obtained using basic algebra,\n",
    "\n",
    "$$ \n",
    "p = \\frac{f(x^{(1)}) - f(x^{(0)})}{x^{(1)} - x^{(0)}}, \\quad q = f(x^{(0)}) - \\frac{f(x^{(1)}) - f(x^{(0)})}{x^{(1)} - x^{(0)}} x^{(0)}. \n",
    "$$\n",
    "\n",
    "The point where the secant line intersects the $ x $-axis can be obtained by solving $ s(x) = 0 $,\n",
    "\n",
    "$$ \n",
    "x = \\frac{x^{(0)} f(x^{(1)}) - x^{(1)} f(x^{(0)})}{f(x^{(1)}) - f(x^{(0)})}. \n",
    "$$\n",
    "\n",
    "This new value of $ x $ is then used as $ x^{(2)} $, and the process repeats (with $ x^{(1)} $ and $ x^{(2)} $ instead of $ x^{(0)} $ and $ x^{(1)} $) until the difference between $ x^{(k)} $ and $ x^{(k - 1)}$ is sufficiently small."
   ]
  },
  {
   "cell_type": "markdown",
   "metadata": {},
   "source": [
    "<div class=\"alert alert-block alert-warning\">\n",
    "\n",
    "**Exercise 07.3:** Implement the secant method.\n",
    "    \n",
    "</div>    "
   ]
  },
  {
   "cell_type": "code",
   "execution_count": null,
   "metadata": {},
   "outputs": [],
   "source": [
    "def secant_method(f, x_0, x_1, error_tolerance=1.0e-15, max_iterations=500):\n",
    "    \"\"\"\n",
    "    Finds the root of a continuous function using secant method.\n",
    "    Args:\n",
    "        f (function): Continuous function\n",
    "        x_0 (float): First initial guess\n",
    "        x_1 (float): Second initial guess\n",
    "        error_tolerance (float): Error tolerance\n",
    "        max_iterations (int): Maximum number of iterations\n",
    "    Returns:\n",
    "        float: The root of function f\n",
    "    Raises:\n",
    "        RuntimeError: Raises an exception when the root is not found\n",
    "    \"\"\"\n",
    "\n",
    "    # add your code here\n"
   ]
  },
  {
   "cell_type": "markdown",
   "metadata": {},
   "source": [
    "You may evaluate the correctness of your implementation using the [`scipy.optimize.root_scalar`](https://docs.scipy.org/doc/scipy/reference/generated/scipy.optimize.root_scalar.html) function."
   ]
  },
  {
   "cell_type": "code",
   "execution_count": null,
   "metadata": {},
   "outputs": [],
   "source": [
    "def f(x):\n",
    "    return x**2 - 1.0\n",
    "try:\n",
    "    np.testing.assert_array_almost_equal(secant_method(f, 0.0, 4.0), optimize.root_scalar(f, x0=0.0, x1=4.0, method=\"secant\").root, decimal=7)\n",
    "except AssertionError as E:\n",
    "    print(E)\n",
    "else:\n",
    "    print(\"The implementation is correct.\")"
   ]
  },
  {
   "cell_type": "markdown",
   "metadata": {},
   "source": [
    "<div class=\"alert alert-block alert-warning\">\n",
    "\n",
    "**Exercise 07.4:** Find the only real root of the cubic function\n",
    "\n",
    "$$\n",
    "f(x) = x^3 - x - 1\n",
    "$$\n",
    "\n",
    "using the secant method (you may start with the initial values $ x_0 = 0 $ and $ x_1 = 2 $). Plot the function and mark the solution.\n",
    "    \n",
    "</div>    "
   ]
  },
  {
   "cell_type": "code",
   "execution_count": null,
   "metadata": {},
   "outputs": [],
   "source": [
    "\n",
    "# add your code here\n"
   ]
  },
  {
   "cell_type": "markdown",
   "metadata": {},
   "source": [
    "<div class=\"alert alert-block alert-info\">\n",
    "\n",
    "**Note:** The root of the cubic function in Exercise 07.4 can be also found analytically and is known as a [plastic number](https://en.wikipedia.org/wiki/Plastic_number). \n",
    "    \n",
    "</div>    "
   ]
  },
  {
   "cell_type": "markdown",
   "metadata": {},
   "source": [
    "### False position method"
   ]
  },
  {
   "cell_type": "markdown",
   "metadata": {},
   "source": [
    "The [false position method](https://en.wikipedia.org/wiki/Regula_falsi) uses the same formula as the secant method. However, it does not apply the formula on $ x^{(k - 1)} $ and $ x^{(k - 2)} $, like the secant method, but on $ x^{(k - 1)} $ and on the last iterate $ x^{(k)} $ such that $ f(x^{(k)}) $ and $ f(x^{(k - 1)}) $ have a different sign, so that the two points continue to bracket the root. This means that the false position method always converges."
   ]
  },
  {
   "cell_type": "markdown",
   "metadata": {},
   "source": [
    "<div class=\"alert alert-block alert-warning\">\n",
    "\n",
    "**Exercise 07.5:** Implement the false position method.\n",
    "    \n",
    "</div>    "
   ]
  },
  {
   "cell_type": "code",
   "execution_count": null,
   "metadata": {},
   "outputs": [],
   "source": [
    "def false_position_method(f, x_0, x_1, error_tolerance=1.0e-15, max_iterations=500):\n",
    "    \"\"\"\n",
    "    Finds the root of a continuous function using false position method.\n",
    "    Args:\n",
    "        f (function): Continuous function defined on an interval [x_0, x_1], where f(x_0) and f(x_1) have opposite signs\n",
    "        x_0 (float): Leftmost point of the interval\n",
    "        x_1 (float): Rightmost point of the interval\n",
    "        error_tolerance (float): Error tolerance\n",
    "        max_iterations (int): Maximum number of iterations\n",
    "    Returns:\n",
    "        float: The root of function f\n",
    "    Raises:\n",
    "        RuntimeError: Raises an exception when the root is not found\n",
    "    \"\"\"\n",
    "\n",
    "    # add your code here\n"
   ]
  },
  {
   "cell_type": "markdown",
   "metadata": {},
   "source": [
    "You may evaluate the correctness of your implementation using the [`scipy.optimize.root_scalar`](https://docs.scipy.org/doc/scipy/reference/generated/scipy.optimize.root_scalar.html) function."
   ]
  },
  {
   "cell_type": "code",
   "execution_count": null,
   "metadata": {},
   "outputs": [],
   "source": [
    "def f(x):\n",
    "    return x**2 - 1.0\n",
    "try:\n",
    "    np.testing.assert_array_almost_equal(false_position_method(f, 0.0, 4.0), optimize.root_scalar(f, x0=0.0, x1=4.0, method=\"secant\").root, decimal=7)\n",
    "except AssertionError as E:\n",
    "    print(E)\n",
    "else:\n",
    "    print(\"The implementation is correct.\")"
   ]
  },
  {
   "cell_type": "markdown",
   "metadata": {},
   "source": [
    "### Newton-Raphson method"
   ]
  },
  {
   "cell_type": "markdown",
   "metadata": {},
   "source": [
    "**[Newton-Raphson](https://en.wikipedia.org/wiki/Newton%27s_method) method for one nonlinear equation:**\n",
    "\n",
    "The root of nonlinear function $ f(x) $, $ x \\in \\mathbb{R} $, whose derivative $ f^{\\prime}(x) $ is continuous and nonzero in the neighborhood of the root, is obtained iteratively using the following recursive formula,\n",
    "\n",
    "$$\n",
    "x^{(k + 1)} = x^{(k)} - \\frac{f(x^{(k)})}{f^{\\prime}(x^{(k)})}\n",
    "$$\n",
    "\n",
    "with $ x_0 $ being an initial guess. A numerical difference can be used to approximate $ f^{\\prime}(x) $ in the Newton-Raphson formula. This is not, however, a recommended procedure, because it may decrease accuracy and the rate of convergence."
   ]
  },
  {
   "cell_type": "markdown",
   "metadata": {},
   "source": [
    "<div class=\"alert alert-block alert-warning\">\n",
    "\n",
    "**Exercise 07.6:** Implement the Newton-Raphson method for one-unknown problem (you may use the finite differences to approximate the derivative of given function).\n",
    "    \n",
    "</div>    "
   ]
  },
  {
   "cell_type": "code",
   "execution_count": null,
   "metadata": {},
   "outputs": [],
   "source": [
    "def newton_raphson(f, x_0, error_tolerance=1.0e-15, max_iterations=500):\n",
    "    \"\"\"\n",
    "    Finds the solution of one nonlinear eqution using Newton-Raphson method.\n",
    "    Args:\n",
    "        f (function): Function whose derivative is continuous and nonzero in the neighborhood of a root\n",
    "        x_0 (float): Initial guess\n",
    "        error_tolerance (float): Error tolerance\n",
    "        max_iterations (int): Maximum number of iterations\n",
    "    Returns:\n",
    "        float: The solution of a given equation\n",
    "    Raises:\n",
    "        RuntimeError: Raises an exception when the solution is not found\n",
    "    \"\"\"\n",
    "\n",
    "    # add your code here\n"
   ]
  },
  {
   "cell_type": "markdown",
   "metadata": {},
   "source": [
    "You may evaluate the correctness of your implementation using the [`scipy.optimize.root_scalar`](https://docs.scipy.org/doc/scipy/reference/generated/scipy.optimize.root_scalar.html) function."
   ]
  },
  {
   "cell_type": "code",
   "execution_count": null,
   "metadata": {},
   "outputs": [],
   "source": [
    "def f(x):\n",
    "    return x**2 - 1.0\n",
    "def df(x):\n",
    "    return 2.0 * x\n",
    "try:\n",
    "    np.testing.assert_array_almost_equal(newton_raphson(f, 4.0), optimize.root_scalar(f, fprime=df, x0=4.0, method=\"newton\").root, decimal=7)\n",
    "except AssertionError as E:\n",
    "    print(E)\n",
    "else:\n",
    "    print(\"The implementation is correct.\")"
   ]
  },
  {
   "cell_type": "markdown",
   "metadata": {},
   "source": [
    "<div class=\"alert alert-block alert-warning\">\n",
    "\n",
    "**Exercise 07.7:** Find the solution of the equation\n",
    "    \n",
    "$$\n",
    "x^3 - \\cos x = 0\n",
    "$$\n",
    "    \n",
    "using the Newton-Raphson method with the error tolerance of $ 10^{-15} $. How does the required number of iterations depends on the value of initial guess?\n",
    "    \n",
    "</div>    "
   ]
  },
  {
   "cell_type": "code",
   "execution_count": null,
   "metadata": {},
   "outputs": [],
   "source": [
    "\n",
    "# add your code here\n"
   ]
  },
  {
   "cell_type": "markdown",
   "metadata": {},
   "source": [
    "<div class=\"alert alert-block alert-warning\">\n",
    "\n",
    "**Exercise 07.8:** Find the solution of the equation\n",
    "    \n",
    "$$\n",
    "\\sqrt[3]{x} + 2 = 0\n",
    "$$\n",
    "    \n",
    "using the Newton-Raphson method.\n",
    "    \n",
    "</div>    "
   ]
  },
  {
   "cell_type": "code",
   "execution_count": null,
   "metadata": {},
   "outputs": [],
   "source": [
    "\n",
    "# add your code here\n"
   ]
  },
  {
   "cell_type": "markdown",
   "metadata": {},
   "source": [
    "<div class=\"alert alert-block alert-danger\">\n",
    "\n",
    "**Warning:** The Newton-Raphson method diverges in the case of equation in Exercise 07.8, becuase the tangent line at the root is vertical.\n",
    "    \n",
    "</div>    "
   ]
  },
  {
   "cell_type": "markdown",
   "metadata": {},
   "source": [
    "**[Newton-Raphson](https://en.wikipedia.org/wiki/Newton%27s_method) method for system of nonlinear equations:**\n",
    "\n",
    "A system of $ n $ nonlinear equations $ f(x) = 0 $, where $ x $ and $ f $, respectively, denote the entire vectors of values $ x_i $ and functions $ f_i $, $ i = 0, 1, \\dots, n - 1 $, is obtained iteratively using the following recursive formula,\n",
    "\n",
    "$$\n",
    "x^{(k + 1)} = x^{(k)} + \\delta_x.\n",
    "$$\n",
    "\n",
    "The correction $ \\delta_x $ is obtained by solving the following system of linear algebraic equations, \n",
    "\n",
    "$$\n",
    "J \\cdot \\delta_x = -f,\n",
    "$$\n",
    "\n",
    "where $ J $ is the Jacobian matrix."
   ]
  },
  {
   "cell_type": "markdown",
   "metadata": {},
   "source": [
    "<div class=\"alert alert-block alert-warning\">\n",
    "\n",
    "**Exercise 07.9:** Implement the Newton-Raphson method for a two-unknown problem (you may use the finite differences to approximate the derivatives of given functions).\n",
    "    \n",
    "</div>    "
   ]
  },
  {
   "cell_type": "code",
   "execution_count": null,
   "metadata": {},
   "outputs": [],
   "source": [
    "def newton_raphson_2d(f_0, f_1, x_0, y_0, error_tolerance=1.0e-15, max_iterations=500):\n",
    "    \"\"\"\n",
    "    Finds the solution of a sytem of two equations using Newton-Raphson method.\n",
    "    Args:\n",
    "        f_1 (function): Function whose derivative is continuous and nonzero in the neighborhood of a root\n",
    "        f_2 (function): Function whose derivative is continuous and nonzero in the neighborhood of a root\n",
    "        x_0 (float): Initial guess\n",
    "        y_0 (float): Initial guess\n",
    "        error_tolerance (float): Error tolerance\n",
    "        max_iterations (int): Maximum number of iterations\n",
    "    Returns:\n",
    "        list: The vector of solution of a given sytem of equations\n",
    "    Raises:\n",
    "        RuntimeError: Raises an exception when the solution is not found\n",
    "    \"\"\"\n",
    "\n",
    "    # add your code here\n"
   ]
  },
  {
   "cell_type": "markdown",
   "metadata": {},
   "source": [
    "<div class=\"alert alert-block alert-warning\">\n",
    "\n",
    "**Exercise 07.10:** Solve the following system of nonlinear equations,\n",
    "\n",
    "$$  \n",
    "\\begin{align}\n",
    "& x^2 - y^2 = -4 x + 2 y + 1, \\\\\n",
    "& x^2 = -5y + 4,\n",
    "\\end{align}\n",
    "$$\n",
    "\n",
    "using the Newton-Raphson method. Plot both functions and mark the root.\n",
    "    \n",
    "</div>    "
   ]
  },
  {
   "cell_type": "code",
   "execution_count": null,
   "metadata": {},
   "outputs": [],
   "source": [
    "\n",
    "# add your code here\n"
   ]
  }
 ],
 "metadata": {
  "kernelspec": {
   "display_name": "Python 3",
   "language": "python",
   "name": "python3"
  },
  "language_info": {
   "codemirror_mode": {
    "name": "ipython",
    "version": 3
   },
   "file_extension": ".py",
   "mimetype": "text/x-python",
   "name": "python",
   "nbconvert_exporter": "python",
   "pygments_lexer": "ipython3",
   "version": "3.8.5"
  }
 },
 "nbformat": 4,
 "nbformat_minor": 2
}
