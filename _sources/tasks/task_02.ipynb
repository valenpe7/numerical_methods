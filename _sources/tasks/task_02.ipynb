{
 "cells": [
  {
   "cell_type": "markdown",
   "metadata": {
    "deletable": false,
    "editable": false
   },
   "source": [
    "# Task 02\n",
    "\n",
    "**deadline: 07/03/2021 23:59 CET**"
   ]
  },
  {
   "cell_type": "markdown",
   "metadata": {
    "deletable": false,
    "editable": false
   },
   "source": [
    "1) Write a function that takes $ n \\in \\mathbb{N}_0 $ as an argument and returns the Maclaurin series of the function $ \\sin{x} $ up to order $ n $ in the form of `numpy.poly1d` (in order to evaluate the factorial, you may use the function `numpy.math.factorial`).\n",
    "\n",
    "2) Write a function that calculates the relative error of the function above for arbitrary point $ x \\in \\mathbb{R} $ and $ n \\in \\mathbb{N} $. Print the relative error for $ x = \\pi \\, / \\, 2 $ and $ n = 2$ on 16 decimal places.\n",
    "\n",
    "3) Find $ n $ for which the relative error at $ x = \\pi \\, / \\, 2 $ is less than $ 200 \\, \\varepsilon $, where $ \\varepsilon $ is the machine epsilon of the 64-bit representation of IEEE floating point numbers. Print that number."
   ]
  },
  {
   "cell_type": "code",
   "execution_count": null,
   "metadata": {},
   "outputs": [],
   "source": []
  }
 ],
 "metadata": {
  "kernelspec": {
   "display_name": "Python 3",
   "language": "python",
   "name": "python3"
  },
  "language_info": {
   "codemirror_mode": {
    "name": "ipython",
    "version": 3
   },
   "file_extension": ".py",
   "mimetype": "text/x-python",
   "name": "python",
   "nbconvert_exporter": "python",
   "pygments_lexer": "ipython3",
   "version": "3.8.5"
  }
 },
 "nbformat": 4,
 "nbformat_minor": 4
}
