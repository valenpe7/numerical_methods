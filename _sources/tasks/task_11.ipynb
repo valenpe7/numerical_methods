{
 "cells": [
  {
   "cell_type": "markdown",
   "metadata": {},
   "source": [
    "# Task 11\n",
    "\n",
    "**deadline: 16/05/2021 23:59 CET**"
   ]
  },
  {
   "cell_type": "markdown",
   "metadata": {},
   "source": [
    "**[0.75 points]:** Solve the following ordinary differential equation,\n",
    "\n",
    "$$\n",
    "x^2 y^{\\prime \\prime} - 5 x y^{\\prime} + 8 y = 0, \\quad x \\in \\left[ 1, \\, 2 \\right], \\quad y \\left( 1 \\right) = 0, \\quad y \\left( 2 \\right) = 24.\n",
    "$$\n",
    "\n",
    "using the shooting method with a partition of size $ N = 10 $ and print the vector of solution.\n",
    "\n",
    "**[0.25 points]:** Plot the solution obtained by the shooting method as well as the analytical solution\n",
    "\n",
    "$$\n",
    "y \\left( x \\right) = 2 \\left( x^4 - x^2 \\right)\n",
    "$$\n",
    "    \n",
    "in the interval $ x \\in [1, \\, 2] $."
   ]
  },
  {
   "cell_type": "code",
   "execution_count": null,
   "metadata": {},
   "outputs": [],
   "source": [
    "\n",
    "# add your code here\n"
   ]
  }
 ],
 "metadata": {
  "kernelspec": {
   "display_name": "Python 3",
   "language": "python",
   "name": "python3"
  },
  "language_info": {
   "codemirror_mode": {
    "name": "ipython",
    "version": 3
   },
   "file_extension": ".py",
   "mimetype": "text/x-python",
   "name": "python",
   "nbconvert_exporter": "python",
   "pygments_lexer": "ipython3",
   "version": "3.8.5"
  }
 },
 "nbformat": 4,
 "nbformat_minor": 4
}
