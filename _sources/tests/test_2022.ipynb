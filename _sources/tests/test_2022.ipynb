{
 "cells": [
  {
   "cell_type": "markdown",
   "metadata": {
    "deletable": false,
    "editable": false
   },
   "source": [
    "# 12NME1 - Numerical methods \n",
    "\n",
    "### Assessment test 2022\n",
    "\n",
    "You may gain maximum of 2 points. To obtain the assessment, it is neccessary to gain at least 1 point.  \n",
    "Fill your solution to this notebook and send it to petr.valenta@email.com no later than 13/05/2022 9:00 CEST."
   ]
  },
  {
   "cell_type": "code",
   "execution_count": null,
   "metadata": {
    "deletable": false,
    "editable": false
   },
   "outputs": [],
   "source": [
    "import numpy as np\n",
    "import scipy.linalg as la\n",
    "import matplotlib.pyplot as plt"
   ]
  },
  {
   "cell_type": "markdown",
   "metadata": {
    "deletable": false,
    "editable": false
   },
   "source": [
    "**Task 1:** Fit the following data \n",
    "\n",
    "|  $ i $  |   1  |   2  |   3  |   4  |   5   |    6  |    7  |    8  |    9  |   10  |  11  |  12  |  13  |  14  |  15  |\n",
    "|---------|------|------|------|------|-------|-------|-------|-------|-------|-------|------|------|------|------|------|\n",
    "| $ x_i $ | 0.00 | 0.45 | 0.90 | 1.35 |  1.79 |  2.24 |  2.69 |  3.14 |  3.59 |  4.04 | 4.49 | 4.93 | 5.38 | 5.83 | 6.28 |\n",
    "| $ y_i $ | 2.74 | 1.70 | 1.57 | 0.04 | -1.30 | -0.70 | -1.36 | -0.78 | -0.50 | -0.31 | 1.63 | 2.74 | 2.78 | 3.77 | 1.39 |\n",
    "\n",
    "using the [least squares method](https://en.wikipedia.org/wiki/Least_squares) with the model function defined as\n",
    "\n",
    "$$\n",
    "f \\left( x; \\beta \\right) = \\beta_0 + \\beta_1 \\sin \\left[ \\frac{2 \\pi \\left( x - x_{\\mathrm{min}} \\right)}{x_{\\mathrm{max}} - x_{\\mathrm{min}}} \\right] + \\beta_2 \\cos \\left[ \\frac{2 \\pi \\left( x - x_{\\mathrm{min}} \\right)}{x_{\\mathrm{max}} - x_{\\mathrm{min}}} \\right],\n",
    "$$\n",
    "\n",
    "where $ \\beta = \\left[ \\beta_0, \\, \\beta_1, \\, \\beta_2 \\right] $ is the vector of adjustable parameters and $ x_{\\mathrm{min}} $ and $ x_{\\mathrm{max}} $ are the minimum and maximum values of $ x $, respectively.\n",
    "\n",
    "**[0.75 points]** Print the values of $ \\beta_0 $, $ \\beta_1 $, and $ \\beta_2 $.  \n",
    "**[0.25 points]** Plot the datapoints $ \\left( x_i, y_i \\right) $ as well as the calculated fitting function $ f \\left( x; \\beta \\right) $ in the interval $ \\left[ x_{\\mathrm{min}}, \\, x_{\\mathrm{max}} \\right] $."
   ]
  },
  {
   "cell_type": "code",
   "execution_count": null,
   "metadata": {},
   "outputs": [],
   "source": [
    "x_p = np.array([0.00, 0.45, 0.90, 1.35, 1.79, 2.24, 2.69, 3.14, 3.59, 4.04, 4.49, 4.93, 5.38, 5.83, 6.28])\n",
    "y_p = np.array([2.74, 1.70, 1.57, 0.04, -1.30, -0.70, -1.36, -0.78, -0.50, -0.31, 1.63, 2.74, 2.78, 3.77, 1.39])"
   ]
  },
  {
   "cell_type": "code",
   "execution_count": null,
   "metadata": {},
   "outputs": [],
   "source": [
    "def least_squares(x, y):\n",
    "    \n",
    "    # add your code here\n",
    "    \n",
    "    return lambda x: beta[0] + beta[1] * np.sin((2.0 * np.pi * (x - np.min(x)) / (np.max(x) - np.min(x)))) \\\n",
    "        + beta[2] * np.cos(2.0 * np.pi * (x - np.min(x)) / (np.max(x) - np.min(x)))"
   ]
  },
  {
   "cell_type": "markdown",
   "metadata": {
    "deletable": false,
    "editable": false
   },
   "source": [
    "**Task 2:** Solve the following ordinary differential equation\n",
    "\n",
    "$$\n",
    "y^{\\ \\prime \\prime} \\! \\left( x \\right) = \\frac{1}{2 \\, \\left[ 1 + y \\left( x \\right) \\right]^{\\, 2}} - \\frac{1}{2} $$\n",
    "\n",
    "with the initial conditions $ y \\left( 0 \\right) = 2 $ and $ y^{\\ \\prime} \\! \\left( 0 \\right) = 0 $ in the interval $ x \\in \\left[ 0, \\ 25 \\right] $ using the [$ 4^{\\mathrm{th}} $ order Runge-Kutta method](https://en.wikipedia.org/wiki/List_of_Runge%E2%80%93Kutta_methods#Classic_fourth-order_method) with the finite step of size $ h = 0.1 $. \n",
    "\n",
    "**[0.75 points]** Print the values of $ y \\left( 25 \\right) $ and $ y^{\\ \\prime} \\! \\left( 25 \\right) $.  \n",
    "**[0.25 points]** Plot $ y \\left( x \\right) $, $ y^{\\ \\prime} \\! \\left( x \\right) $, and $ y^{\\ \\prime \\prime} \\! \\left( x \\right) $ in the interval $ x \\in \\left[ 0, \\ 25 \\right] $."
   ]
  },
  {
   "cell_type": "code",
   "execution_count": null,
   "metadata": {},
   "outputs": [],
   "source": [
    "def runge_kutta_4(f, g, x_0, x_n, y_0, z_0, h):\n",
    "\n",
    "    # add your code here\n",
    "    \n",
    "    return x, y, z"
   ]
  }
 ],
 "metadata": {
  "kernelspec": {
   "display_name": "Python 3",
   "language": "python",
   "name": "python3"
  },
  "language_info": {
   "codemirror_mode": {
    "name": "ipython",
    "version": 3
   },
   "file_extension": ".py",
   "mimetype": "text/x-python",
   "name": "python",
   "nbconvert_exporter": "python",
   "pygments_lexer": "ipython3",
   "version": "3.6.3"
  }
 },
 "nbformat": 4,
 "nbformat_minor": 2
}
