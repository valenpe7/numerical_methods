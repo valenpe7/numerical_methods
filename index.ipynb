{
 "cells": [
  {
   "cell_type": "markdown",
   "metadata": {
    "deletable": false,
    "editable": false
   },
   "source": [
    "## 12NME - Numerical Methods\n",
    "\n",
    "### Contents:\n",
    "\n",
    "#### 1. [Introduction](lectures/01-introduction.ipynb)\n",
    "#### 2. [Error Analysis](lectures/02-error_analysis.ipynb)\n",
    "#### 3. [Linear Algebra](lectures/03-linear_algebra.ipynb)\n",
    "#### 4. [Linear Algebra - cont'd](lectures/04-linear_algebra_contd.ipynb)\n",
    "#### 5. [Interpolation](lectures/05-interpolation.ipynb)\n",
    "#### 6. [Data Sorting](lectures/06-data_sorting.ipynb)\n",
    "#### 7. [Non-linear Equations](lectures/07-nonlinear_equations.ipynb)\n",
    "#### 8. [Optimization](lectures/08-optimization.ipynb)\n",
    "#### 9. [Quadrature](lectures/09-quadrature.ipynb)\n",
    "#### 10. [Initial Value Problems](lectures/10-initial_value_problems.ipynb)\n",
    "#### 11. [Boundary Value Problems](lectures/11-boundary_value_problems.ipynb)"
   ]
  }
 ],
 "metadata": {
  "celltoolbar": "Edit Metadata",
  "kernelspec": {
   "display_name": "Python 3",
   "language": "python",
   "name": "python3"
  },
  "language_info": {
   "codemirror_mode": {
    "name": "ipython",
    "version": 3
   },
   "file_extension": ".py",
   "mimetype": "text/x-python",
   "name": "python",
   "nbconvert_exporter": "python",
   "pygments_lexer": "ipython3",
   "version": "3.6.3"
  }
 },
 "nbformat": 4,
 "nbformat_minor": 2
}
