{
 "cells": [
  {
   "cell_type": "markdown",
   "metadata": {
    "deletable": false,
    "editable": false
   },
   "source": [
    "## 12NME - Numerical Methods\n",
    "\n",
    "### Contents:\n",
    "\n",
    "#### 1. [Introduction](lectures/01-introduction.ipynb)\n",
    "#### 2. [Error Analysis](lectures/02-error_analysis.ipynb)\n",
    "#### 3. [Linear Algebra](lectures/03-linear_algebra.ipynb)\n",
    "#### 4. [Interpolation](lectures/04-interpolation.ipynb)\n",
    "#### 5. [Data Sorting](lectures/05-data_sorting.ipynb)\n",
    "#### 6. [Non-linear Equations](lectures/06-nonlinear_equations.ipynb)\n",
    "#### 7. [Optimization](lectures/07-optimization.ipynb)\n",
    "#### 8. [Quadrature](lectures/08-quadrature.ipynb)\n",
    "#### 9. [Initial Value Problems](lectures/09-initial_value_problems.ipynb)\n",
    "#### 10. [Boundary Value Problems](lectures/10-boundary_value_problems.ipynb)"
   ]
  }
 ],
 "metadata": {
  "kernelspec": {
   "display_name": "Python 3",
   "language": "python",
   "name": "python3"
  },
  "language_info": {
   "codemirror_mode": {
    "name": "ipython",
    "version": 3
   },
   "file_extension": ".py",
   "mimetype": "text/x-python",
   "name": "python",
   "nbconvert_exporter": "python",
   "pygments_lexer": "ipython3",
   "version": "3.6.3"
  }
 },
 "nbformat": 4,
 "nbformat_minor": 2
}
