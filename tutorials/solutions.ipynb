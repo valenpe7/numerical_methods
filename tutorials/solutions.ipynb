{
 "cells": [
  {
   "cell_type": "markdown",
   "metadata": {},
   "source": [
    "# Solutions"
   ]
  },
  {
   "cell_type": "code",
   "execution_count": 1,
   "metadata": {},
   "outputs": [],
   "source": [
    "import numpy as np\n",
    "import matplotlib.pyplot as plt\n",
    "from scipy import linalg"
   ]
  },
  {
   "cell_type": "markdown",
   "metadata": {},
   "source": [
    "**Exercise 02.1:**"
   ]
  },
  {
   "cell_type": "code",
   "execution_count": 2,
   "metadata": {},
   "outputs": [
    {
     "name": "stdout",
     "output_type": "stream",
     "text": [
      "541\n",
      "0.01 9.9\n",
      "0.10000000000000009\n"
     ]
    },
    {
     "data": {
      "image/png": "[encoded data removed]",
      "text/plain": [
       "<Figure size 720x144 with 1 Axes>"
      ]
     },
     "metadata": {
      "needs_background": "light"
     },
     "output_type": "display_data"
    }
   ],
   "source": [
    "# 1.\n",
    "\n",
    "print(2 * 9 * 10 * 3 + 1)\n",
    "\n",
    "# 2.\n",
    "\n",
    "print(1.0e-2, 9.9e0)\n",
    "\n",
    "# 3.\n",
    "\n",
    "print(1.1e0 - 1.0e0)\n",
    "\n",
    "# 4.\n",
    "\n",
    "d_1_vals = [1, 2, 3, 4, 5, 6, 7, 8, 9]\n",
    "d_2_vals = [0, 1, 2, 3, 4, 5, 6, 7, 8, 9]\n",
    "E_vals = [0, -1, -2]\n",
    "\n",
    "fig, ax = plt.subplots(figsize=(10, 2))\n",
    "ax.axhline(0, color=\"black\")\n",
    "\n",
    "for E in E_vals:\n",
    "    for d1 in d_1_vals:\n",
    "        for d2 in d_2_vals:\n",
    "            ax.plot(-(d1 + d2 * 0.1) * 10**E, 0.0, color=\"red\", marker=\"+\", markersize=20)\n",
    "            ax.plot(+(d1 + d2 * 0.1) * 10**E, 0.0, color=\"red\", marker=\"+\", markersize=20)\n",
    "\n",
    "ax.plot(0.0, 0.0, color=\"red\", marker=\"+\", markersize=20)\n",
    "\n",
    "ax.set_yticks([])\n",
    "ax.set_xlabel(\"x\")\n",
    "ax.set_xlim([-11, 11])\n",
    "plt.show()"
   ]
  },
  {
   "cell_type": "markdown",
   "metadata": {},
   "source": [
    "**Exercise 02.2:**"
   ]
  },
  {
   "cell_type": "code",
   "execution_count": 3,
   "metadata": {},
   "outputs": [
    {
     "name": "stdout",
     "output_type": "stream",
     "text": [
      "13\n",
      "0.5 3.0\n",
      "0.5\n"
     ]
    },
    {
     "data": {
      "image/png": "[encoded data removed]",
      "text/plain": [
       "<Figure size 720x144 with 1 Axes>"
      ]
     },
     "metadata": {
      "needs_background": "light"
     },
     "output_type": "display_data"
    }
   ],
   "source": [
    "# 1.\n",
    "\n",
    "print(2 * 1 * 2 * 3 + 1)\n",
    "\n",
    "# 2.\n",
    "\n",
    "print((1.0 * 1.0 + 0.0 * 0.5) * 2.0**(-1), (1.0 * 1.0 + 1.0 * 0.5) * 2.0**1)\n",
    "\n",
    "# 3.\n",
    "\n",
    "print((1.0 * 1.0 + 1.0 * 0.5) * 2.0**0 - (1.0 * 1.0 + 0.0 * 0.5) * 2.0**0)\n",
    "\n",
    "# 4.\n",
    "\n",
    "d_1_vals = [1]\n",
    "d_2_vals = [0, 1]\n",
    "E_vals = [1, 0, -1]\n",
    "\n",
    "fig, ax = plt.subplots(figsize=(10, 2))\n",
    "ax.axhline(0, color=\"black\")\n",
    "\n",
    "for E in E_vals:\n",
    "    for d1 in d_1_vals:\n",
    "        for d2 in d_2_vals:\n",
    "            ax.plot(-(d1 + d2 * 0.5) * 2**E, 0.0, color=\"red\", marker=\"+\", markersize=20)\n",
    "            ax.plot(+(d1 + d2 * 0.5) * 2**E, 0.0, color=\"red\", marker=\"+\", markersize=20)\n",
    "            \n",
    "ax.plot(0.0, 0.0, color=\"red\", marker=\"+\", markersize=20)\n",
    "\n",
    "ax.set_yticks([])\n",
    "ax.set_xlabel(\"x\")\n",
    "ax.set_xlim([-5, 5])\n",
    "plt.show()"
   ]
  },
  {
   "cell_type": "markdown",
   "metadata": {},
   "source": [
    "**Exercise 02.3:**"
   ]
  },
  {
   "cell_type": "code",
   "execution_count": 4,
   "metadata": {},
   "outputs": [
    {
     "name": "stdout",
     "output_type": "stream",
     "text": [
      "70368744177664.0\n"
     ]
    }
   ],
   "source": [
    "x = 0.1 + 0.2 - 0.3\n",
    "\n",
    "for i in range(100):\n",
    "    x = x + x\n",
    "    \n",
    "print(x)"
   ]
  },
  {
   "cell_type": "markdown",
   "metadata": {},
   "source": [
    "**Exercise 02.4:**"
   ]
  },
  {
   "cell_type": "code",
   "execution_count": 5,
   "metadata": {},
   "outputs": [
    {
     "data": {
      "image/png": "[encoded data removed]",
      "text/plain": [
       "<Figure size 576x216 with 2 Axes>"
      ]
     },
     "metadata": {
      "needs_background": "light"
     },
     "output_type": "display_data"
    }
   ],
   "source": [
    "def function(x):\n",
    "    return (1.0 - np.cos(x)) / x**2\n",
    "\n",
    "def relative_error(x):\n",
    "    return np.abs(0.5 - function(x)) / 0.5\n",
    "\n",
    "x = np.linspace(-1.0e-7, 1.0e-7, 1000)\n",
    "\n",
    "fig, ax = plt.subplots(1, 2, figsize=(8, 3))\n",
    "ax[0].plot(x, function(x))\n",
    "ax[0].set_xlabel(\"x\")\n",
    "ax[0].set_ylabel(\"f (x)\")\n",
    "ax[1].plot(x, relative_error(x))\n",
    "ax[1].set_xlabel(\"x\")\n",
    "ax[1].set_ylabel(\"relative error (x)\")\n",
    "fig.tight_layout()\n",
    "plt.show()"
   ]
  },
  {
   "cell_type": "markdown",
   "metadata": {},
   "source": [
    "**Exercise 02.5:**"
   ]
  },
  {
   "cell_type": "code",
   "execution_count": 6,
   "metadata": {},
   "outputs": [
    {
     "name": "stdout",
     "output_type": "stream",
     "text": [
      "9.999999999999993 10.000000000000004\n"
     ]
    }
   ],
   "source": [
    "array = [0.9**n for n in range(0, 400)]\n",
    "\n",
    "s_1 = 0.0\n",
    "for x in array:\n",
    "    s_1 += x\n",
    "\n",
    "s_2 = 0.0\n",
    "for x in array[::-1]:\n",
    "    s_2 += x\n",
    "    \n",
    "print(s_1, s_2)"
   ]
  },
  {
   "cell_type": "markdown",
   "metadata": {},
   "source": [
    "**Exercise 02.6:**"
   ]
  },
  {
   "cell_type": "code",
   "execution_count": 7,
   "metadata": {},
   "outputs": [
    {
     "data": {
      "image/png": "[encoded data removed]",
      "text/plain": [
       "<Figure size 432x288 with 1 Axes>"
      ]
     },
     "metadata": {
      "needs_background": "light"
     },
     "output_type": "display_data"
    },
    {
     "data": {
      "image/png": "[encoded data removed]",
      "text/plain": [
       "<Figure size 432x288 with 1 Axes>"
      ]
     },
     "metadata": {
      "needs_background": "light"
     },
     "output_type": "display_data"
    }
   ],
   "source": [
    "# 1.\n",
    "\n",
    "x = np.linspace(-1, 1, 100)\n",
    "\n",
    "def exp_taylor(x):\n",
    "    return 1.0 + x + x**2 / 2.0\n",
    "\n",
    "fig, ax = plt.subplots()\n",
    "ax.plot(x, np.exp(x), color=\"black\", linestyle=\"--\")\n",
    "ax.plot(x, exp_taylor(x), color=\"red\")\n",
    "plt.show()\n",
    "\n",
    "# 2.\n",
    "\n",
    "def absolute_error(x):\n",
    "    return np.abs(np.exp(x) - exp_taylor(x))\n",
    "\n",
    "def relative_error(x):\n",
    "    return np.abs(np.exp(x) - exp_taylor(x)) / np.exp(x)\n",
    "\n",
    "fig, ax = plt.subplots()\n",
    "ax.plot(x, absolute_error(x), color=\"blue\")\n",
    "ax.plot(x, relative_error(x), color=\"red\")\n",
    "plt.show()"
   ]
  },
  {
   "cell_type": "markdown",
   "metadata": {},
   "source": [
    "**Exercise 02.7:**"
   ]
  },
  {
   "cell_type": "code",
   "execution_count": 8,
   "metadata": {},
   "outputs": [
    {
     "data": {
      "image/png": "[encoded data removed]",
      "text/plain": [
       "<Figure size 432x288 with 1 Axes>"
      ]
     },
     "metadata": {
      "needs_background": "light"
     },
     "output_type": "display_data"
    },
    {
     "data": {
      "image/png": "[encoded data removed]",
      "text/plain": [
       "<Figure size 432x288 with 1 Axes>"
      ]
     },
     "metadata": {
      "needs_background": "light"
     },
     "output_type": "display_data"
    }
   ],
   "source": [
    "# 1.\n",
    "\n",
    "def forward_diff(f, x, h):\n",
    "    return (f(x + h) - f(x)) / h\n",
    "\n",
    "def central_diff(f, x, h):\n",
    "    return (f(x + h) - f(x - h)) / (2.0 * h)\n",
    "\n",
    "x = np.linspace(-2.0 * np.pi, 2.0 * np.pi, 1000)\n",
    "h = 0.5\n",
    "\n",
    "fig, ax = plt.subplots()\n",
    "ax.plot(x, forward_diff(np.sin, x, h), color=\"red\")\n",
    "ax.plot(x, central_diff(np.sin, x, h), color=\"blue\")\n",
    "ax.plot(x, np.cos(x), color=\"black\", linestyle='--')\n",
    "plt.show()\n",
    "\n",
    "# 2.\n",
    "\n",
    "def forward_error(f, x, h, exact_value):\n",
    "    return np.abs(forward_diff(f, x, h) - exact_value) / np.abs(exact_value)\n",
    "\n",
    "def central_error(f, x, h, exact_value):\n",
    "    return np.abs(central_diff(f, x, h) - exact_value) / np.abs(exact_value)\n",
    "\n",
    "x = 1.0\n",
    "h = np.array([2.0**(-n) for n in range(1, 60)]);\n",
    "\n",
    "fig, ax = plt.subplots()\n",
    "ax.loglog(h, forward_error(np.sin, x, h, np.cos(x)), color=\"red\")\n",
    "ax.loglog(h, central_error(np.sin, x, h, np.cos(x)), color=\"blue\")\n",
    "plt.show()"
   ]
  },
  {
   "cell_type": "markdown",
   "metadata": {},
   "source": [
    "**Exercise 02.8:**"
   ]
  },
  {
   "cell_type": "code",
   "execution_count": 9,
   "metadata": {},
   "outputs": [
    {
     "data": {
      "image/png": "[encoded data removed]",
      "text/plain": [
       "<Figure size 576x216 with 2 Axes>"
      ]
     },
     "metadata": {
      "needs_background": "light"
     },
     "output_type": "display_data"
    }
   ],
   "source": [
    "h = 0.1\n",
    "x = np.arange(0, 10, h)\n",
    "y_1 = np.zeros(x.size)\n",
    "y_2 = np.zeros(x.size)\n",
    "\n",
    "y_1[0] = 1.0\n",
    "for i in range(x.size - 1):\n",
    "    y_1[i+1] = y_1[i] - y_1[i] * h\n",
    "\n",
    "y_2[0] = 1.0\n",
    "for i in range(x.size - 1):\n",
    "    y_2[i+1] = y_2[i-1] - y_2[i] * 2.0 * h\n",
    "\n",
    "fig, ax = plt.subplots(1, 2, figsize=(8, 3))\n",
    "ax[0].plot(x, y_1, color=\"red\")\n",
    "ax[0].plot(x, np.exp(-x), color=\"black\", linestyle=\"--\")\n",
    "ax[1].plot(x, y_2, color=\"blue\")\n",
    "ax[1].plot(x, np.exp(-x), color=\"black\", linestyle=\"--\")\n",
    "fig.tight_layout()\n",
    "plt.show()"
   ]
  },
  {
   "cell_type": "markdown",
   "metadata": {},
   "source": [
    "**Exercise 02.9:**"
   ]
  },
  {
   "cell_type": "code",
   "execution_count": 10,
   "metadata": {},
   "outputs": [
    {
     "data": {
      "image/png": "[encoded data removed]",
      "text/plain": [
       "<Figure size 432x288 with 1 Axes>"
      ]
     },
     "metadata": {
      "needs_background": "light"
     },
     "output_type": "display_data"
    }
   ],
   "source": [
    "phi = np.zeros(20, dtype=np.float16)\n",
    "phi[0] = 1.0\n",
    "phi[1] = (np.sqrt(5.0) - 1.0) / 2.0\n",
    "for n in range(1, 19):\n",
    "    phi[n+1] = phi[n-1] - phi[n]\n",
    "    \n",
    "phi_exact = np.zeros(20, dtype=np.float16)\n",
    "phi_exact[0] = 1.0\n",
    "phi_exact[1] = (np.sqrt(5.0) - 1.0) / 2.0\n",
    "for n in range(1, 19):\n",
    "    phi_exact[n+1] = phi_exact[n] * phi_exact[1]\n",
    "    \n",
    "fig, ax = plt.subplots()\n",
    "ax.plot(phi, linestyle=\"-\", color=\"red\")\n",
    "ax.plot(phi_exact, linestyle=\"--\", color=\"black\")\n",
    "plt.show()"
   ]
  },
  {
   "cell_type": "markdown",
   "metadata": {},
   "source": [
    "**Exercise 02.10:**"
   ]
  },
  {
   "cell_type": "code",
   "execution_count": 11,
   "metadata": {},
   "outputs": [
    {
     "data": {
      "image/png": "[encoded data removed]",
      "text/plain": [
       "<Figure size 432x288 with 1 Axes>"
      ]
     },
     "metadata": {
      "needs_background": "light"
     },
     "output_type": "display_data"
    }
   ],
   "source": [
    "alpha = np.linspace(-2, 2, 1000)\n",
    "C_p = 2.0 * alpha**2 / np.abs(1 - alpha**2)\n",
    "\n",
    "fig, ax = plt.subplots()\n",
    "ax.plot(alpha, C_p)\n",
    "plt.show()"
   ]
  },
  {
   "cell_type": "markdown",
   "metadata": {},
   "source": [
    "**Exercise 03.1:**"
   ]
  },
  {
   "cell_type": "code",
   "execution_count": 12,
   "metadata": {},
   "outputs": [],
   "source": [
    "def scalar_product(x, y):\n",
    "    \"\"\"\n",
    "    Calculates scalar product of two vectors.\n",
    "    Args:\n",
    "        x (array_like): Vector of size n\n",
    "        y (array_like): Vector of size n\n",
    "    Returns:\n",
    "        numpy.float: Scalar product of x and y\n",
    "    \"\"\"\n",
    "    n = x.size\n",
    "    z = 0.0\n",
    "    for i in range(n):\n",
    "        z = z + x[i] * y[i]\n",
    "    return z"
   ]
  },
  {
   "cell_type": "markdown",
   "metadata": {},
   "source": [
    "**Exercise 03.2:**"
   ]
  },
  {
   "cell_type": "code",
   "execution_count": 13,
   "metadata": {},
   "outputs": [],
   "source": [
    "def matrix_vector_product(A, x):\n",
    "    \"\"\"\n",
    "    Calculates matrix-vector product.\n",
    "    Args:\n",
    "        A (array_like): A m-by-n matrix\n",
    "        x (array_like): Vector of size n\n",
    "    Returns:\n",
    "        numpy.ndarray: Matrix-vector product\n",
    "    \"\"\"\n",
    "    m, n = A.shape\n",
    "    b = np.zeros(m)\n",
    "    for i in range(m):\n",
    "        for j in range(n):\n",
    "            b[i] = b[i] + A[i, j] * x[j]\n",
    "    return b"
   ]
  },
  {
   "cell_type": "markdown",
   "metadata": {},
   "source": [
    "**Exercise 03.3:**"
   ]
  },
  {
   "cell_type": "code",
   "execution_count": 14,
   "metadata": {},
   "outputs": [],
   "source": [
    "def matrix_matrix_product(A, B):\n",
    "    \"\"\"\n",
    "    Calculates matrix-matrix product.\n",
    "    Args:\n",
    "        A (array_like): A m-by-n matrix\n",
    "        B (array_like): A n-by-p matrix\n",
    "    Returns:\n",
    "        numpy.ndarray: Matrix-matrix product\n",
    "    \"\"\"\n",
    "    m, n = A.shape\n",
    "    n, p = B.shape\n",
    "    C = np.zeros((m, p))\n",
    "    for i in range(m):\n",
    "        for j in range(p):\n",
    "            for k in range(n):\n",
    "                C[i, j] = C[i, j] + A[i, k] * B[k, j]\n",
    "    return C"
   ]
  },
  {
   "cell_type": "markdown",
   "metadata": {},
   "source": [
    "**Exercise 03.4:**"
   ]
  },
  {
   "cell_type": "code",
   "execution_count": 15,
   "metadata": {},
   "outputs": [],
   "source": [
    "def forward_substitution(A, b):\n",
    "    \"\"\"\n",
    "    Solves a system of linear equations with lower triangular matrix.\n",
    "    Args:\n",
    "        A (array_like): A n-by-n lower triangular matrix\n",
    "        b (array_like): RHS vector of size n\n",
    "    Returns:\n",
    "        numpy.ndarray: Vector of solution\n",
    "    \"\"\"\n",
    "    n, n = A.shape\n",
    "    x = np.zeros(n)\n",
    "    for i in range(n):\n",
    "        x[i] = 1.0 / A[i, i] * (b[i] - A[i, :] @ x)\n",
    "    return x"
   ]
  },
  {
   "cell_type": "markdown",
   "metadata": {},
   "source": [
    "**Exercise 03.5:**"
   ]
  },
  {
   "cell_type": "code",
   "execution_count": 16,
   "metadata": {},
   "outputs": [],
   "source": [
    "def backward_substitution(A, b):\n",
    "    \"\"\"\n",
    "    Solves a system of linear equation with upper triangular matrix.\n",
    "    Args:\n",
    "        A (array_like): A n-by-n upper triangular matrix\n",
    "        b (array_like): RHS vector of size n\n",
    "    Returns:\n",
    "        numpy.ndarray: Vector of solution\n",
    "    \"\"\"\n",
    "    n, n = A.shape\n",
    "    x = np.zeros(n)\n",
    "    for i in reversed(range(n)):\n",
    "            x[i] = 1.0 / A[i, i] * (b[i] - A[i, :] @ x)\n",
    "    return x"
   ]
  },
  {
   "cell_type": "markdown",
   "metadata": {},
   "source": [
    "**Exercise 03.6:**"
   ]
  },
  {
   "cell_type": "code",
   "execution_count": 17,
   "metadata": {},
   "outputs": [],
   "source": [
    "def gaussian_elimination(A):\n",
    "    \"\"\"\n",
    "    Transforms given matrix into an upper triangular form using the Gaussian elimination algorithm.\n",
    "    Args:\n",
    "        A (array_like): A n-by-n matrix\n",
    "    Returns:\n",
    "        numpy.ndarray: Upper triangular matrix\n",
    "    \"\"\"\n",
    "    n, n = A.shape\n",
    "    U = np.copy(A)\n",
    "    for i in range(n):    \n",
    "        for j in range(i + 1, n):\n",
    "            for k in range(n):\n",
    "                U[j, k] = U[j, k] - (U[j, i] / U[i, i]) * U[i, k]      \n",
    "    return U"
   ]
  },
  {
   "cell_type": "markdown",
   "metadata": {},
   "source": [
    "**Exercise 03.7:**"
   ]
  },
  {
   "cell_type": "code",
   "execution_count": 18,
   "metadata": {},
   "outputs": [],
   "source": [
    "def gaussian_elimination_with_pivoting(A):\n",
    "    \"\"\"\n",
    "    Transforms given matrix into an upper triangular form using the Gaussian elimination algorithm with pivoting.\n",
    "    Args:\n",
    "        A (array_like): A n-by-n matrix\n",
    "    Returns:\n",
    "        numpy.ndarray: Upper triangular matrix\n",
    "    \"\"\"\n",
    "    n, n = A.shape\n",
    "    U = np.copy(A)\n",
    "    for i in range(n):\n",
    "        max_row = np.argmax(np.abs(U[i:, i]))\n",
    "        if (max_row != 0):\n",
    "            row_i = np.copy(U[i, :])\n",
    "            U[i, :] = U[i + max_row, :]\n",
    "            U[i + max_row, :] = row_i   \n",
    "        for j in range(i + 1, n):\n",
    "            U[j, :] = U[j, :] - (U[j, i] / U[i, i]) * U[i, :]      \n",
    "    return U"
   ]
  },
  {
   "cell_type": "markdown",
   "metadata": {},
   "source": [
    "**Exercise 03.8:**"
   ]
  },
  {
   "cell_type": "code",
   "execution_count": 19,
   "metadata": {},
   "outputs": [],
   "source": [
    "def gaussian_elimination_with_pivoting_vector(A, b):\n",
    "    \"\"\"\n",
    "    Transforms given matrix into an upper triangular form using the Gaussian elimination algorithm with pivoting, \n",
    "    performs identical operations on RHS vector.\n",
    "    Args:\n",
    "        A (array_like): A n-by-n regular matrix\n",
    "        b (array_like): RHS vector of size n\n",
    "    Returns:\n",
    "        numpy.ndarray: Upper triangular matrix\n",
    "        numpy.ndarray: RHS vector corresponding to upper triangular matrix\n",
    "    \"\"\"\n",
    "    n, n = A.shape\n",
    "    U = np.zeros((n, n + 1))\n",
    "    U[:, :-1] = A\n",
    "    U[:, -1] = b\n",
    "    for i in range(0, n):  \n",
    "        max_row = np.argmax(np.abs(U[i:, i]))\n",
    "        if (max_row != 0):\n",
    "            row_i = np.copy(U[i, :])\n",
    "            U[i, :] = U[i + max_row, :]\n",
    "            U[i + max_row, :] = row_i            \n",
    "        for j in range(i + 1, n):\n",
    "            U[j, :] = U[j, :] - (U[j, i] / U[i, i]) * U[i, :]      \n",
    "    return U[:, :-1], U[:, -1]"
   ]
  },
  {
   "cell_type": "markdown",
   "metadata": {},
   "source": [
    "**Exercise 03.9:**"
   ]
  },
  {
   "cell_type": "code",
   "execution_count": 20,
   "metadata": {},
   "outputs": [],
   "source": [
    "def lu_decomposition(A):\n",
    "    \"\"\"\n",
    "    Factors given matrix as the product of a lower and an upper triangular matrix using LU decomposition.\n",
    "    Args:\n",
    "        A (array_like): A n-by-n matrix\n",
    "    Returns:\n",
    "        numpy.ndarray: Lower triangular matrix\n",
    "        numpy.ndarray: Upper triangular matrix\n",
    "    \"\"\"\n",
    "    n, n = A.shape\n",
    "    L = np.zeros((n, n))\n",
    "    U = np.zeros((n, n))\n",
    "    for i in range(n):\n",
    "        for j in range(i, n):\n",
    "            U[i, j] = A[i, j] - L[i, :] @ U[:, j]\n",
    "            L[j, i] = 1.0 / U[i, i] * (A[j, i] - L[j, :] @ U[:, i])\n",
    "    return L, U"
   ]
  },
  {
   "cell_type": "markdown",
   "metadata": {},
   "source": [
    "**Exercise 03.10:**"
   ]
  },
  {
   "cell_type": "code",
   "execution_count": 21,
   "metadata": {},
   "outputs": [],
   "source": [
    "def thomas_algorithm(A, b):\n",
    "    \"\"\"\n",
    "    Solves system of linear equations with a tridiagonal matrix using Thomas algorithm.\n",
    "    Args:\n",
    "        A (array_like): A n-by-n regular matrix\n",
    "        b (array_like): RHS vector of size n\n",
    "    Returns:\n",
    "        numpy.ndarray: Vector of solution\n",
    "    \"\"\"\n",
    "    n, n = A.shape\n",
    "    p = np.diag(A, 1)\n",
    "    q = np.diag(A, 0)\n",
    "    r = np.diag(A, -1)\n",
    "    p = np.insert(p, n - 1, 0.0) \n",
    "    r = np.insert(r, 0, 0.0)\n",
    "    x = np.zeros(n)\n",
    "    mu  = np.zeros(n)\n",
    "    rho = np.zeros(n)\n",
    "    mu[0] = -p[0] / q[0]\n",
    "    rho[0] = b[0] / q[0]\n",
    "    for i in range(1, n):\n",
    "        mu[i] = -p[i] / (r[i] * mu[i - 1] + q[i])\n",
    "        rho[i] = (b[i] - r[i] * rho[i - 1]) / (r[i] * mu[i - 1] + q[i])\n",
    "    x[n-1] = rho[n-1]\n",
    "    for i in reversed(range(n - 1)):\n",
    "        x[i] = mu[i] * x[i+1] + rho[i]\n",
    "    return x"
   ]
  },
  {
   "cell_type": "markdown",
   "metadata": {},
   "source": [
    "**Exercise 04.1:**"
   ]
  },
  {
   "cell_type": "code",
   "execution_count": 22,
   "metadata": {},
   "outputs": [],
   "source": [
    "def jacobi_method(A, b, error_tolerance):\n",
    "    \"\"\"\n",
    "    Solves system of linear equations iteratively using Jacobi's algorithm.\n",
    "    Args:\n",
    "        A (array_like): A n-by-n diagonally dominant matrix\n",
    "        b (array_like): RHS vector of size n\n",
    "        error_tolerance (float): Error tolerance\n",
    "    Returns:\n",
    "        numpy.ndarray: Vector of solution\n",
    "    \"\"\"\n",
    "    n, n = A.shape\n",
    "    x = np.zeros(n)\n",
    "    x_new = np.zeros(n)\n",
    "    k = 0\n",
    "    while linalg.norm(np.dot(A, x) - b) > error_tolerance:\n",
    "        for i in range(n):\n",
    "            x_new[i] = (1.0 / A[i, i]) * (b[i] \n",
    "                - np.dot(A[i, :i], x[:i]) - np.dot(A[i, i+1:], x[i+1:]))           \n",
    "        x = x_new \n",
    "        k = k + 1\n",
    "    print(k)\n",
    "    return x"
   ]
  },
  {
   "cell_type": "markdown",
   "metadata": {},
   "source": [
    "**Exercise 04.2:**"
   ]
  },
  {
   "cell_type": "code",
   "execution_count": 23,
   "metadata": {},
   "outputs": [],
   "source": [
    "def gauss_seidel_method(A, b, error_tolerance):\n",
    "    \"\"\"\n",
    "    Solves system of linear equations iteratively using Gauss-Seidel's algorithm.\n",
    "    Args:\n",
    "        A (array_like): A n-by-n diagonally dominant matrix\n",
    "        b (array_like): RHS vector of size n\n",
    "        error_tolerance (float): Error tolerance\n",
    "    Returns:\n",
    "        numpy.ndarray: Vector of solution\n",
    "    \"\"\"\n",
    "    n, n = A.shape\n",
    "    x = np.zeros(n)\n",
    "    k = 0\n",
    "    while linalg.norm(np.dot(A, x) - b) > error_tolerance:\n",
    "        for i in range(n):\n",
    "            x[i] = (1.0 / A[i, i]) * (b[i] \n",
    "                - np.dot(A[i, :i], x[:i]) - np.dot(A[i, i+1:], x[i+1:]))     \n",
    "        k = k + 1\n",
    "    print(k)\n",
    "    return x"
   ]
  },
  {
   "cell_type": "markdown",
   "metadata": {},
   "source": [
    "**Exercise 04.3:**"
   ]
  },
  {
   "cell_type": "code",
   "execution_count": 24,
   "metadata": {},
   "outputs": [],
   "source": [
    "def successive_overrelaxation_method(A, b, omega, error_tolerance):\n",
    "    \"\"\"\n",
    "    Solves system of linear equations iteratively using successive over-relaxation (SOR) method.\n",
    "    Args:\n",
    "        A (array_like): A n-by-n matrix\n",
    "        b (array_like): RHS vector of size n\n",
    "        omega (float): Relaxation factor\n",
    "        error_tolerance (float): Error tolerance\n",
    "    Returns:\n",
    "        numpy.ndarray: Vector of solution\n",
    "    \"\"\"\n",
    "    n, n = A.shape\n",
    "    x = np.zeros(n)\n",
    "    k = 0\n",
    "    while linalg.norm(np.dot(A, x) - b) > error_tolerance:\n",
    "        for i in range(n):\n",
    "            x[i] = (1.0 - omega) * x[i] +  (omega / A[i, i]) * (b[i] \n",
    "                - np.dot(A[i, :i], x[:i]) - np.dot(A[i, i+1:], x[i+1:]))\n",
    "        k = k + 1\n",
    "    print(k)\n",
    "    return x"
   ]
  },
  {
   "cell_type": "markdown",
   "metadata": {},
   "source": [
    "**Exercise 04.4:**"
   ]
  },
  {
   "cell_type": "code",
   "execution_count": 25,
   "metadata": {},
   "outputs": [
    {
     "name": "stdout",
     "output_type": "stream",
     "text": [
      "105\n",
      "99\n",
      "69\n"
     ]
    }
   ],
   "source": [
    "A = np.random.rand(100, 100) + 10 * np.eye(100) # create diagonally dominant matrix to ensure convergence\n",
    "b = np.random.rand(100)\n",
    "x = jacobi_method(A, b, 1.0e-15)\n",
    "x = gauss_seidel_method(A, b, 1.0e-15)\n",
    "x = successive_overrelaxation_method(A, b, 0.7, 1.0e-15)"
   ]
  },
  {
   "cell_type": "markdown",
   "metadata": {},
   "source": [
    "**Exercise 04.5:**"
   ]
  },
  {
   "cell_type": "code",
   "execution_count": 26,
   "metadata": {},
   "outputs": [],
   "source": [
    "def conjugate_gradient_method(A, b, error_tolerance):\n",
    "    \"\"\"\n",
    "    Solves system of linear equations using conjugate gradient method.\n",
    "    Args:\n",
    "        A (array_like): A n-by-n real, symmetric, and positive-definite matrix\n",
    "        b (array_like): RHS vector of size n\n",
    "        error_tolerance (float): Error tolerance\n",
    "    Returns:\n",
    "        numpy.ndarray: Vector of solution\n",
    "    \"\"\"\n",
    "    n, n = A.shape\n",
    "    x = np.zeros(n)\n",
    "    r = b - A @ x\n",
    "    p = r\n",
    "    while True:\n",
    "        alpha = (r.T @ r) / (p.T @ A @ p) \n",
    "        x = x + alpha * p\n",
    "        r_new = r - alpha * A @ p \n",
    "        if linalg.norm(r_new) < error_tolerance:\n",
    "            break          \n",
    "        beta = (r_new.T @ r_new) / (r.T @ r)\n",
    "        p = r_new + beta * p \n",
    "        r = r_new\n",
    "    return x"
   ]
  },
  {
   "cell_type": "markdown",
   "metadata": {},
   "source": [
    "**Exercise 04.6:**"
   ]
  },
  {
   "cell_type": "code",
   "execution_count": 27,
   "metadata": {},
   "outputs": [],
   "source": [
    "def power_iteration(A, max_it):\n",
    "    \"\"\"\n",
    "    Finds the greatest (in absolute value) eigen value of given matrix and its corresponding eigenvector.\n",
    "    Args:\n",
    "        A (array_like): A n-by-n diagonalizable matrix\n",
    "        max_it (int): Maximum number of iterations\n",
    "    Returns:\n",
    "        numpy.ndarray: Eigenvector corresponding to a greatest eigenvalue (in absolute value)\n",
    "        float: Greatest eigenvalue (in absolute value)\n",
    "    \"\"\"\n",
    "    n, n = A.shape\n",
    "    e_vec = np.random.rand(n)\n",
    "    for i in range(max_it):\n",
    "        e_vec_new = A @ e_vec\n",
    "        e_vec = e_vec_new / linalg.norm(e_vec_new)\n",
    "    e_val = linalg.norm(A @ e_vec)\n",
    "    return e_vec, e_val"
   ]
  }
 ],
 "metadata": {
  "kernelspec": {
   "display_name": "Python 3",
   "language": "python",
   "name": "python3"
  },
  "language_info": {
   "codemirror_mode": {
    "name": "ipython",
    "version": 3
   },
   "file_extension": ".py",
   "mimetype": "text/x-python",
   "name": "python",
   "nbconvert_exporter": "python",
   "pygments_lexer": "ipython3",
   "version": "3.8.5"
  }
 },
 "nbformat": 4,
 "nbformat_minor": 4
}
