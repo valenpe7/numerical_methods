{
 "cells": [
  {
   "cell_type": "code",
   "execution_count": 2,
   "metadata": {
    "collapsed": true
   },
   "outputs": [],
   "source": [
    "import numpy as np\n",
    "import matplotlib.pyplot as plt\n",
    "%matplotlib inline"
   ]
  },
  {
   "cell_type": "code",
   "execution_count": 68,
   "metadata": {
    "collapsed": true
   },
   "outputs": [],
   "source": [
    "def bisection(f, a, b, tol=1.0e-8, nmax=500):\n",
    "    n = 0\n",
    "    while n <= nmax:\n",
    "        c = (a + b) / 2.0\n",
    "        if f(a) * f(c) < 0: # 2 evals\n",
    "            b = c\n",
    "        else:\n",
    "            a = c\n",
    "        if f(c) == 0.0 or (b - a) / 2.0 < tol:\n",
    "            return c\n",
    "        n += 1\n",
    "    raise RuntimeError('no root found using', nmax, 'iterations')"
   ]
  },
  {
   "cell_type": "code",
   "execution_count": 178,
   "metadata": {},
   "outputs": [
    {
     "name": "stdout",
     "output_type": "stream",
     "text": [
      "0.5671432763338089\n"
     ]
    },
    {
     "data": {
      "text/plain": [
       "<matplotlib.legend.Legend at 0x25000df4c50>"
      ]
     },
     "execution_count": 178,
     "metadata": {},
     "output_type": "execute_result"
    },
    {
     "data": {
      "image/png": "[encoded data removed]",
      "text/plain": [
       "<matplotlib.figure.Figure at 0x25057356c88>"
      ]
     },
     "metadata": {},
     "output_type": "display_data"
    }
   ],
   "source": [
    "def f(x):\n",
    "    return x - np.exp(-x)\n",
    "\n",
    "root = bisection(f, -1., 1)\n",
    "print(root)\n",
    "\n",
    "x = np.linspace(-1.0, 1.0, 100)\n",
    "\n",
    "fig = plt.figure()\n",
    "ax = fig.add_subplot(1,1,1)\n",
    "ax.plot(x, f(x), label='f(x) = x - exp(x)')\n",
    "ax.plot(root, f(root), 'o', label='root')\n",
    "ax.axhline(y=0.0, color='black', linestyle='--')\n",
    "ax.set_xlabel('x')\n",
    "ax.set_ylabel('f(x)')\n",
    "ax.legend(loc='lower right')"
   ]
  },
  {
   "cell_type": "code",
   "execution_count": 70,
   "metadata": {
    "collapsed": true
   },
   "outputs": [],
   "source": [
    "def secant_method(f, a, b, tol=1.0e-8, nmax=500):\n",
    "    n = 0\n",
    "    while n <= nmax:\n",
    "        c = (f(b) * a - f(a) * b) / (f(b) - f(a))\n",
    "        a = b\n",
    "        b = c\n",
    "        if f(b) == 0.0 or abs(b - a) < tol:\n",
    "            return b\n",
    "        n += 1\n",
    "    raise RuntimeError('no root found using', nmax, 'iterations')"
   ]
  },
  {
   "cell_type": "code",
   "execution_count": 71,
   "metadata": {},
   "outputs": [
    {
     "name": "stdout",
     "output_type": "stream",
     "text": [
      "0.56714329041\n"
     ]
    }
   ],
   "source": [
    "def f(x):\n",
    "    return x - np.exp(-x)\n",
    "\n",
    "root = secant_method(f, -1.0, 1.0)\n",
    "print(root)"
   ]
  },
  {
   "cell_type": "code",
   "execution_count": 72,
   "metadata": {
    "collapsed": true
   },
   "outputs": [],
   "source": [
    "def regula_falsi(f, a, b, tol=1.0e-8, nmax=500):\n",
    "    n = 0\n",
    "    while n <= nmax:\n",
    "        c = (f(b) * a - f(a) * b) / (f(b) - f(a))\n",
    "        if f(a) * f(c) <= 0:\n",
    "            b = c\n",
    "        else:\n",
    "            a = c\n",
    "        if f(c) == 0.0 or abs(b - a) < tol:\n",
    "            return c\n",
    "        n += 1\n",
    "    raise RuntimeError('no root found using', nmax, 'iterations')"
   ]
  },
  {
   "cell_type": "code",
   "execution_count": 73,
   "metadata": {},
   "outputs": [
    {
     "name": "stdout",
     "output_type": "stream",
     "text": [
      "0.56714329041\n"
     ]
    }
   ],
   "source": [
    "def f(x):\n",
    "    return x - np.exp(-x)\n",
    "\n",
    "root = regula_falsi(f, -1.0, 1.0)\n",
    "print(root)"
   ]
  },
  {
   "cell_type": "code",
   "execution_count": 74,
   "metadata": {
    "collapsed": true
   },
   "outputs": [],
   "source": [
    "def newton_raphson_an(f, df, x0, tol=1.0e-8, nmax=500):\n",
    "    n = 0\n",
    "    while n <= nmax:\n",
    "        x1 = x0 - f(x0) / df(x0)\n",
    "        if f(x1) == 0 or abs(x1 - x0) < tol:\n",
    "            return x1\n",
    "        x0 = x1\n",
    "        n += 1\n",
    "    raise RuntimeError('no root found using', nmax, 'iterations')"
   ]
  },
  {
   "cell_type": "code",
   "execution_count": 75,
   "metadata": {},
   "outputs": [
    {
     "name": "stdout",
     "output_type": "stream",
     "text": [
      "0.56714329041\n"
     ]
    }
   ],
   "source": [
    "def f(x):\n",
    "    return x - np.exp(-x)\n",
    "\n",
    "def df(x):\n",
    "    return 1 + np.exp(-x)\n",
    "\n",
    "root = newton_raphson_an(f, df, -10.0)\n",
    "print(root)"
   ]
  },
  {
   "cell_type": "code",
   "execution_count": 76,
   "metadata": {
    "collapsed": true
   },
   "outputs": [],
   "source": [
    "def num_diff(f, x, h):\n",
    "    return (f(x + h) - f(x)) / h\n",
    "\n",
    "def newton_raphson_num(f, x0, tol=1.0e-8, nmax=100):\n",
    "    n = 0\n",
    "    while n <= nmax:\n",
    "        x1 = x0 - f(x0) / num_diff(f, x0, 1.0e-6)\n",
    "        if f(x1) == 0 or abs(x1 - x0) < tol:\n",
    "            return x1\n",
    "        x0 = x1\n",
    "        n += 1\n",
    "    raise RuntimeError('no root found using', nmax, 'iterations')"
   ]
  },
  {
   "cell_type": "code",
   "execution_count": 77,
   "metadata": {},
   "outputs": [
    {
     "name": "stdout",
     "output_type": "stream",
     "text": [
      "0.56714329041\n"
     ]
    }
   ],
   "source": [
    "def f(x):\n",
    "    return x - np.exp(-x)\n",
    "\n",
    "root = newton_raphson_num(f, -10.0)\n",
    "print(root)"
   ]
  },
  {
   "cell_type": "code",
   "execution_count": 103,
   "metadata": {
    "collapsed": true
   },
   "outputs": [],
   "source": [
    "def df_dx(f, x, y, h):\n",
    "    return (f(x + h, y) - f(x, y)) / h\n",
    "\n",
    "def df_dy(f, x, y, h):\n",
    "    return (f(x, y + h) - f(x, y)) / h\n",
    "\n",
    "def newton_raphson_2d(f1, f2, x0=0, y0=0, tol=1.0e-8, nmax=500):\n",
    "    n = 0\n",
    "    J = np.zeros((2, 2))\n",
    "    b = np.zeros(2)\n",
    "    while n <= nmax:\n",
    "        J[0][0] = df_dx(f1, x0, y0, 1.0e-6)\n",
    "        J[0][1] = df_dy(f1, x0, y0, 1.0e-6)\n",
    "        J[1][0] = df_dx(f2, x0, y0, 1.0e-6)\n",
    "        J[1][1] = df_dy(f2, x0, y0, 1.0e-6)\n",
    "        b[0] = -f1(x0, y0)\n",
    "        b[1] = -f2(x0, y0)\n",
    "        delta = np.linalg.solve(J, b)\n",
    "        x1 = x0 + delta[0]\n",
    "        y1 = y0 + delta[1]\n",
    "        if f1(x1, y1) == 0.0 and f2(x1, y1) == 0.0 or max(abs(x1 - x0), abs(y1 - y0)) < tol:\n",
    "            return x1, y1\n",
    "        x0 = x1\n",
    "        y0 = y1\n",
    "        n += 1\n",
    "    raise RuntimeError('no root found using', nmax, 'iterations')"
   ]
  },
  {
   "cell_type": "code",
   "execution_count": 181,
   "metadata": {},
   "outputs": [
    {
     "name": "stdout",
     "output_type": "stream",
     "text": [
      "0.637107845297 0.718818718692\n"
     ]
    },
    {
     "data": {
      "text/plain": [
       "<matplotlib.legend.Legend at 0x250059d85c0>"
      ]
     },
     "execution_count": 181,
     "metadata": {},
     "output_type": "execute_result"
    },
    {
     "data": {
      "image/png": "[encoded data removed]",
      "text/plain": [
       "<matplotlib.figure.Figure at 0x25003ea97b8>"
      ]
     },
     "metadata": {},
     "output_type": "display_data"
    }
   ],
   "source": [
    "def f1(x, y):\n",
    "    return x**2 + 4*x - y**2 - 2*y - 1\n",
    "\n",
    "def f2(x, y):\n",
    "    return x**2 + 5*y - 4\n",
    "\n",
    "x_root, y_root = newton_raphson_2d(f1, f2)\n",
    "print(x_root, y_root)\n",
    "\n",
    "x = np.linspace(-2.0, 2.0, 1000)\n",
    "y = np.linspace(-2.0, 2.0, 1000)\n",
    "X, Y = np.meshgrid(x, y)\n",
    "Z1 = f1(X, Y)\n",
    "Z2 = f2(X, Y)\n",
    "\n",
    "fig = plt.figure()\n",
    "ax = fig.add_subplot(1,1,1)\n",
    "a = ax.contour(X, Y, Z2, 0.0)\n",
    "b = ax.contour(X, Y, Z1, 0.0)\n",
    "ax.clabel(a)\n",
    "ax.clabel(b)\n",
    "ax.scatter(x_root, y_root, label='root')\n",
    "ax.set_xlabel('x')\n",
    "ax.set_ylabel('y')\n",
    "ax.legend(loc='lower left')"
   ]
  },
  {
   "cell_type": "code",
   "execution_count": null,
   "metadata": {
    "collapsed": true
   },
   "outputs": [],
   "source": []
  }
 ],
 "metadata": {
  "kernelspec": {
   "display_name": "Python 3",
   "language": "python",
   "name": "python3"
  },
  "language_info": {
   "codemirror_mode": {
    "name": "ipython",
    "version": 3
   },
   "file_extension": ".py",
   "mimetype": "text/x-python",
   "name": "python",
   "nbconvert_exporter": "python",
   "pygments_lexer": "ipython3",
   "version": "3.6.3"
  }
 },
 "nbformat": 4,
 "nbformat_minor": 2
}
